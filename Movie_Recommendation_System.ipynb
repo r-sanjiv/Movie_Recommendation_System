{
  "nbformat": 4,
  "nbformat_minor": 0,
  "metadata": {
    "colab": {
      "provenance": [],
      "toc_visible": true,
      "gpuType": "T4",
      "authorship_tag": "ABX9TyNSskKmNX5RVN90qPN3MeEw",
      "include_colab_link": true
    },
    "kernelspec": {
      "name": "python3",
      "display_name": "Python 3"
    },
    "language_info": {
      "name": "python"
    },
    "accelerator": "GPU"
  },
  "cells": [
    {
      "cell_type": "markdown",
      "metadata": {
        "id": "view-in-github",
        "colab_type": "text"
      },
      "source": [
        "<a href=\"https://colab.research.google.com/github/r-sanjiv/Movie_Recommendation_System/blob/main/Movie_Recommendation_System.ipynb\" target=\"_parent\"><img src=\"https://colab.research.google.com/assets/colab-badge.svg\" alt=\"Open In Colab\"/></a>"
      ]
    },
    {
      "cell_type": "code",
      "execution_count": 1,
      "metadata": {
        "id": "-zdiT132kG7j"
      },
      "outputs": [],
      "source": [
        "import pandas as pd\n",
        "import numpy as np"
      ]
    },
    {
      "cell_type": "code",
      "source": [
        "data = pd.read_csv(\"https://raw.githubusercontent.com/r-sanjiv/Movie_Recommendation_System/main/Movies%20Recommendation.csv\")\n",
        "data.head()"
      ],
      "metadata": {
        "colab": {
          "base_uri": "https://localhost:8080/",
          "height": 716
        },
        "id": "NjySYxMLkNRZ",
        "outputId": "196dbc6b-a9ee-4a21-e91d-b451249a0740"
      },
      "execution_count": 2,
      "outputs": [
        {
          "output_type": "execute_result",
          "data": {
            "text/plain": [
              "   Movie_ID      Movie_Title                       Movie_Genre Movie_Language  \\\n",
              "0         1       Four Rooms                      Crime Comedy             en   \n",
              "1         2        Star Wars  Adventure Action Science Fiction             en   \n",
              "2         3     Finding Nemo                  Animation Family             en   \n",
              "3         4     Forrest Gump              Comedy Drama Romance             en   \n",
              "4         5  American Beauty                             Drama             en   \n",
              "\n",
              "   Movie_Budget  Movie_Popularity Movie_Release_Date  Movie_Revenue  \\\n",
              "0       4000000         22.876230         09-12-1995        4300000   \n",
              "1      11000000        126.393695         25-05-1977      775398007   \n",
              "2      94000000         85.688789         30-05-2003      940335536   \n",
              "3      55000000        138.133331         06-07-1994      677945399   \n",
              "4      15000000         80.878605         15-09-1999      356296601   \n",
              "\n",
              "   Movie_Runtime  Movie_Vote  ...  \\\n",
              "0           98.0         6.5  ...   \n",
              "1          121.0         8.1  ...   \n",
              "2          100.0         7.6  ...   \n",
              "3          142.0         8.2  ...   \n",
              "4          122.0         7.9  ...   \n",
              "\n",
              "                                      Movie_Homepage  \\\n",
              "0                                                NaN   \n",
              "1  http://www.starwars.com/films/star-wars-episod...   \n",
              "2              http://movies.disney.com/finding-nemo   \n",
              "3                                                NaN   \n",
              "4                      http://www.dreamworks.com/ab/   \n",
              "\n",
              "                                      Movie_Keywords  \\\n",
              "0          hotel new year's eve witch bet hotel room   \n",
              "1        android galaxy hermit death star lightsaber   \n",
              "2  father son relationship harbor underwater fish...   \n",
              "3  vietnam veteran hippie mentally disabled runni...   \n",
              "4  male nudity female nudity adultery midlife cri...   \n",
              "\n",
              "                                      Movie_Overview  \\\n",
              "0  It's Ted the Bellhop's first night on the job....   \n",
              "1  Princess Leia is captured and held hostage by ...   \n",
              "2  Nemo, an adventurous young clownfish, is unexp...   \n",
              "3  A man with a low IQ has accomplished great thi...   \n",
              "4  Lester Burnham, a depressed suburban father in...   \n",
              "\n",
              "                              Movie_Production_House  \\\n",
              "0  [{\"name\": \"Miramax Films\", \"id\": 14}, {\"name\":...   \n",
              "1  [{\"name\": \"Lucasfilm\", \"id\": 1}, {\"name\": \"Twe...   \n",
              "2     [{\"name\": \"Pixar Animation Studios\", \"id\": 3}]   \n",
              "3          [{\"name\": \"Paramount Pictures\", \"id\": 4}]   \n",
              "4  [{\"name\": \"DreamWorks SKG\", \"id\": 27}, {\"name\"...   \n",
              "\n",
              "                            Movie_Production_Country  \\\n",
              "0  [{\"iso_3166_1\": \"US\", \"name\": \"United States o...   \n",
              "1  [{\"iso_3166_1\": \"US\", \"name\": \"United States o...   \n",
              "2  [{\"iso_3166_1\": \"US\", \"name\": \"United States o...   \n",
              "3  [{\"iso_3166_1\": \"US\", \"name\": \"United States o...   \n",
              "4  [{\"iso_3166_1\": \"US\", \"name\": \"United States o...   \n",
              "\n",
              "                      Movie_Spoken_Language  \\\n",
              "0  [{\"iso_639_1\": \"en\", \"name\": \"English\"}]   \n",
              "1  [{\"iso_639_1\": \"en\", \"name\": \"English\"}]   \n",
              "2  [{\"iso_639_1\": \"en\", \"name\": \"English\"}]   \n",
              "3  [{\"iso_639_1\": \"en\", \"name\": \"English\"}]   \n",
              "4  [{\"iso_639_1\": \"en\", \"name\": \"English\"}]   \n",
              "\n",
              "                                       Movie_Tagline  \\\n",
              "0  Twelve outrageous guests. Four scandalous requ...   \n",
              "1       A long time ago in a galaxy far, far away...   \n",
              "2  There are 3.7 trillion fish in the ocean, they...   \n",
              "3  The world will never be the same, once you've ...   \n",
              "4                                       Look closer.   \n",
              "\n",
              "                                          Movie_Cast  \\\n",
              "0  Tim Roth Antonio Banderas Jennifer Beals Madon...   \n",
              "1  Mark Hamill Harrison Ford Carrie Fisher Peter ...   \n",
              "2  Albert Brooks Ellen DeGeneres Alexander Gould ...   \n",
              "3  Tom Hanks Robin Wright Gary Sinise Mykelti Wil...   \n",
              "4  Kevin Spacey Annette Bening Thora Birch Wes Be...   \n",
              "\n",
              "                                          Movie_Crew   Movie_Director  \n",
              "0  [{'name': 'Allison Anders', 'gender': 1, 'depa...   Allison Anders  \n",
              "1  [{'name': 'George Lucas', 'gender': 2, 'depart...     George Lucas  \n",
              "2  [{'name': 'Andrew Stanton', 'gender': 2, 'depa...   Andrew Stanton  \n",
              "3  [{'name': 'Alan Silvestri', 'gender': 2, 'depa...  Robert Zemeckis  \n",
              "4  [{'name': 'Thomas Newman', 'gender': 2, 'depar...       Sam Mendes  \n",
              "\n",
              "[5 rows x 21 columns]"
            ],
            "text/html": [
              "\n",
              "\n",
              "  <div id=\"df-36004d45-7e4a-491b-8b1c-a2adbecab836\">\n",
              "    <div class=\"colab-df-container\">\n",
              "      <div>\n",
              "<style scoped>\n",
              "    .dataframe tbody tr th:only-of-type {\n",
              "        vertical-align: middle;\n",
              "    }\n",
              "\n",
              "    .dataframe tbody tr th {\n",
              "        vertical-align: top;\n",
              "    }\n",
              "\n",
              "    .dataframe thead th {\n",
              "        text-align: right;\n",
              "    }\n",
              "</style>\n",
              "<table border=\"1\" class=\"dataframe\">\n",
              "  <thead>\n",
              "    <tr style=\"text-align: right;\">\n",
              "      <th></th>\n",
              "      <th>Movie_ID</th>\n",
              "      <th>Movie_Title</th>\n",
              "      <th>Movie_Genre</th>\n",
              "      <th>Movie_Language</th>\n",
              "      <th>Movie_Budget</th>\n",
              "      <th>Movie_Popularity</th>\n",
              "      <th>Movie_Release_Date</th>\n",
              "      <th>Movie_Revenue</th>\n",
              "      <th>Movie_Runtime</th>\n",
              "      <th>Movie_Vote</th>\n",
              "      <th>...</th>\n",
              "      <th>Movie_Homepage</th>\n",
              "      <th>Movie_Keywords</th>\n",
              "      <th>Movie_Overview</th>\n",
              "      <th>Movie_Production_House</th>\n",
              "      <th>Movie_Production_Country</th>\n",
              "      <th>Movie_Spoken_Language</th>\n",
              "      <th>Movie_Tagline</th>\n",
              "      <th>Movie_Cast</th>\n",
              "      <th>Movie_Crew</th>\n",
              "      <th>Movie_Director</th>\n",
              "    </tr>\n",
              "  </thead>\n",
              "  <tbody>\n",
              "    <tr>\n",
              "      <th>0</th>\n",
              "      <td>1</td>\n",
              "      <td>Four Rooms</td>\n",
              "      <td>Crime Comedy</td>\n",
              "      <td>en</td>\n",
              "      <td>4000000</td>\n",
              "      <td>22.876230</td>\n",
              "      <td>09-12-1995</td>\n",
              "      <td>4300000</td>\n",
              "      <td>98.0</td>\n",
              "      <td>6.5</td>\n",
              "      <td>...</td>\n",
              "      <td>NaN</td>\n",
              "      <td>hotel new year's eve witch bet hotel room</td>\n",
              "      <td>It's Ted the Bellhop's first night on the job....</td>\n",
              "      <td>[{\"name\": \"Miramax Films\", \"id\": 14}, {\"name\":...</td>\n",
              "      <td>[{\"iso_3166_1\": \"US\", \"name\": \"United States o...</td>\n",
              "      <td>[{\"iso_639_1\": \"en\", \"name\": \"English\"}]</td>\n",
              "      <td>Twelve outrageous guests. Four scandalous requ...</td>\n",
              "      <td>Tim Roth Antonio Banderas Jennifer Beals Madon...</td>\n",
              "      <td>[{'name': 'Allison Anders', 'gender': 1, 'depa...</td>\n",
              "      <td>Allison Anders</td>\n",
              "    </tr>\n",
              "    <tr>\n",
              "      <th>1</th>\n",
              "      <td>2</td>\n",
              "      <td>Star Wars</td>\n",
              "      <td>Adventure Action Science Fiction</td>\n",
              "      <td>en</td>\n",
              "      <td>11000000</td>\n",
              "      <td>126.393695</td>\n",
              "      <td>25-05-1977</td>\n",
              "      <td>775398007</td>\n",
              "      <td>121.0</td>\n",
              "      <td>8.1</td>\n",
              "      <td>...</td>\n",
              "      <td>http://www.starwars.com/films/star-wars-episod...</td>\n",
              "      <td>android galaxy hermit death star lightsaber</td>\n",
              "      <td>Princess Leia is captured and held hostage by ...</td>\n",
              "      <td>[{\"name\": \"Lucasfilm\", \"id\": 1}, {\"name\": \"Twe...</td>\n",
              "      <td>[{\"iso_3166_1\": \"US\", \"name\": \"United States o...</td>\n",
              "      <td>[{\"iso_639_1\": \"en\", \"name\": \"English\"}]</td>\n",
              "      <td>A long time ago in a galaxy far, far away...</td>\n",
              "      <td>Mark Hamill Harrison Ford Carrie Fisher Peter ...</td>\n",
              "      <td>[{'name': 'George Lucas', 'gender': 2, 'depart...</td>\n",
              "      <td>George Lucas</td>\n",
              "    </tr>\n",
              "    <tr>\n",
              "      <th>2</th>\n",
              "      <td>3</td>\n",
              "      <td>Finding Nemo</td>\n",
              "      <td>Animation Family</td>\n",
              "      <td>en</td>\n",
              "      <td>94000000</td>\n",
              "      <td>85.688789</td>\n",
              "      <td>30-05-2003</td>\n",
              "      <td>940335536</td>\n",
              "      <td>100.0</td>\n",
              "      <td>7.6</td>\n",
              "      <td>...</td>\n",
              "      <td>http://movies.disney.com/finding-nemo</td>\n",
              "      <td>father son relationship harbor underwater fish...</td>\n",
              "      <td>Nemo, an adventurous young clownfish, is unexp...</td>\n",
              "      <td>[{\"name\": \"Pixar Animation Studios\", \"id\": 3}]</td>\n",
              "      <td>[{\"iso_3166_1\": \"US\", \"name\": \"United States o...</td>\n",
              "      <td>[{\"iso_639_1\": \"en\", \"name\": \"English\"}]</td>\n",
              "      <td>There are 3.7 trillion fish in the ocean, they...</td>\n",
              "      <td>Albert Brooks Ellen DeGeneres Alexander Gould ...</td>\n",
              "      <td>[{'name': 'Andrew Stanton', 'gender': 2, 'depa...</td>\n",
              "      <td>Andrew Stanton</td>\n",
              "    </tr>\n",
              "    <tr>\n",
              "      <th>3</th>\n",
              "      <td>4</td>\n",
              "      <td>Forrest Gump</td>\n",
              "      <td>Comedy Drama Romance</td>\n",
              "      <td>en</td>\n",
              "      <td>55000000</td>\n",
              "      <td>138.133331</td>\n",
              "      <td>06-07-1994</td>\n",
              "      <td>677945399</td>\n",
              "      <td>142.0</td>\n",
              "      <td>8.2</td>\n",
              "      <td>...</td>\n",
              "      <td>NaN</td>\n",
              "      <td>vietnam veteran hippie mentally disabled runni...</td>\n",
              "      <td>A man with a low IQ has accomplished great thi...</td>\n",
              "      <td>[{\"name\": \"Paramount Pictures\", \"id\": 4}]</td>\n",
              "      <td>[{\"iso_3166_1\": \"US\", \"name\": \"United States o...</td>\n",
              "      <td>[{\"iso_639_1\": \"en\", \"name\": \"English\"}]</td>\n",
              "      <td>The world will never be the same, once you've ...</td>\n",
              "      <td>Tom Hanks Robin Wright Gary Sinise Mykelti Wil...</td>\n",
              "      <td>[{'name': 'Alan Silvestri', 'gender': 2, 'depa...</td>\n",
              "      <td>Robert Zemeckis</td>\n",
              "    </tr>\n",
              "    <tr>\n",
              "      <th>4</th>\n",
              "      <td>5</td>\n",
              "      <td>American Beauty</td>\n",
              "      <td>Drama</td>\n",
              "      <td>en</td>\n",
              "      <td>15000000</td>\n",
              "      <td>80.878605</td>\n",
              "      <td>15-09-1999</td>\n",
              "      <td>356296601</td>\n",
              "      <td>122.0</td>\n",
              "      <td>7.9</td>\n",
              "      <td>...</td>\n",
              "      <td>http://www.dreamworks.com/ab/</td>\n",
              "      <td>male nudity female nudity adultery midlife cri...</td>\n",
              "      <td>Lester Burnham, a depressed suburban father in...</td>\n",
              "      <td>[{\"name\": \"DreamWorks SKG\", \"id\": 27}, {\"name\"...</td>\n",
              "      <td>[{\"iso_3166_1\": \"US\", \"name\": \"United States o...</td>\n",
              "      <td>[{\"iso_639_1\": \"en\", \"name\": \"English\"}]</td>\n",
              "      <td>Look closer.</td>\n",
              "      <td>Kevin Spacey Annette Bening Thora Birch Wes Be...</td>\n",
              "      <td>[{'name': 'Thomas Newman', 'gender': 2, 'depar...</td>\n",
              "      <td>Sam Mendes</td>\n",
              "    </tr>\n",
              "  </tbody>\n",
              "</table>\n",
              "<p>5 rows × 21 columns</p>\n",
              "</div>\n",
              "      <button class=\"colab-df-convert\" onclick=\"convertToInteractive('df-36004d45-7e4a-491b-8b1c-a2adbecab836')\"\n",
              "              title=\"Convert this dataframe to an interactive table.\"\n",
              "              style=\"display:none;\">\n",
              "\n",
              "  <svg xmlns=\"http://www.w3.org/2000/svg\" height=\"24px\"viewBox=\"0 0 24 24\"\n",
              "       width=\"24px\">\n",
              "    <path d=\"M0 0h24v24H0V0z\" fill=\"none\"/>\n",
              "    <path d=\"M18.56 5.44l.94 2.06.94-2.06 2.06-.94-2.06-.94-.94-2.06-.94 2.06-2.06.94zm-11 1L8.5 8.5l.94-2.06 2.06-.94-2.06-.94L8.5 2.5l-.94 2.06-2.06.94zm10 10l.94 2.06.94-2.06 2.06-.94-2.06-.94-.94-2.06-.94 2.06-2.06.94z\"/><path d=\"M17.41 7.96l-1.37-1.37c-.4-.4-.92-.59-1.43-.59-.52 0-1.04.2-1.43.59L10.3 9.45l-7.72 7.72c-.78.78-.78 2.05 0 2.83L4 21.41c.39.39.9.59 1.41.59.51 0 1.02-.2 1.41-.59l7.78-7.78 2.81-2.81c.8-.78.8-2.07 0-2.86zM5.41 20L4 18.59l7.72-7.72 1.47 1.35L5.41 20z\"/>\n",
              "  </svg>\n",
              "      </button>\n",
              "\n",
              "\n",
              "\n",
              "    <div id=\"df-dfabbb7a-be5d-49e4-94cb-07fb606e8bb3\">\n",
              "      <button class=\"colab-df-quickchart\" onclick=\"quickchart('df-dfabbb7a-be5d-49e4-94cb-07fb606e8bb3')\"\n",
              "              title=\"Suggest charts.\"\n",
              "              style=\"display:none;\">\n",
              "\n",
              "<svg xmlns=\"http://www.w3.org/2000/svg\" height=\"24px\"viewBox=\"0 0 24 24\"\n",
              "     width=\"24px\">\n",
              "    <g>\n",
              "        <path d=\"M19 3H5c-1.1 0-2 .9-2 2v14c0 1.1.9 2 2 2h14c1.1 0 2-.9 2-2V5c0-1.1-.9-2-2-2zM9 17H7v-7h2v7zm4 0h-2V7h2v10zm4 0h-2v-4h2v4z\"/>\n",
              "    </g>\n",
              "</svg>\n",
              "      </button>\n",
              "    </div>\n",
              "\n",
              "<style>\n",
              "  .colab-df-quickchart {\n",
              "    background-color: #E8F0FE;\n",
              "    border: none;\n",
              "    border-radius: 50%;\n",
              "    cursor: pointer;\n",
              "    display: none;\n",
              "    fill: #1967D2;\n",
              "    height: 32px;\n",
              "    padding: 0 0 0 0;\n",
              "    width: 32px;\n",
              "  }\n",
              "\n",
              "  .colab-df-quickchart:hover {\n",
              "    background-color: #E2EBFA;\n",
              "    box-shadow: 0px 1px 2px rgba(60, 64, 67, 0.3), 0px 1px 3px 1px rgba(60, 64, 67, 0.15);\n",
              "    fill: #174EA6;\n",
              "  }\n",
              "\n",
              "  [theme=dark] .colab-df-quickchart {\n",
              "    background-color: #3B4455;\n",
              "    fill: #D2E3FC;\n",
              "  }\n",
              "\n",
              "  [theme=dark] .colab-df-quickchart:hover {\n",
              "    background-color: #434B5C;\n",
              "    box-shadow: 0px 1px 3px 1px rgba(0, 0, 0, 0.15);\n",
              "    filter: drop-shadow(0px 1px 2px rgba(0, 0, 0, 0.3));\n",
              "    fill: #FFFFFF;\n",
              "  }\n",
              "</style>\n",
              "\n",
              "    <script>\n",
              "      async function quickchart(key) {\n",
              "        const containerElement = document.querySelector('#' + key);\n",
              "        const charts = await google.colab.kernel.invokeFunction(\n",
              "            'suggestCharts', [key], {});\n",
              "      }\n",
              "    </script>\n",
              "\n",
              "      <script>\n",
              "\n",
              "function displayQuickchartButton(domScope) {\n",
              "  let quickchartButtonEl =\n",
              "    domScope.querySelector('#df-dfabbb7a-be5d-49e4-94cb-07fb606e8bb3 button.colab-df-quickchart');\n",
              "  quickchartButtonEl.style.display =\n",
              "    google.colab.kernel.accessAllowed ? 'block' : 'none';\n",
              "}\n",
              "\n",
              "        displayQuickchartButton(document);\n",
              "      </script>\n",
              "      <style>\n",
              "    .colab-df-container {\n",
              "      display:flex;\n",
              "      flex-wrap:wrap;\n",
              "      gap: 12px;\n",
              "    }\n",
              "\n",
              "    .colab-df-convert {\n",
              "      background-color: #E8F0FE;\n",
              "      border: none;\n",
              "      border-radius: 50%;\n",
              "      cursor: pointer;\n",
              "      display: none;\n",
              "      fill: #1967D2;\n",
              "      height: 32px;\n",
              "      padding: 0 0 0 0;\n",
              "      width: 32px;\n",
              "    }\n",
              "\n",
              "    .colab-df-convert:hover {\n",
              "      background-color: #E2EBFA;\n",
              "      box-shadow: 0px 1px 2px rgba(60, 64, 67, 0.3), 0px 1px 3px 1px rgba(60, 64, 67, 0.15);\n",
              "      fill: #174EA6;\n",
              "    }\n",
              "\n",
              "    [theme=dark] .colab-df-convert {\n",
              "      background-color: #3B4455;\n",
              "      fill: #D2E3FC;\n",
              "    }\n",
              "\n",
              "    [theme=dark] .colab-df-convert:hover {\n",
              "      background-color: #434B5C;\n",
              "      box-shadow: 0px 1px 3px 1px rgba(0, 0, 0, 0.15);\n",
              "      filter: drop-shadow(0px 1px 2px rgba(0, 0, 0, 0.3));\n",
              "      fill: #FFFFFF;\n",
              "    }\n",
              "  </style>\n",
              "\n",
              "      <script>\n",
              "        const buttonEl =\n",
              "          document.querySelector('#df-36004d45-7e4a-491b-8b1c-a2adbecab836 button.colab-df-convert');\n",
              "        buttonEl.style.display =\n",
              "          google.colab.kernel.accessAllowed ? 'block' : 'none';\n",
              "\n",
              "        async function convertToInteractive(key) {\n",
              "          const element = document.querySelector('#df-36004d45-7e4a-491b-8b1c-a2adbecab836');\n",
              "          const dataTable =\n",
              "            await google.colab.kernel.invokeFunction('convertToInteractive',\n",
              "                                                     [key], {});\n",
              "          if (!dataTable) return;\n",
              "\n",
              "          const docLinkHtml = 'Like what you see? Visit the ' +\n",
              "            '<a target=\"_blank\" href=https://colab.research.google.com/notebooks/data_table.ipynb>data table notebook</a>'\n",
              "            + ' to learn more about interactive tables.';\n",
              "          element.innerHTML = '';\n",
              "          dataTable['output_type'] = 'display_data';\n",
              "          await google.colab.output.renderOutput(dataTable, element);\n",
              "          const docLink = document.createElement('div');\n",
              "          docLink.innerHTML = docLinkHtml;\n",
              "          element.appendChild(docLink);\n",
              "        }\n",
              "      </script>\n",
              "    </div>\n",
              "  </div>\n"
            ]
          },
          "metadata": {},
          "execution_count": 2
        }
      ]
    },
    {
      "cell_type": "code",
      "source": [
        "data.info()"
      ],
      "metadata": {
        "colab": {
          "base_uri": "https://localhost:8080/"
        },
        "id": "ekwtMzTDlA9n",
        "outputId": "a3eb2a4b-b4f9-45d2-8937-b77f8fb8611b"
      },
      "execution_count": 3,
      "outputs": [
        {
          "output_type": "stream",
          "name": "stdout",
          "text": [
            "<class 'pandas.core.frame.DataFrame'>\n",
            "RangeIndex: 4760 entries, 0 to 4759\n",
            "Data columns (total 21 columns):\n",
            " #   Column                    Non-Null Count  Dtype  \n",
            "---  ------                    --------------  -----  \n",
            " 0   Movie_ID                  4760 non-null   int64  \n",
            " 1   Movie_Title               4760 non-null   object \n",
            " 2   Movie_Genre               4760 non-null   object \n",
            " 3   Movie_Language            4760 non-null   object \n",
            " 4   Movie_Budget              4760 non-null   int64  \n",
            " 5   Movie_Popularity          4760 non-null   float64\n",
            " 6   Movie_Release_Date        4760 non-null   object \n",
            " 7   Movie_Revenue             4760 non-null   int64  \n",
            " 8   Movie_Runtime             4758 non-null   float64\n",
            " 9   Movie_Vote                4760 non-null   float64\n",
            " 10  Movie_Vote_Count          4760 non-null   int64  \n",
            " 11  Movie_Homepage            1699 non-null   object \n",
            " 12  Movie_Keywords            4373 non-null   object \n",
            " 13  Movie_Overview            4757 non-null   object \n",
            " 14  Movie_Production_House    4760 non-null   object \n",
            " 15  Movie_Production_Country  4760 non-null   object \n",
            " 16  Movie_Spoken_Language     4760 non-null   object \n",
            " 17  Movie_Tagline             3942 non-null   object \n",
            " 18  Movie_Cast                4733 non-null   object \n",
            " 19  Movie_Crew                4760 non-null   object \n",
            " 20  Movie_Director            4738 non-null   object \n",
            "dtypes: float64(3), int64(4), object(14)\n",
            "memory usage: 781.1+ KB\n"
          ]
        }
      ]
    },
    {
      "cell_type": "code",
      "source": [
        "data.shape"
      ],
      "metadata": {
        "colab": {
          "base_uri": "https://localhost:8080/"
        },
        "id": "DJfuByLClzp9",
        "outputId": "56fbfe71-ded2-48a8-8ddf-7c5df04b0337"
      },
      "execution_count": 4,
      "outputs": [
        {
          "output_type": "execute_result",
          "data": {
            "text/plain": [
              "(4760, 21)"
            ]
          },
          "metadata": {},
          "execution_count": 4
        }
      ]
    },
    {
      "cell_type": "code",
      "source": [
        "data.columns"
      ],
      "metadata": {
        "colab": {
          "base_uri": "https://localhost:8080/"
        },
        "id": "LME56MC9l0zs",
        "outputId": "dee2ee60-7922-4e14-9f39-aabc17c57b45"
      },
      "execution_count": 5,
      "outputs": [
        {
          "output_type": "execute_result",
          "data": {
            "text/plain": [
              "Index(['Movie_ID', 'Movie_Title', 'Movie_Genre', 'Movie_Language',\n",
              "       'Movie_Budget', 'Movie_Popularity', 'Movie_Release_Date',\n",
              "       'Movie_Revenue', 'Movie_Runtime', 'Movie_Vote', 'Movie_Vote_Count',\n",
              "       'Movie_Homepage', 'Movie_Keywords', 'Movie_Overview',\n",
              "       'Movie_Production_House', 'Movie_Production_Country',\n",
              "       'Movie_Spoken_Language', 'Movie_Tagline', 'Movie_Cast', 'Movie_Crew',\n",
              "       'Movie_Director'],\n",
              "      dtype='object')"
            ]
          },
          "metadata": {},
          "execution_count": 5
        }
      ]
    },
    {
      "cell_type": "code",
      "source": [
        "data_features = data[[\"Movie_Genre\", \"Movie_Keywords\", \"Movie_Tagline\", \"Movie_Cast\", \"Movie_Director\"]].fillna('')"
      ],
      "metadata": {
        "id": "4lGZMe2vl9cC"
      },
      "execution_count": 6,
      "outputs": []
    },
    {
      "cell_type": "code",
      "source": [
        "data_features.shape"
      ],
      "metadata": {
        "colab": {
          "base_uri": "https://localhost:8080/"
        },
        "id": "d76VsssvmAog",
        "outputId": "b18df9c8-b719-49c0-9fd9-1f35813c737e"
      },
      "execution_count": 7,
      "outputs": [
        {
          "output_type": "execute_result",
          "data": {
            "text/plain": [
              "(4760, 5)"
            ]
          },
          "metadata": {},
          "execution_count": 7
        }
      ]
    },
    {
      "cell_type": "code",
      "source": [
        "data_features"
      ],
      "metadata": {
        "colab": {
          "base_uri": "https://localhost:8080/",
          "height": 641
        },
        "id": "GYiUYBNJnJRk",
        "outputId": "4839f846-d669-4d88-cf7a-b2f019f6264e"
      },
      "execution_count": 8,
      "outputs": [
        {
          "output_type": "execute_result",
          "data": {
            "text/plain": [
              "                           Movie_Genre  \\\n",
              "0                         Crime Comedy   \n",
              "1     Adventure Action Science Fiction   \n",
              "2                     Animation Family   \n",
              "3                 Comedy Drama Romance   \n",
              "4                                Drama   \n",
              "...                                ...   \n",
              "4755                            Horror   \n",
              "4756               Comedy Family Drama   \n",
              "4757                    Thriller Drama   \n",
              "4758                            Family   \n",
              "4759                       Documentary   \n",
              "\n",
              "                                         Movie_Keywords  \\\n",
              "0             hotel new year's eve witch bet hotel room   \n",
              "1           android galaxy hermit death star lightsaber   \n",
              "2     father son relationship harbor underwater fish...   \n",
              "3     vietnam veteran hippie mentally disabled runni...   \n",
              "4     male nudity female nudity adultery midlife cri...   \n",
              "...                                                 ...   \n",
              "4755                                                      \n",
              "4756                                                      \n",
              "4757                     christian film sex trafficking   \n",
              "4758                                                      \n",
              "4759  music actors legendary perfomer classic hollyw...   \n",
              "\n",
              "                                          Movie_Tagline  \\\n",
              "0     Twelve outrageous guests. Four scandalous requ...   \n",
              "1          A long time ago in a galaxy far, far away...   \n",
              "2     There are 3.7 trillion fish in the ocean, they...   \n",
              "3     The world will never be the same, once you've ...   \n",
              "4                                          Look closer.   \n",
              "...                                                 ...   \n",
              "4755                The hot spot where Satan's waitin'.   \n",
              "4756           It’s better to stand out than to fit in.   \n",
              "4757           She never knew it could happen to her...   \n",
              "4758                                                      \n",
              "4759                                                      \n",
              "\n",
              "                                             Movie_Cast     Movie_Director  \n",
              "0     Tim Roth Antonio Banderas Jennifer Beals Madon...     Allison Anders  \n",
              "1     Mark Hamill Harrison Ford Carrie Fisher Peter ...       George Lucas  \n",
              "2     Albert Brooks Ellen DeGeneres Alexander Gould ...     Andrew Stanton  \n",
              "3     Tom Hanks Robin Wright Gary Sinise Mykelti Wil...    Robert Zemeckis  \n",
              "4     Kevin Spacey Annette Bening Thora Birch Wes Be...         Sam Mendes  \n",
              "...                                                 ...                ...  \n",
              "4755  Lisa Hart Carroll Michael Des Barres Paul Drak...         Pece Dingo  \n",
              "4756  Roni Akurati Brighton Sharbino Jason Lee Anjul...       Frank Lotito  \n",
              "4757  Nicole Smolen Kim Baldwin Ariana Stephens Brys...       Jaco Booyens  \n",
              "4758                                                                        \n",
              "4759                                    Tony Oppedisano  Simon Napier-Bell  \n",
              "\n",
              "[4760 rows x 5 columns]"
            ],
            "text/html": [
              "\n",
              "\n",
              "  <div id=\"df-375ab107-3fd6-47a4-b358-86881e419b00\">\n",
              "    <div class=\"colab-df-container\">\n",
              "      <div>\n",
              "<style scoped>\n",
              "    .dataframe tbody tr th:only-of-type {\n",
              "        vertical-align: middle;\n",
              "    }\n",
              "\n",
              "    .dataframe tbody tr th {\n",
              "        vertical-align: top;\n",
              "    }\n",
              "\n",
              "    .dataframe thead th {\n",
              "        text-align: right;\n",
              "    }\n",
              "</style>\n",
              "<table border=\"1\" class=\"dataframe\">\n",
              "  <thead>\n",
              "    <tr style=\"text-align: right;\">\n",
              "      <th></th>\n",
              "      <th>Movie_Genre</th>\n",
              "      <th>Movie_Keywords</th>\n",
              "      <th>Movie_Tagline</th>\n",
              "      <th>Movie_Cast</th>\n",
              "      <th>Movie_Director</th>\n",
              "    </tr>\n",
              "  </thead>\n",
              "  <tbody>\n",
              "    <tr>\n",
              "      <th>0</th>\n",
              "      <td>Crime Comedy</td>\n",
              "      <td>hotel new year's eve witch bet hotel room</td>\n",
              "      <td>Twelve outrageous guests. Four scandalous requ...</td>\n",
              "      <td>Tim Roth Antonio Banderas Jennifer Beals Madon...</td>\n",
              "      <td>Allison Anders</td>\n",
              "    </tr>\n",
              "    <tr>\n",
              "      <th>1</th>\n",
              "      <td>Adventure Action Science Fiction</td>\n",
              "      <td>android galaxy hermit death star lightsaber</td>\n",
              "      <td>A long time ago in a galaxy far, far away...</td>\n",
              "      <td>Mark Hamill Harrison Ford Carrie Fisher Peter ...</td>\n",
              "      <td>George Lucas</td>\n",
              "    </tr>\n",
              "    <tr>\n",
              "      <th>2</th>\n",
              "      <td>Animation Family</td>\n",
              "      <td>father son relationship harbor underwater fish...</td>\n",
              "      <td>There are 3.7 trillion fish in the ocean, they...</td>\n",
              "      <td>Albert Brooks Ellen DeGeneres Alexander Gould ...</td>\n",
              "      <td>Andrew Stanton</td>\n",
              "    </tr>\n",
              "    <tr>\n",
              "      <th>3</th>\n",
              "      <td>Comedy Drama Romance</td>\n",
              "      <td>vietnam veteran hippie mentally disabled runni...</td>\n",
              "      <td>The world will never be the same, once you've ...</td>\n",
              "      <td>Tom Hanks Robin Wright Gary Sinise Mykelti Wil...</td>\n",
              "      <td>Robert Zemeckis</td>\n",
              "    </tr>\n",
              "    <tr>\n",
              "      <th>4</th>\n",
              "      <td>Drama</td>\n",
              "      <td>male nudity female nudity adultery midlife cri...</td>\n",
              "      <td>Look closer.</td>\n",
              "      <td>Kevin Spacey Annette Bening Thora Birch Wes Be...</td>\n",
              "      <td>Sam Mendes</td>\n",
              "    </tr>\n",
              "    <tr>\n",
              "      <th>...</th>\n",
              "      <td>...</td>\n",
              "      <td>...</td>\n",
              "      <td>...</td>\n",
              "      <td>...</td>\n",
              "      <td>...</td>\n",
              "    </tr>\n",
              "    <tr>\n",
              "      <th>4755</th>\n",
              "      <td>Horror</td>\n",
              "      <td></td>\n",
              "      <td>The hot spot where Satan's waitin'.</td>\n",
              "      <td>Lisa Hart Carroll Michael Des Barres Paul Drak...</td>\n",
              "      <td>Pece Dingo</td>\n",
              "    </tr>\n",
              "    <tr>\n",
              "      <th>4756</th>\n",
              "      <td>Comedy Family Drama</td>\n",
              "      <td></td>\n",
              "      <td>It’s better to stand out than to fit in.</td>\n",
              "      <td>Roni Akurati Brighton Sharbino Jason Lee Anjul...</td>\n",
              "      <td>Frank Lotito</td>\n",
              "    </tr>\n",
              "    <tr>\n",
              "      <th>4757</th>\n",
              "      <td>Thriller Drama</td>\n",
              "      <td>christian film sex trafficking</td>\n",
              "      <td>She never knew it could happen to her...</td>\n",
              "      <td>Nicole Smolen Kim Baldwin Ariana Stephens Brys...</td>\n",
              "      <td>Jaco Booyens</td>\n",
              "    </tr>\n",
              "    <tr>\n",
              "      <th>4758</th>\n",
              "      <td>Family</td>\n",
              "      <td></td>\n",
              "      <td></td>\n",
              "      <td></td>\n",
              "      <td></td>\n",
              "    </tr>\n",
              "    <tr>\n",
              "      <th>4759</th>\n",
              "      <td>Documentary</td>\n",
              "      <td>music actors legendary perfomer classic hollyw...</td>\n",
              "      <td></td>\n",
              "      <td>Tony Oppedisano</td>\n",
              "      <td>Simon Napier-Bell</td>\n",
              "    </tr>\n",
              "  </tbody>\n",
              "</table>\n",
              "<p>4760 rows × 5 columns</p>\n",
              "</div>\n",
              "      <button class=\"colab-df-convert\" onclick=\"convertToInteractive('df-375ab107-3fd6-47a4-b358-86881e419b00')\"\n",
              "              title=\"Convert this dataframe to an interactive table.\"\n",
              "              style=\"display:none;\">\n",
              "\n",
              "  <svg xmlns=\"http://www.w3.org/2000/svg\" height=\"24px\"viewBox=\"0 0 24 24\"\n",
              "       width=\"24px\">\n",
              "    <path d=\"M0 0h24v24H0V0z\" fill=\"none\"/>\n",
              "    <path d=\"M18.56 5.44l.94 2.06.94-2.06 2.06-.94-2.06-.94-.94-2.06-.94 2.06-2.06.94zm-11 1L8.5 8.5l.94-2.06 2.06-.94-2.06-.94L8.5 2.5l-.94 2.06-2.06.94zm10 10l.94 2.06.94-2.06 2.06-.94-2.06-.94-.94-2.06-.94 2.06-2.06.94z\"/><path d=\"M17.41 7.96l-1.37-1.37c-.4-.4-.92-.59-1.43-.59-.52 0-1.04.2-1.43.59L10.3 9.45l-7.72 7.72c-.78.78-.78 2.05 0 2.83L4 21.41c.39.39.9.59 1.41.59.51 0 1.02-.2 1.41-.59l7.78-7.78 2.81-2.81c.8-.78.8-2.07 0-2.86zM5.41 20L4 18.59l7.72-7.72 1.47 1.35L5.41 20z\"/>\n",
              "  </svg>\n",
              "      </button>\n",
              "\n",
              "\n",
              "\n",
              "    <div id=\"df-f911de24-6f71-4a45-a3bb-8ae641533db4\">\n",
              "      <button class=\"colab-df-quickchart\" onclick=\"quickchart('df-f911de24-6f71-4a45-a3bb-8ae641533db4')\"\n",
              "              title=\"Suggest charts.\"\n",
              "              style=\"display:none;\">\n",
              "\n",
              "<svg xmlns=\"http://www.w3.org/2000/svg\" height=\"24px\"viewBox=\"0 0 24 24\"\n",
              "     width=\"24px\">\n",
              "    <g>\n",
              "        <path d=\"M19 3H5c-1.1 0-2 .9-2 2v14c0 1.1.9 2 2 2h14c1.1 0 2-.9 2-2V5c0-1.1-.9-2-2-2zM9 17H7v-7h2v7zm4 0h-2V7h2v10zm4 0h-2v-4h2v4z\"/>\n",
              "    </g>\n",
              "</svg>\n",
              "      </button>\n",
              "    </div>\n",
              "\n",
              "<style>\n",
              "  .colab-df-quickchart {\n",
              "    background-color: #E8F0FE;\n",
              "    border: none;\n",
              "    border-radius: 50%;\n",
              "    cursor: pointer;\n",
              "    display: none;\n",
              "    fill: #1967D2;\n",
              "    height: 32px;\n",
              "    padding: 0 0 0 0;\n",
              "    width: 32px;\n",
              "  }\n",
              "\n",
              "  .colab-df-quickchart:hover {\n",
              "    background-color: #E2EBFA;\n",
              "    box-shadow: 0px 1px 2px rgba(60, 64, 67, 0.3), 0px 1px 3px 1px rgba(60, 64, 67, 0.15);\n",
              "    fill: #174EA6;\n",
              "  }\n",
              "\n",
              "  [theme=dark] .colab-df-quickchart {\n",
              "    background-color: #3B4455;\n",
              "    fill: #D2E3FC;\n",
              "  }\n",
              "\n",
              "  [theme=dark] .colab-df-quickchart:hover {\n",
              "    background-color: #434B5C;\n",
              "    box-shadow: 0px 1px 3px 1px rgba(0, 0, 0, 0.15);\n",
              "    filter: drop-shadow(0px 1px 2px rgba(0, 0, 0, 0.3));\n",
              "    fill: #FFFFFF;\n",
              "  }\n",
              "</style>\n",
              "\n",
              "    <script>\n",
              "      async function quickchart(key) {\n",
              "        const containerElement = document.querySelector('#' + key);\n",
              "        const charts = await google.colab.kernel.invokeFunction(\n",
              "            'suggestCharts', [key], {});\n",
              "      }\n",
              "    </script>\n",
              "\n",
              "      <script>\n",
              "\n",
              "function displayQuickchartButton(domScope) {\n",
              "  let quickchartButtonEl =\n",
              "    domScope.querySelector('#df-f911de24-6f71-4a45-a3bb-8ae641533db4 button.colab-df-quickchart');\n",
              "  quickchartButtonEl.style.display =\n",
              "    google.colab.kernel.accessAllowed ? 'block' : 'none';\n",
              "}\n",
              "\n",
              "        displayQuickchartButton(document);\n",
              "      </script>\n",
              "      <style>\n",
              "    .colab-df-container {\n",
              "      display:flex;\n",
              "      flex-wrap:wrap;\n",
              "      gap: 12px;\n",
              "    }\n",
              "\n",
              "    .colab-df-convert {\n",
              "      background-color: #E8F0FE;\n",
              "      border: none;\n",
              "      border-radius: 50%;\n",
              "      cursor: pointer;\n",
              "      display: none;\n",
              "      fill: #1967D2;\n",
              "      height: 32px;\n",
              "      padding: 0 0 0 0;\n",
              "      width: 32px;\n",
              "    }\n",
              "\n",
              "    .colab-df-convert:hover {\n",
              "      background-color: #E2EBFA;\n",
              "      box-shadow: 0px 1px 2px rgba(60, 64, 67, 0.3), 0px 1px 3px 1px rgba(60, 64, 67, 0.15);\n",
              "      fill: #174EA6;\n",
              "    }\n",
              "\n",
              "    [theme=dark] .colab-df-convert {\n",
              "      background-color: #3B4455;\n",
              "      fill: #D2E3FC;\n",
              "    }\n",
              "\n",
              "    [theme=dark] .colab-df-convert:hover {\n",
              "      background-color: #434B5C;\n",
              "      box-shadow: 0px 1px 3px 1px rgba(0, 0, 0, 0.15);\n",
              "      filter: drop-shadow(0px 1px 2px rgba(0, 0, 0, 0.3));\n",
              "      fill: #FFFFFF;\n",
              "    }\n",
              "  </style>\n",
              "\n",
              "      <script>\n",
              "        const buttonEl =\n",
              "          document.querySelector('#df-375ab107-3fd6-47a4-b358-86881e419b00 button.colab-df-convert');\n",
              "        buttonEl.style.display =\n",
              "          google.colab.kernel.accessAllowed ? 'block' : 'none';\n",
              "\n",
              "        async function convertToInteractive(key) {\n",
              "          const element = document.querySelector('#df-375ab107-3fd6-47a4-b358-86881e419b00');\n",
              "          const dataTable =\n",
              "            await google.colab.kernel.invokeFunction('convertToInteractive',\n",
              "                                                     [key], {});\n",
              "          if (!dataTable) return;\n",
              "\n",
              "          const docLinkHtml = 'Like what you see? Visit the ' +\n",
              "            '<a target=\"_blank\" href=https://colab.research.google.com/notebooks/data_table.ipynb>data table notebook</a>'\n",
              "            + ' to learn more about interactive tables.';\n",
              "          element.innerHTML = '';\n",
              "          dataTable['output_type'] = 'display_data';\n",
              "          await google.colab.output.renderOutput(dataTable, element);\n",
              "          const docLink = document.createElement('div');\n",
              "          docLink.innerHTML = docLinkHtml;\n",
              "          element.appendChild(docLink);\n",
              "        }\n",
              "      </script>\n",
              "    </div>\n",
              "  </div>\n"
            ]
          },
          "metadata": {},
          "execution_count": 8
        }
      ]
    },
    {
      "cell_type": "code",
      "source": [
        "x = data_features['Movie_Genre'] + ' ' + data_features['Movie_Keywords'] + ' ' + data_features['Movie_Tagline'] + ' ' + data_features['Movie_Cast'] + ' ' + data_features['Movie_Director']"
      ],
      "metadata": {
        "id": "JrSLIKySnRqV"
      },
      "execution_count": 9,
      "outputs": []
    },
    {
      "cell_type": "code",
      "source": [
        "x"
      ],
      "metadata": {
        "colab": {
          "base_uri": "https://localhost:8080/"
        },
        "id": "bPtFXoLVoLLF",
        "outputId": "3760fdc0-92c9-4c41-e82c-b1d28b489438"
      },
      "execution_count": 10,
      "outputs": [
        {
          "output_type": "execute_result",
          "data": {
            "text/plain": [
              "0       Crime Comedy hotel new year's eve witch bet ho...\n",
              "1       Adventure Action Science Fiction android galax...\n",
              "2       Animation Family father son relationship harbo...\n",
              "3       Comedy Drama Romance vietnam veteran hippie me...\n",
              "4       Drama male nudity female nudity adultery midli...\n",
              "                              ...                        \n",
              "4755    Horror  The hot spot where Satan's waitin'. Li...\n",
              "4756    Comedy Family Drama  It’s better to stand out ...\n",
              "4757    Thriller Drama christian film sex trafficking ...\n",
              "4758                                           Family    \n",
              "4759    Documentary music actors legendary perfomer cl...\n",
              "Length: 4760, dtype: object"
            ]
          },
          "metadata": {},
          "execution_count": 10
        }
      ]
    },
    {
      "cell_type": "code",
      "source": [
        "x.shape"
      ],
      "metadata": {
        "colab": {
          "base_uri": "https://localhost:8080/"
        },
        "id": "pBYFN9f_pMBr",
        "outputId": "ab6e8876-568d-442e-8e4b-451f393a1cae"
      },
      "execution_count": 11,
      "outputs": [
        {
          "output_type": "execute_result",
          "data": {
            "text/plain": [
              "(4760,)"
            ]
          },
          "metadata": {},
          "execution_count": 11
        }
      ]
    },
    {
      "cell_type": "code",
      "source": [
        "from sklearn.feature_extraction.text import TfidfVectorizer\n",
        "tfidf = TfidfVectorizer()"
      ],
      "metadata": {
        "id": "btxf79FSpM70"
      },
      "execution_count": 12,
      "outputs": []
    },
    {
      "cell_type": "code",
      "source": [
        "x = tfidf.fit_transform(x)"
      ],
      "metadata": {
        "id": "Wp4Fp49_qlDg"
      },
      "execution_count": 13,
      "outputs": []
    },
    {
      "cell_type": "code",
      "source": [
        "x.shape"
      ],
      "metadata": {
        "colab": {
          "base_uri": "https://localhost:8080/"
        },
        "id": "noDdUvYnqzYG",
        "outputId": "fd29b8f2-137b-4f71-d5e3-05b1738a8aa2"
      },
      "execution_count": 14,
      "outputs": [
        {
          "output_type": "execute_result",
          "data": {
            "text/plain": [
              "(4760, 17258)"
            ]
          },
          "metadata": {},
          "execution_count": 14
        }
      ]
    },
    {
      "cell_type": "code",
      "source": [
        "print(x)"
      ],
      "metadata": {
        "colab": {
          "base_uri": "https://localhost:8080/"
        },
        "id": "9-99b889q3fD",
        "outputId": "59a0bdbe-afd3-455e-c27a-d44d39eb01ce"
      },
      "execution_count": 15,
      "outputs": [
        {
          "output_type": "stream",
          "name": "stdout",
          "text": [
            "  (0, 617)\t0.1633382144407513\n",
            "  (0, 492)\t0.1432591540388685\n",
            "  (0, 15413)\t0.1465525095337543\n",
            "  (0, 9675)\t0.14226057295252661\n",
            "  (0, 9465)\t0.1659841367820977\n",
            "  (0, 1390)\t0.16898383612799558\n",
            "  (0, 7825)\t0.09799561597509843\n",
            "  (0, 1214)\t0.13865857545144072\n",
            "  (0, 729)\t0.13415063359531618\n",
            "  (0, 13093)\t0.1432591540388685\n",
            "  (0, 15355)\t0.10477815972666779\n",
            "  (0, 9048)\t0.0866842116160778\n",
            "  (0, 11161)\t0.06250380151644369\n",
            "  (0, 16773)\t0.17654247479915475\n",
            "  (0, 5612)\t0.08603537588547631\n",
            "  (0, 16735)\t0.10690083751525419\n",
            "  (0, 7904)\t0.13348000542112332\n",
            "  (0, 15219)\t0.09800472886453934\n",
            "  (0, 11242)\t0.07277788238484746\n",
            "  (0, 3878)\t0.11998399582562203\n",
            "  (0, 5499)\t0.11454057510303811\n",
            "  (0, 7071)\t0.19822417598406614\n",
            "  (0, 7454)\t0.14745635785412262\n",
            "  (0, 1495)\t0.19712637387361423\n",
            "  (0, 9206)\t0.15186283580984414\n",
            "  :\t:\n",
            "  (4757, 5455)\t0.12491480594769522\n",
            "  (4757, 2967)\t0.16273475835631626\n",
            "  (4757, 8464)\t0.23522565554066333\n",
            "  (4757, 6938)\t0.17088173678136628\n",
            "  (4757, 8379)\t0.17480603856721913\n",
            "  (4757, 15303)\t0.07654356007668191\n",
            "  (4757, 15384)\t0.09754322497537371\n",
            "  (4757, 7649)\t0.11479421494340192\n",
            "  (4757, 10896)\t0.14546473055066447\n",
            "  (4757, 4494)\t0.05675298448720501\n",
            "  (4758, 5238)\t1.0\n",
            "  (4759, 11264)\t0.33947721804318337\n",
            "  (4759, 11708)\t0.33947721804318337\n",
            "  (4759, 205)\t0.3237911628497312\n",
            "  (4759, 8902)\t0.3040290704566037\n",
            "  (4759, 14062)\t0.3237911628497312\n",
            "  (4759, 3058)\t0.2812896191863103\n",
            "  (4759, 7130)\t0.26419662449963793\n",
            "  (4759, 10761)\t0.3126617295732147\n",
            "  (4759, 4358)\t0.18306542312175342\n",
            "  (4759, 14051)\t0.20084315377640435\n",
            "  (4759, 5690)\t0.19534291014627303\n",
            "  (4759, 15431)\t0.19628653185946862\n",
            "  (4759, 1490)\t0.21197258705292082\n",
            "  (4759, 10666)\t0.15888268987343043\n"
          ]
        }
      ]
    },
    {
      "cell_type": "code",
      "source": [
        "from sklearn.metrics.pairwise import cosine_similarity\n",
        "similarity_score = cosine_similarity(x)"
      ],
      "metadata": {
        "id": "zdn5pGHRq4JN"
      },
      "execution_count": 16,
      "outputs": []
    },
    {
      "cell_type": "code",
      "source": [
        "similarity_score"
      ],
      "metadata": {
        "colab": {
          "base_uri": "https://localhost:8080/"
        },
        "id": "wZn2fIHhrwXv",
        "outputId": "b191b363-30b5-4131-f5e0-fc594c48f872"
      },
      "execution_count": 17,
      "outputs": [
        {
          "output_type": "execute_result",
          "data": {
            "text/plain": [
              "array([[1.        , 0.01351235, 0.03570468, ..., 0.        , 0.        ,\n",
              "        0.        ],\n",
              "       [0.01351235, 1.        , 0.00806674, ..., 0.        , 0.        ,\n",
              "        0.        ],\n",
              "       [0.03570468, 0.00806674, 1.        , ..., 0.        , 0.08014876,\n",
              "        0.        ],\n",
              "       ...,\n",
              "       [0.        , 0.        , 0.        , ..., 1.        , 0.        ,\n",
              "        0.        ],\n",
              "       [0.        , 0.        , 0.08014876, ..., 0.        , 1.        ,\n",
              "        0.        ],\n",
              "       [0.        , 0.        , 0.        , ..., 0.        , 0.        ,\n",
              "        1.        ]])"
            ]
          },
          "metadata": {},
          "execution_count": 17
        }
      ]
    },
    {
      "cell_type": "code",
      "source": [
        "similarity_score.shape"
      ],
      "metadata": {
        "colab": {
          "base_uri": "https://localhost:8080/"
        },
        "id": "tWKuNsSur1dC",
        "outputId": "cbff22b1-5770-4c58-e3b9-ec6136e99a24"
      },
      "execution_count": 18,
      "outputs": [
        {
          "output_type": "execute_result",
          "data": {
            "text/plain": [
              "(4760, 4760)"
            ]
          },
          "metadata": {},
          "execution_count": 18
        }
      ]
    },
    {
      "cell_type": "code",
      "source": [
        "Favourite_Movie = input('Enter Your Favourit Movie : ')"
      ],
      "metadata": {
        "colab": {
          "base_uri": "https://localhost:8080/"
        },
        "id": "FRzmuN_Rr4U1",
        "outputId": "b601cf52-cd48-4a38-974c-aa5cffdc27a7"
      },
      "execution_count": 19,
      "outputs": [
        {
          "name": "stdout",
          "output_type": "stream",
          "text": [
            "Enter Your Favourit Movie : ironman\n"
          ]
        }
      ]
    },
    {
      "cell_type": "code",
      "source": [
        "Movie_Titles = data['Movie_Title'].tolist()"
      ],
      "metadata": {
        "id": "ySb1KhspswGs"
      },
      "execution_count": 20,
      "outputs": []
    },
    {
      "cell_type": "code",
      "source": [
        "import difflib as lib"
      ],
      "metadata": {
        "id": "6qJzP1sitIMs"
      },
      "execution_count": 21,
      "outputs": []
    },
    {
      "cell_type": "code",
      "source": [
        "Movie_Recommendation = lib.get_close_matches(Favourite_Movie, Movie_Titles)"
      ],
      "metadata": {
        "id": "pHUgIFrxtMnJ"
      },
      "execution_count": 22,
      "outputs": []
    },
    {
      "cell_type": "code",
      "source": [
        "Movie_Recommendation"
      ],
      "metadata": {
        "colab": {
          "base_uri": "https://localhost:8080/"
        },
        "id": "NGEfyYB_uHCq",
        "outputId": "46bde66d-f16a-4ad3-a33a-096245ba944a"
      },
      "execution_count": 23,
      "outputs": [
        {
          "output_type": "execute_result",
          "data": {
            "text/plain": [
              "['Birdman', 'Iron Man', 'Hitman']"
            ]
          },
          "metadata": {},
          "execution_count": 23
        }
      ]
    },
    {
      "cell_type": "code",
      "source": [
        "Close_Match = Movie_Recommendation[0]\n",
        "print(Movie_Recommendation)"
      ],
      "metadata": {
        "colab": {
          "base_uri": "https://localhost:8080/"
        },
        "id": "kRRnHaVouKUa",
        "outputId": "61bdf154-904c-4245-f4ad-e8ee07ccf1e1"
      },
      "execution_count": 24,
      "outputs": [
        {
          "output_type": "stream",
          "name": "stdout",
          "text": [
            "['Birdman', 'Iron Man', 'Hitman']\n"
          ]
        }
      ]
    },
    {
      "cell_type": "code",
      "source": [
        "Index_of_the_close_match = data[data.Movie_Title == Close_Match]['Movie_ID'].values[0]\n",
        "print(Index_of_the_close_match)"
      ],
      "metadata": {
        "colab": {
          "base_uri": "https://localhost:8080/"
        },
        "id": "hGuv_NbovF6Z",
        "outputId": "af2be505-514a-43d0-9aa9-d07f2c394040"
      },
      "execution_count": 25,
      "outputs": [
        {
          "output_type": "stream",
          "name": "stdout",
          "text": [
            "4266\n"
          ]
        }
      ]
    },
    {
      "cell_type": "code",
      "source": [
        "Recommendation_Score = list(enumerate(similarity_score[Index_of_the_close_match]))\n",
        "print(Recommendation_Score)"
      ],
      "metadata": {
        "colab": {
          "base_uri": "https://localhost:8080/"
        },
        "id": "we4hB6jhvmIq",
        "outputId": "91fdafbd-7edf-4e84-8df8-3357bfb61cb2"
      },
      "execution_count": 26,
      "outputs": [
        {
          "output_type": "stream",
          "name": "stdout",
          "text": [
            "[(0, 0.016046100262967048), (1, 0.017899738451880337), (2, 0.0), (3, 0.0025908441288846474), (4, 0.003109562231793051), (5, 0.002955895883682086), (6, 0.031745542739484524), (7, 0.016513130894756076), (8, 0.0032006272404884167), (9, 0.0), (10, 0.0), (11, 0.0030518677664625473), (12, 0.013254956737385908), (13, 0.0), (14, 0.0), (15, 0.029933047085007623), (16, 0.0024563937168897024), (17, 0.010054599587232382), (18, 0.0028259645154561724), (19, 0.03438559974500846), (20, 0.012982925297401273), (21, 0.0031516153884848016), (22, 0.019898185120266542), (23, 0.025284077720265), (24, 0.026652916633537263), (25, 0.03577885344213663), (26, 0.002883608760959968), (27, 0.020817100565707205), (28, 0.02034684369243514), (29, 0.0028065104058457506), (30, 0.09051104953848507), (31, 0.03276391348295596), (32, 0.00258445388071494), (33, 0.002604508669284949), (34, 0.0030666889276055763), (35, 0.008911243022176423), (36, 0.0), (37, 0.017456877332101068), (38, 0.021853648053610245), (39, 0.02012232091673283), (40, 0.010833338743539277), (41, 0.0032793290867912665), (42, 0.0), (43, 0.023199707284092083), (44, 0.0024532716086371766), (45, 0.01901948590795276), (46, 0.02760231164660474), (47, 0.0), (48, 0.013676592991618405), (49, 0.021642599134546005), (50, 0.009537302703857588), (51, 0.003100723626802078), (52, 0.0028178800358101197), (53, 0.008969189318966798), (54, 0.0), (55, 0.0098901929513834), (56, 0.009636973743621878), (57, 0.0), (58, 0.0), (59, 0.01990011993199815), (60, 0.06853343944475265), (61, 0.015400753210234087), (62, 0.013703961364859685), (63, 0.020115877252016915), (64, 0.02471189264790586), (65, 0.053557429624938986), (66, 0.002941378300939956), (67, 0.02891818706699405), (68, 0.003125579554389185), (69, 0.03501600932438428), (70, 0.0), (71, 0.00301923324727997), (72, 0.009179701661330883), (73, 0.02760943064681989), (74, 0.02444771641003958), (75, 0.026785363091965775), (76, 0.03379275483857476), (77, 0.0151036261460717), (78, 0.026806797220136413), (79, 0.034729137261920826), (80, 0.029220427463837385), (81, 0.024277091884316856), (82, 0.002236437197727791), (83, 0.0), (84, 0.0412771462209246), (85, 0.024112258617182237), (86, 0.03840503778453408), (87, 0.015058599960836992), (88, 0.0), (89, 0.010672260755244052), (90, 0.019596590640476093), (91, 0.017741403155803633), (92, 0.0025935864656503474), (93, 0.02825989227835811), (94, 0.018403267852928406), (95, 0.020614409975184475), (96, 0.002727638852700355), (97, 0.002586304976104783), (98, 0.002885804344634136), (99, 0.0), (100, 0.0), (101, 0.0), (102, 0.04518186443662966), (103, 0.0025526349284305055), (104, 0.01569762661001901), (105, 0.0029228601450822433), (106, 0.021808098692691947), (107, 0.038320853747104144), (108, 0.020156042950732287), (109, 0.01475286795594228), (110, 0.0), (111, 0.011709010220878835), (112, 0.002837300185627649), (113, 0.027942735195069644), (114, 0.002949930048094484), (115, 0.0030135011330685636), (116, 0.014722537434905512), (117, 0.0), (118, 0.03403088448435758), (119, 0.0028913987842397746), (120, 0.0030394522974634803), (121, 0.002708658632020251), (122, 0.0), (123, 0.003224383291026458), (124, 0.0026910597294546967), (125, 0.0), (126, 0.002780634576364726), (127, 0.012085840204134935), (128, 0.035378521998386946), (129, 0.0020579778822336857), (130, 0.0), (131, 0.022621700356174973), (132, 0.0026128359985084773), (133, 0.0), (134, 0.0), (135, 0.020022829480550664), (136, 0.01440513823334752), (137, 0.0), (138, 0.009088296052101083), (139, 0.010835508471966708), (140, 0.0027606591705475036), (141, 0.0), (142, 0.012243013140384756), (143, 0.0), (144, 0.021218928522649477), (145, 0.01289783659075992), (146, 0.0), (147, 0.013495790045153937), (148, 0.0), (149, 0.0024336969780405036), (150, 0.019617180998181702), (151, 0.02070136448571285), (152, 0.01946133732442588), (153, 0.0), (154, 0.011831460570233432), (155, 0.0), (156, 0.002394119146286913), (157, 0.0028068210640174295), (158, 0.013992516268699108), (159, 0.019781823316006347), (160, 0.02722065631279968), (161, 0.002649033409358454), (162, 0.0), (163, 0.007839026254641343), (164, 0.0028043099479704973), (165, 0.0025476775996319083), (166, 0.0026027702818888893), (167, 0.030464820617105565), (168, 0.02498747116042482), (169, 0.012195101605544198), (170, 0.008576082465159769), (171, 0.019022729926190123), (172, 0.0029564719809357463), (173, 0.0030887411493598386), (174, 0.002911023736872772), (175, 0.00248856696444313), (176, 0.0030282951249347998), (177, 0.0), (178, 0.0031002641721860507), (179, 0.0), (180, 0.0), (181, 0.0), (182, 0.0029706274645531147), (183, 0.0027028549264760137), (184, 0.0025951916631183733), (185, 0.00913021090869282), (186, 0.0), (187, 0.02867578817955895), (188, 0.0), (189, 0.020752313370758283), (190, 0.010756313029001499), (191, 0.03494202708494651), (192, 0.003187522304783488), (193, 0.013123503748346936), (194, 0.010113007240896978), (195, 0.002477155470941148), (196, 0.0024754118486735887), (197, 0.00278270726690388), (198, 0.01501402157135778), (199, 0.002687235602908861), (200, 0.013783504538197388), (201, 0.010075983599011755), (202, 0.0019338236742796), (203, 0.0027885582280255407), (204, 0.023257858567650915), (205, 0.0), (206, 0.0156971479852829), (207, 0.0), (208, 0.0031288556614918173), (209, 0.002973824171153446), (210, 0.029176819173294528), (211, 0.003080484712254208), (212, 0.0027580580638018578), (213, 0.0027429564624333615), (214, 0.011408762049469985), (215, 0.0028953343184247933), (216, 0.015341314410621077), (217, 0.03037665065782088), (218, 0.011507452365356337), (219, 0.009630480212074638), (220, 0.021186821859388274), (221, 0.002802082297127472), (222, 0.011094102532914013), (223, 0.009114571349964221), (224, 0.00225484371762234), (225, 0.010885724297177773), (226, 0.012410687057145068), (227, 0.003149637904955345), (228, 0.009400568687640722), (229, 0.002747586892126869), (230, 0.011540671785586069), (231, 0.012426816160260784), (232, 0.012759220839973695), (233, 0.009531626391239889), (234, 0.02539372893671982), (235, 0.0033264408373896094), (236, 0.01465252493470689), (237, 0.0), (238, 0.0030058614564265067), (239, 0.0), (240, 0.04982543084648), (241, 0.0), (242, 0.01074669383161663), (243, 0.00207486729913038), (244, 0.00944763811797924), (245, 0.022061696007537664), (246, 0.003134193817496375), (247, 0.0029139719540323223), (248, 0.011704529725607347), (249, 0.06497975501730828), (250, 0.014157507312587296), (251, 0.029760225472840036), (252, 0.031568638225257885), (253, 0.013570733283558203), (254, 0.01631010288581115), (255, 0.015495649203705438), (256, 0.002201757649594086), (257, 0.04228889426988766), (258, 0.020176800746306105), (259, 0.019925318542143227), (260, 0.01900782231364371), (261, 0.019334824515220485), (262, 0.003096047044218831), (263, 0.0189644297914746), (264, 0.020067647001732476), (265, 0.0), (266, 0.02811295114778694), (267, 0.002497520474989992), (268, 0.0026285477042890183), (269, 0.002528834312883068), (270, 0.026414394759795866), (271, 0.0022586174563798017), (272, 0.028771681315538814), (273, 0.012277634672488347), (274, 0.0033838966029821533), (275, 0.0), (276, 0.022933408127624257), (277, 0.0), (278, 0.002538252832042621), (279, 0.026521489032119008), (280, 0.002939421445258225), (281, 0.003327006569776921), (282, 0.012228145900976505), (283, 0.044528877302060565), (284, 0.00955590038200031), (285, 0.011415732667522358), (286, 0.023230997493574424), (287, 0.0027653439937758025), (288, 0.0), (289, 0.0), (290, 0.0), (291, 0.008627662195807694), (292, 0.002859348188831861), (293, 0.0020954867457751284), (294, 0.00753644975557108), (295, 0.01738334840751337), (296, 0.011691228515452089), (297, 0.0), (298, 0.009887502018721498), (299, 0.0), (300, 0.0), (301, 0.013383444599056427), (302, 0.0), (303, 0.04746528096812022), (304, 0.008903709022890007), (305, 0.03195477815444871), (306, 0.0196394868784283), (307, 0.05360387269195987), (308, 0.0032955721940786074), (309, 0.002344063398027662), (310, 0.0), (311, 0.009064637781575362), (312, 0.0), (313, 0.0), (314, 0.016799037159289047), (315, 0.021574236507307297), (316, 0.019933594009505208), (317, 0.022131757390113423), (318, 0.003220716300077554), (319, 0.007913056262356642), (320, 0.022548098748171264), (321, 0.018747307881993778), (322, 0.01883044012941049), (323, 0.0), (324, 0.02611140367081297), (325, 0.023109365275614187), (326, 0.0036092042158101362), (327, 0.025472647493724753), (328, 0.0), (329, 0.02431442417259262), (330, 0.008709295206290324), (331, 0.0), (332, 0.048114867081101784), (333, 0.03500558677133248), (334, 0.00851706420826426), (335, 0.0), (336, 0.03101665556416433), (337, 0.0), (338, 0.0), (339, 0.0), (340, 0.0), (341, 0.01362286332048253), (342, 0.003210483623646927), (343, 0.002969476473826899), (344, 0.010157243740372888), (345, 0.009359963782130642), (346, 0.0029284571501955133), (347, 0.04230009423514376), (348, 0.012477526007709534), (349, 0.0028583405247147647), (350, 0.00320842053668981), (351, 0.002248476071127492), (352, 0.017555047580352985), (353, 0.022414768913362523), (354, 0.020240182121985903), (355, 0.0027175315600729884), (356, 0.01183963240022191), (357, 0.0025431866455662543), (358, 0.014391808784165669), (359, 0.023178181628849978), (360, 0.021168924215856727), (361, 0.010251607546683847), (362, 0.0), (363, 0.024398686608401367), (364, 0.01977600095720138), (365, 0.0), (366, 0.0), (367, 0.019197917675762965), (368, 0.05452308526932692), (369, 0.015337159630877553), (370, 0.0029423532094651557), (371, 0.0032429884908219435), (372, 0.052902046038996044), (373, 0.01194568828930248), (374, 0.014599801391589808), (375, 0.01980517883987282), (376, 0.03869272054219752), (377, 0.0030365489422778742), (378, 0.0230856415497596), (379, 0.018455432384175057), (380, 0.07781150628377263), (381, 0.018221419852759504), (382, 0.0), (383, 0.0), (384, 0.0), (385, 0.0), (386, 0.0), (387, 0.011706345535603067), (388, 0.032077787088895554), (389, 0.05802664390657146), (390, 0.019288020122745286), (391, 0.01236875157340629), (392, 0.01025858093515387), (393, 0.008552341613860114), (394, 0.017126282648260806), (395, 0.0031619683286429117), (396, 0.002832088866403062), (397, 0.01832309850413443), (398, 0.0), (399, 0.0027308217865497347), (400, 0.0029200681541372655), (401, 0.0), (402, 0.034536127163457754), (403, 0.0024979572006068227), (404, 0.009372138369071324), (405, 0.04439930787277102), (406, 0.003006854435896436), (407, 0.0023646760617929133), (408, 0.03302747501832676), (409, 0.00889130584276434), (410, 0.002741834578463525), (411, 0.0), (412, 0.0024077261694554685), (413, 0.021399295586805877), (414, 0.0), (415, 0.010200578588719273), (416, 0.002700667977974433), (417, 0.00879200150772926), (418, 0.0), (419, 0.0033192407719214384), (420, 0.010384747286794685), (421, 0.014789324095678142), (422, 0.0), (423, 0.023944505039546725), (424, 0.0), (425, 0.010955950093908708), (426, 0.0), (427, 0.07355591528395924), (428, 0.002660768178103747), (429, 0.016348327168056807), (430, 0.02474174622246378), (431, 0.003475619336585805), (432, 0.0025071720280681773), (433, 0.012760008180331404), (434, 0.002788130637390863), (435, 0.0), (436, 0.028042772846850486), (437, 0.0027964186732386967), (438, 0.026726036321132428), (439, 0.051509922588626716), (440, 0.04706479301400295), (441, 0.002435401892558533), (442, 0.0024436780430504776), (443, 0.018042519653009736), (444, 0.0032837419352565694), (445, 0.002522945825098739), (446, 0.035287107127512096), (447, 0.003060210544448132), (448, 0.030758688500349303), (449, 0.013383209796994928), (450, 0.003233848206447886), (451, 0.009506147049605762), (452, 0.0022196831037102327), (453, 0.017577552568972307), (454, 0.0), (455, 0.05558410094564903), (456, 0.0031224403769174727), (457, 0.00270490299100891), (458, 0.0032884213212622825), (459, 0.0), (460, 0.01994691526299135), (461, 0.0), (462, 0.0), (463, 0.011503442408615571), (464, 0.002913090797827099), (465, 0.0026905891347723935), (466, 0.012461523137464074), (467, 0.0), (468, 0.0), (469, 0.0), (470, 0.003108287844701429), (471, 0.011770912816125), (472, 0.055415903649128004), (473, 0.011403519368980673), (474, 0.0), (475, 0.0010302850731796446), (476, 0.016243535394867992), (477, 0.00755019506104808), (478, 0.016747217016783226), (479, 0.0029436470791309116), (480, 0.0025860978391916757), (481, 0.003205022722783415), (482, 0.028651219664008312), (483, 0.003111676497671679), (484, 0.0), (485, 0.0031582907508798555), (486, 0.0), (487, 0.002821221103677732), (488, 0.0028506128462500477), (489, 0.0035255016516598224), (490, 0.014653139118919217), (491, 0.03728218990645165), (492, 0.027726828274041583), (493, 0.01317874076799276), (494, 0.0), (495, 0.002606622315393167), (496, 0.0025161089556975822), (497, 0.017833440447017977), (498, 0.0), (499, 0.016103854346447104), (500, 0.02084225078390489), (501, 0.0), (502, 0.0030853140143041373), (503, 0.0), (504, 0.0029649376877262045), (505, 0.002799713739365664), (506, 0.0), (507, 0.0027672698378879705), (508, 0.003388692841885564), (509, 0.02357381997206412), (510, 0.0023557522573408414), (511, 0.01825124785123243), (512, 0.011249989103264472), (513, 0.010498286591201085), (514, 0.0), (515, 0.02553641181470298), (516, 0.04603590028861779), (517, 0.020825719540959006), (518, 0.0034550041059393977), (519, 0.00260215716046837), (520, 0.0), (521, 0.0), (522, 0.014364129607970962), (523, 0.033401674954346164), (524, 0.002703619736146429), (525, 0.0), (526, 0.003705963457507504), (527, 0.0023331368919948504), (528, 0.0), (529, 0.0), (530, 0.009317394902021667), (531, 0.0), (532, 0.0), (533, 0.016643694873925426), (534, 0.0029107692880316373), (535, 0.00952911266249412), (536, 0.0), (537, 0.022811348946189167), (538, 0.0), (539, 0.0), (540, 0.0), (541, 0.024447714408760007), (542, 0.010938843285199803), (543, 0.0030694720376832785), (544, 0.0029907178491696755), (545, 0.06431148124264302), (546, 0.01933550023709506), (547, 0.0024847503948356884), (548, 0.008875995628206571), (549, 0.0), (550, 0.023756725345000933), (551, 0.00306071917640304), (552, 0.042926754333551934), (553, 0.03840788859988423), (554, 0.0645009319443497), (555, 0.03296634872320476), (556, 0.0), (557, 0.0), (558, 0.0261237113353022), (559, 0.0), (560, 0.01937343693836119), (561, 0.014777621949807902), (562, 0.00941665832339952), (563, 0.013343399034223533), (564, 0.023322919989192035), (565, 0.018717560343664643), (566, 0.0024725245693634646), (567, 0.019542275490456517), (568, 0.03232072350006534), (569, 0.05756587830123996), (570, 0.04786037800872554), (571, 0.018753022200970314), (572, 0.02054409905503011), (573, 0.0), (574, 0.0), (575, 0.0), (576, 0.01420902007130477), (577, 0.008477267388459673), (578, 0.0027814840438624847), (579, 0.015000433334977407), (580, 0.01630048030481243), (581, 0.002655833373206544), (582, 0.0), (583, 0.02301107403694267), (584, 0.0030494572938119966), (585, 0.009290414618018973), (586, 0.0), (587, 0.003241196925619997), (588, 0.02604509879064563), (589, 0.020275574859466478), (590, 0.0027162597952129666), (591, 0.022007871130543432), (592, 0.025780711757404772), (593, 0.003005975783763182), (594, 0.002634192591608022), (595, 0.010621248057473399), (596, 0.0033021122038331737), (597, 0.011330585848714974), (598, 0.002745904412890617), (599, 0.02108297431495774), (600, 0.021086970827641136), (601, 0.017095807908696713), (602, 0.01636203075645153), (603, 0.03138251666493577), (604, 0.0027104462353393518), (605, 0.002593230156038424), (606, 0.03680188836980619), (607, 0.03641735217823273), (608, 0.002671487978104112), (609, 0.03777047184614973), (610, 0.009602019610878655), (611, 0.004734984896512021), (612, 0.003129042473260928), (613, 0.019752993593588505), (614, 0.054054222090645206), (615, 0.0), (616, 0.002455970547373006), (617, 0.04354393218989487), (618, 0.018668592852922827), (619, 0.019947186058948393), (620, 0.0028306119870857905), (621, 0.0), (622, 0.016575421003616805), (623, 0.02875261385123454), (624, 0.002695659946786352), (625, 0.03800651184988294), (626, 0.018866164440440612), (627, 0.021122541400228588), (628, 0.002971359641175575), (629, 0.010925200735981038), (630, 0.0), (631, 0.003030203162954025), (632, 0.0), (633, 0.012394720079685163), (634, 0.0), (635, 0.0), (636, 0.015753898384219818), (637, 0.0030518793169589625), (638, 0.0027162534597081284), (639, 0.0), (640, 0.0), (641, 0.002110432194439421), (642, 0.002545621709861899), (643, 0.014339369851451567), (644, 0.0027996445712245737), (645, 0.0024070415965369092), (646, 0.0028341121341188473), (647, 0.0025858123364196433), (648, 0.00884582530007738), (649, 0.009152722342129826), (650, 0.0), (651, 0.002845307670092906), (652, 0.015955534006754764), (653, 0.030226263186389178), (654, 0.02331090364930894), (655, 0.014566925929123911), (656, 0.03350385339812763), (657, 0.021598876549792496), (658, 0.0), (659, 0.011562035616011702), (660, 0.02618177983794585), (661, 0.011868738216056936), (662, 0.0), (663, 0.02227297988441295), (664, 0.0), (665, 0.0), (666, 0.02255071900675684), (667, 0.0), (668, 0.0), (669, 0.02325624669599884), (670, 0.01823648838152188), (671, 0.0), (672, 0.022538132857588055), (673, 0.003216086754759813), (674, 0.019865254843865376), (675, 0.024068021716172908), (676, 0.054140917255388624), (677, 0.0), (678, 0.010318721844161865), (679, 0.0), (680, 0.023470961447851012), (681, 0.022688375633663244), (682, 0.0), (683, 0.02739110385155027), (684, 0.002162560974810137), (685, 0.02936727491664317), (686, 0.045772740499301266), (687, 0.0105013653610075), (688, 0.003264739609629911), (689, 0.012344309735513828), (690, 0.0), (691, 0.002381930095045772), (692, 0.0), (693, 0.0028684169893623316), (694, 0.0027713961944165785), (695, 0.011653325921940554), (696, 0.002966447945277661), (697, 0.025381095193111398), (698, 0.002788350865799056), (699, 0.0), (700, 0.0), (701, 0.041421939458732696), (702, 0.018749348175536692), (703, 0.011196405910398053), (704, 0.0), (705, 0.0026090935155260097), (706, 0.002340801907839196), (707, 0.00247883309318751), (708, 0.0), (709, 0.0), (710, 0.008793248143364376), (711, 0.0), (712, 0.002603767265585237), (713, 0.009011451054340787), (714, 0.00977174873308338), (715, 0.013909116467264386), (716, 0.013217688691384039), (717, 0.003073361436200898), (718, 0.0), (719, 0.01253202277111164), (720, 0.0), (721, 0.003376781989735927), (722, 0.0026481136712306385), (723, 0.0), (724, 0.0), (725, 0.0), (726, 0.021224113517793856), (727, 0.015325866078776652), (728, 0.003178669908617305), (729, 0.017394808501246493), (730, 0.01220221335945145), (731, 0.012057253752010978), (732, 0.01970179689578915), (733, 0.02807874337809687), (734, 0.0027600706113101513), (735, 0.00402430674230964), (736, 0.009722266467208033), (737, 0.0033240457477366103), (738, 0.029636532968891526), (739, 0.017800039016027776), (740, 0.008326736601757867), (741, 0.0), (742, 0.046791228148134335), (743, 0.003028442541127236), (744, 0.025385111252838672), (745, 0.018528619025058365), (746, 0.02478718680542031), (747, 0.036448404074341044), (748, 0.02346916615490862), (749, 0.0029488986928005853), (750, 0.03630835294935287), (751, 0.12895706921098332), (752, 0.020212362379084928), (753, 0.0), (754, 0.0), (755, 0.002864100303891764), (756, 0.028003624314748024), (757, 0.017782674160313545), (758, 0.0), (759, 0.02209070953532529), (760, 0.01451414831690538), (761, 0.0029475647410397844), (762, 0.017370306854074483), (763, 0.01891914220767535), (764, 0.0), (765, 0.04630915603558633), (766, 0.002726902361818506), (767, 0.002795655557295255), (768, 0.0120893442445864), (769, 0.08278552852612407), (770, 0.008742470932762019), (771, 0.0), (772, 0.032408799130571805), (773, 0.020806451746275136), (774, 0.037418918478746586), (775, 0.0), (776, 0.01829074641300531), (777, 0.00354211743520193), (778, 0.020623654343575517), (779, 0.008090986243678319), (780, 0.030048411850808934), (781, 0.0), (782, 0.002828009311058384), (783, 0.013277947029740994), (784, 0.0), (785, 0.0), (786, 0.0), (787, 0.0018026718621075724), (788, 0.01629265862551345), (789, 0.043832068635723934), (790, 0.012262745497465397), (791, 0.034083876997775826), (792, 0.003134940463496858), (793, 0.0), (794, 0.003184955275744222), (795, 0.0), (796, 0.002446768219962209), (797, 0.0), (798, 0.002812444920270968), (799, 0.023710724144045976), (800, 0.011329461144451262), (801, 0.011589519254691153), (802, 0.03228432464489141), (803, 0.021562137614724836), (804, 0.02273328246170551), (805, 0.02243659395508757), (806, 0.026064269834888357), (807, 0.0), (808, 0.013751930439732551), (809, 0.00971733959981832), (810, 0.011820657513259988), (811, 0.02242307780726273), (812, 0.018948604006637858), (813, 0.01752006223176194), (814, 0.0), (815, 0.019888880800271846), (816, 0.012696311499863236), (817, 0.002851986071780763), (818, 0.029791472184018217), (819, 0.0), (820, 0.00836103123459412), (821, 0.0), (822, 0.0), (823, 0.0033970101188773357), (824, 0.024192285440209557), (825, 0.009366497989263459), (826, 0.07319116191212094), (827, 0.0), (828, 0.0027839960255550003), (829, 0.0027073156270374155), (830, 0.003098001557623396), (831, 0.002080546358782318), (832, 0.015860956860628852), (833, 0.011840717484404517), (834, 0.012549011858069937), (835, 0.011962471469215464), (836, 0.0), (837, 0.009109614666383312), (838, 0.0027404149795378615), (839, 0.0), (840, 0.0), (841, 0.010393166672684808), (842, 0.0118087219845158), (843, 0.012169173502743193), (844, 0.006353143729241926), (845, 0.02646104441085997), (846, 0.00969201418576766), (847, 0.003379566439287354), (848, 0.012517921420513327), (849, 0.0), (850, 0.0030002813148883698), (851, 0.0025817901438640444), (852, 0.002819149844356218), (853, 0.0022786509042483716), (854, 0.0028126005030281237), (855, 0.0), (856, 0.0026306513588138063), (857, 0.0032544577717436908), (858, 0.001989893351820276), (859, 0.020149029589665628), (860, 0.003414656826198643), (861, 0.00253784533946789), (862, 0.016659373487025682), (863, 0.011521687996409506), (864, 0.01576242694554835), (865, 0.003026105827503694), (866, 0.023497120029524886), (867, 0.012422440956526748), (868, 0.022527217747869165), (869, 0.0), (870, 0.037067809382792374), (871, 0.012753498571905534), (872, 0.024609111319704863), (873, 0.0), (874, 0.0025415308767663155), (875, 0.024506367781679098), (876, 0.00336389071563705), (877, 0.01602610582441963), (878, 0.011723661010872275), (879, 0.0030746907955089857), (880, 0.015375147849406799), (881, 0.0), (882, 0.0), (883, 0.06283025997481548), (884, 0.022961667711597557), (885, 0.00264343517822588), (886, 0.0027629500430175875), (887, 0.0032045100299419914), (888, 0.013756671303990135), (889, 0.0037928558667432105), (890, 0.0030736605101612103), (891, 0.05459996712685129), (892, 0.0), (893, 0.01724349251726139), (894, 0.0029194420103697207), (895, 0.011743225025499186), (896, 0.029986817532048873), (897, 0.01250678706485675), (898, 0.008526685296196622), (899, 0.0027167055893025766), (900, 0.002755518870692811), (901, 0.010440114662944377), (902, 0.05644008817081013), (903, 0.02154745893280238), (904, 0.011142040517550163), (905, 0.0), (906, 0.011801064893070826), (907, 0.002710210913672938), (908, 0.025850356825590445), (909, 0.0), (910, 0.014279419714825398), (911, 0.014019100838699505), (912, 0.017621926706533626), (913, 0.03150115664907447), (914, 0.014672934096238002), (915, 0.012174476917023856), (916, 0.0), (917, 0.0026379514856043713), (918, 0.04072748614690727), (919, 0.024085867339155978), (920, 0.0), (921, 0.0027428431754722617), (922, 0.016602067848913788), (923, 0.021253805878699118), (924, 0.010979230203828759), (925, 0.003388702141072238), (926, 0.0), (927, 0.01241029396602724), (928, 0.0), (929, 0.009092541247922869), (930, 0.0031281165450089445), (931, 0.0), (932, 0.029224322081463677), (933, 0.0030098316866191896), (934, 0.013486318134159124), (935, 0.002741200536218932), (936, 0.03266681728624732), (937, 0.018224885080774095), (938, 0.019168106164876214), (939, 0.0027797692325070107), (940, 0.002062566442003194), (941, 0.002760277388171725), (942, 0.0023959156216210283), (943, 0.0), (944, 0.00274577939898043), (945, 0.0), (946, 0.0), (947, 0.003975469563111644), (948, 0.014921319641571723), (949, 0.029088514009740767), (950, 0.0), (951, 0.002487929305650216), (952, 0.038525573434951), (953, 0.028126464809111452), (954, 0.02268583719162352), (955, 0.01138691134414517), (956, 0.0), (957, 0.011333983517059568), (958, 0.0), (959, 0.002862556139620151), (960, 0.0), (961, 0.0), (962, 0.011951921861110448), (963, 0.03033513304729063), (964, 0.0), (965, 0.0), (966, 0.002782608986974941), (967, 0.0032537930140050264), (968, 0.002669660002505942), (969, 0.0030080810000720267), (970, 0.0), (971, 0.012197894898191815), (972, 0.007397305542288775), (973, 0.0029035527681616187), (974, 0.0), (975, 0.0027589627226069827), (976, 0.013335222382716809), (977, 0.032183896005298265), (978, 0.0), (979, 0.03252028385082634), (980, 0.02590471679390766), (981, 0.029216197143674016), (982, 0.0), (983, 0.0), (984, 0.011806736821761563), (985, 0.0033712949434701158), (986, 0.0029448773885936965), (987, 0.003056801984052018), (988, 0.036666084315199465), (989, 0.0028987211276703014), (990, 0.03752551457308826), (991, 0.003163524443497692), (992, 0.021439284100261927), (993, 0.028538476244964653), (994, 0.03204733657429118), (995, 0.0), (996, 0.0), (997, 0.0265360921747467), (998, 0.0033409579389566367), (999, 0.003338223597735514), (1000, 0.05106786589405725), (1001, 0.01201318934828705), (1002, 0.0028080098494577014), (1003, 0.020483861575853423), (1004, 0.0026415639208673277), (1005, 0.0022526288358035162), (1006, 0.029597741711215417), (1007, 0.028897730529697126), (1008, 0.0), (1009, 0.002614473782035954), (1010, 0.0), (1011, 0.03353884813194222), (1012, 0.025145256208226534), (1013, 0.031379483005678416), (1014, 0.023217710485510343), (1015, 0.0031857622671917856), (1016, 0.0), (1017, 0.02436211017195744), (1018, 0.008421607582675163), (1019, 0.005593263454679073), (1020, 0.012092750883251693), (1021, 0.002935584091558918), (1022, 0.029370378032500383), (1023, 0.003312773206216922), (1024, 0.0), (1025, 0.0), (1026, 0.0028919399397887), (1027, 0.012052962937118787), (1028, 0.0), (1029, 0.024020043723814), (1030, 0.01201508034270575), (1031, 0.031370726061040646), (1032, 0.0027835811694911857), (1033, 0.014952184178854126), (1034, 0.0028223331186453754), (1035, 0.0028630609180375424), (1036, 0.01188804474214145), (1037, 0.002397380400828378), (1038, 0.0), (1039, 0.0), (1040, 0.00230183275449516), (1041, 0.011651196415519226), (1042, 0.01036662748455414), (1043, 0.00322060108146598), (1044, 0.021379580907400986), (1045, 0.0), (1046, 0.01702127888885349), (1047, 0.019923730127117487), (1048, 0.0030625494480775194), (1049, 0.0034946159165461436), (1050, 0.021352992284248525), (1051, 0.015473324295253464), (1052, 0.03423020378592713), (1053, 0.003466394326537797), (1054, 0.0), (1055, 0.027116990781739778), (1056, 0.032102158016199304), (1057, 0.02150311677809582), (1058, 0.02736764675345861), (1059, 0.002917287047070199), (1060, 0.002843478098924203), (1061, 0.008694346708790088), (1062, 0.0), (1063, 0.009331093449877854), (1064, 0.030599302480827623), (1065, 0.0026936607423385566), (1066, 0.018456961471965398), (1067, 0.009027611650764756), (1068, 0.022659991563673598), (1069, 0.03301175111931954), (1070, 0.0), (1071, 0.016646693212498002), (1072, 0.0029189917031354905), (1073, 0.0), (1074, 0.02010162068005694), (1075, 0.013278100573322325), (1076, 0.00930927956288676), (1077, 0.01511752727396341), (1078, 0.0024543167171018642), (1079, 0.002710159044730741), (1080, 0.0026530998560819435), (1081, 0.01164017906662265), (1082, 0.05109589096783662), (1083, 0.03708111824539991), (1084, 0.030900347332673984), (1085, 0.009845398652390187), (1086, 0.009020226696006736), (1087, 0.002996202865571921), (1088, 0.0025193211442987346), (1089, 0.0), (1090, 0.0), (1091, 0.032301717873054143), (1092, 0.0), (1093, 0.0), (1094, 0.0), (1095, 0.01790924904327134), (1096, 0.0028671502666200834), (1097, 0.0320613978109759), (1098, 0.0024032090400299168), (1099, 0.0), (1100, 0.02786125539430126), (1101, 0.04306478169098485), (1102, 0.002924964762160515), (1103, 0.0), (1104, 0.0), (1105, 0.009605803703702684), (1106, 0.02737048231415669), (1107, 0.0027420298104115716), (1108, 0.020447643678730337), (1109, 0.016408484633394924), (1110, 0.0028968368912119517), (1111, 0.02047864421888223), (1112, 0.0029353431411053097), (1113, 0.0), (1114, 0.022347716808542407), (1115, 0.0), (1116, 0.0), (1117, 0.014215484425548416), (1118, 0.011386366888075898), (1119, 0.0031465487103669028), (1120, 0.02531916393471178), (1121, 0.01579163370086557), (1122, 0.003000440508293945), (1123, 0.011979329183887952), (1124, 0.012868509973800674), (1125, 0.0), (1126, 0.0), (1127, 0.0), (1128, 0.021860341444146128), (1129, 0.04143106931849003), (1130, 0.0), (1131, 0.002956962423032439), (1132, 0.0028008459679468153), (1133, 0.0), (1134, 0.026595888689223565), (1135, 0.0), (1136, 0.002583701418081134), (1137, 0.040678340664849974), (1138, 0.015779628214548102), (1139, 0.0), (1140, 0.038159777400785605), (1141, 0.003149512520179753), (1142, 0.02527373113366064), (1143, 0.029241581679807782), (1144, 0.0023496466754238405), (1145, 0.004075314068044003), (1146, 0.01937676549986161), (1147, 0.0), (1148, 0.04084178963182467), (1149, 0.020583917619799805), (1150, 0.03203144670243954), (1151, 0.02009453056953061), (1152, 0.0), (1153, 0.0), (1154, 0.0267934637914976), (1155, 0.0), (1156, 0.02083732857007343), (1157, 0.0), (1158, 0.0), (1159, 0.0), (1160, 0.0027973112908340828), (1161, 0.0026603471873686366), (1162, 0.012928828538633797), (1163, 0.01239051183690387), (1164, 0.016295074054978143), (1165, 0.024989784850526574), (1166, 0.07866194490104228), (1167, 0.0), (1168, 0.02650217740452665), (1169, 0.00344920350561828), (1170, 0.025303834111538265), (1171, 0.01815299972083044), (1172, 0.0), (1173, 0.0), (1174, 0.0030128491952099022), (1175, 0.002974240104621704), (1176, 0.0030083340049340064), (1177, 0.034830101459199216), (1178, 0.008204019498578493), (1179, 0.031723011907598915), (1180, 0.0), (1181, 0.0), (1182, 0.003006868430635217), (1183, 0.00273552118398245), (1184, 0.028594223172411354), (1185, 0.020146752847216245), (1186, 0.010898831691482518), (1187, 0.0034625927047330592), (1188, 0.0030933101764374776), (1189, 0.0), (1190, 0.0), (1191, 0.002958750095860285), (1192, 0.026462063744129), (1193, 0.0), (1194, 0.00843778748211704), (1195, 0.020773003191406906), (1196, 0.023967400078410875), (1197, 0.0290383016090043), (1198, 0.011730488519964371), (1199, 0.030646329549385516), (1200, 0.0), (1201, 0.0), (1202, 0.002499819779604789), (1203, 0.023731502175873893), (1204, 0.0029901516821319416), (1205, 0.03393218740988841), (1206, 0.0027550158971465484), (1207, 0.0), (1208, 0.0037573213549414648), (1209, 0.002455915061678472), (1210, 0.0), (1211, 0.0), (1212, 0.017288347521211625), (1213, 0.00848352951532681), (1214, 0.0), (1215, 0.002522632854167073), (1216, 0.0256897251781344), (1217, 0.002558585915611526), (1218, 0.009029669590594057), (1219, 0.002643880327425613), (1220, 0.030669194332908697), (1221, 0.008029025049659124), (1222, 0.0), (1223, 0.0029585260935758194), (1224, 0.022837396114280692), (1225, 0.02348529455967683), (1226, 0.0), (1227, 0.0), (1228, 0.0103635199662466), (1229, 0.04102930899379349), (1230, 0.039752036050505736), (1231, 0.0), (1232, 0.0029698612722962934), (1233, 0.03425375135950309), (1234, 0.013143878037506093), (1235, 0.0), (1236, 0.008607989356794788), (1237, 0.0026752800305850587), (1238, 0.0), (1239, 0.024280012383342674), (1240, 0.0), (1241, 0.010203945518115931), (1242, 0.0), (1243, 0.003214501936785756), (1244, 0.021986889946617967), (1245, 0.03164367184032305), (1246, 0.010225338768779154), (1247, 0.011988671614649392), (1248, 0.012110384487188784), (1249, 0.017373983379878787), (1250, 0.030268611638641175), (1251, 0.002607898729007475), (1252, 0.015455059940051192), (1253, 0.0), (1254, 0.012918300682386984), (1255, 0.014821575309217502), (1256, 0.03904757433412152), (1257, 0.0029041247037572483), (1258, 0.056843539801587434), (1259, 0.00865126482465283), (1260, 0.0), (1261, 0.002853406696676843), (1262, 0.01998664869143528), (1263, 0.0), (1264, 0.0035500354628528463), (1265, 0.032067873886757726), (1266, 0.009852766503171873), (1267, 0.0), (1268, 0.0), (1269, 0.0200077475073341), (1270, 0.0), (1271, 0.023205476766470494), (1272, 0.023770203649437917), (1273, 0.025764914657804373), (1274, 0.0), (1275, 0.01707437332452192), (1276, 0.0), (1277, 0.018188485054597414), (1278, 0.0), (1279, 0.0), (1280, 0.021339581083181167), (1281, 0.02743661028774904), (1282, 0.0), (1283, 0.01891451694035673), (1284, 0.01208285722321346), (1285, 0.01918613697431373), (1286, 0.002889214966652394), (1287, 0.0), (1288, 0.02618609899653919), (1289, 0.0), (1290, 0.0026109491496128638), (1291, 0.010977172939627003), (1292, 0.0), (1293, 0.0), (1294, 0.012939546317405985), (1295, 0.0441060288306976), (1296, 0.01647095686208444), (1297, 0.0), (1298, 0.002930799669053444), (1299, 0.010137924182240212), (1300, 0.008003575329677468), (1301, 0.010844072854918299), (1302, 0.00979503157713674), (1303, 0.012576940761540811), (1304, 0.01260882687473322), (1305, 0.0024364246440506145), (1306, 0.025325455268089117), (1307, 0.020994631222503432), (1308, 0.013576308583986613), (1309, 0.0), (1310, 0.00871639417891437), (1311, 0.0), (1312, 0.01047478620776463), (1313, 0.0029041189011842035), (1314, 0.024103628590106473), (1315, 0.04028425459288031), (1316, 0.0), (1317, 0.0023878391292423396), (1318, 0.022541664698830295), (1319, 0.002891424765330065), (1320, 0.03355939906776018), (1321, 0.0), (1322, 0.0), (1323, 0.0), (1324, 0.0031437162980355814), (1325, 0.016907626119134385), (1326, 0.00788374393547875), (1327, 0.0), (1328, 0.0), (1329, 0.0), (1330, 0.0), (1331, 0.0), (1332, 0.010545913416606937), (1333, 0.0), (1334, 0.028178612646194146), (1335, 0.022095489284491378), (1336, 0.0), (1337, 0.0030075610292132995), (1338, 0.021517671332502864), (1339, 0.0031325563573123155), (1340, 0.002502828098642406), (1341, 0.024216340393824073), (1342, 0.00989583071647796), (1343, 0.0), (1344, 0.007653809314173935), (1345, 0.0), (1346, 0.0), (1347, 0.04129291357658311), (1348, 0.01102052483261824), (1349, 0.003320658960409244), (1350, 0.002870758972319029), (1351, 0.016134155745322308), (1352, 0.0025034015198137152), (1353, 0.0), (1354, 0.01848676964880963), (1355, 0.01515360252438207), (1356, 0.021376937956460076), (1357, 0.0027159165932074112), (1358, 0.019750630026733447), (1359, 0.0031668387944595424), (1360, 0.014197091989797815), (1361, 0.02035660131705323), (1362, 0.0), (1363, 0.011246693858288657), (1364, 0.02519362651019439), (1365, 0.0024886795943187324), (1366, 0.0026584379498279295), (1367, 0.0024611202659501853), (1368, 0.009317949137638696), (1369, 0.0024121359072914513), (1370, 0.0025411500963043823), (1371, 0.010514273912310388), (1372, 0.011643575466071317), (1373, 0.00935618237416113), (1374, 0.009472103580723274), (1375, 0.03300128628422147), (1376, 0.0), (1377, 0.002377357190373261), (1378, 0.015585899754631493), (1379, 0.010271540867128701), (1380, 0.009982377208256172), (1381, 0.04859863317348465), (1382, 0.003041978567614705), (1383, 0.027388725117105495), (1384, 0.008595292581700265), (1385, 0.012620491007598593), (1386, 0.0), (1387, 0.022800258662894698), (1388, 0.012707111500656702), (1389, 0.0), (1390, 0.0), (1391, 0.014115126235493132), (1392, 0.011206776202142658), (1393, 0.0), (1394, 0.002611091280224064), (1395, 0.0), (1396, 0.020957472087865917), (1397, 0.0025485716867529023), (1398, 0.017130072184720714), (1399, 0.0), (1400, 0.026623316848706377), (1401, 0.0), (1402, 0.0030903888514394466), (1403, 0.002264319806719684), (1404, 0.002785819633263088), (1405, 0.0), (1406, 0.0), (1407, 0.0), (1408, 0.0214945254464564), (1409, 0.01327905445706216), (1410, 0.0029786228930403086), (1411, 0.0029122562525643937), (1412, 0.0), (1413, 0.023329227823513123), (1414, 0.02236054332666198), (1415, 0.002414605965564142), (1416, 0.002816313404188608), (1417, 0.002300512216555316), (1418, 0.0), (1419, 0.009669019186830934), (1420, 0.02221872121346799), (1421, 0.011965966624611659), (1422, 0.023681697535703414), (1423, 0.0026155492996396174), (1424, 0.0), (1425, 0.032538885614800936), (1426, 0.010231797073688886), (1427, 0.002415874366995013), (1428, 0.0), (1429, 0.01875292147998882), (1430, 0.00880118286862545), (1431, 0.01977827647343158), (1432, 0.0), (1433, 0.03037069192148269), (1434, 0.002690719857040157), (1435, 0.00967695385083376), (1436, 0.0), (1437, 0.0), (1438, 0.002918659945261409), (1439, 0.025466616883102013), (1440, 0.002992623846765407), (1441, 0.0), (1442, 0.015396459716919473), (1443, 0.0), (1444, 0.0), (1445, 0.010090487003862274), (1446, 0.0028242283608276965), (1447, 0.011688723652631102), (1448, 0.02335468269431991), (1449, 0.0), (1450, 0.010862169340426841), (1451, 0.0), (1452, 0.0), (1453, 0.0), (1454, 0.0032370346606549493), (1455, 0.02535214824684355), (1456, 0.0027354892775859896), (1457, 0.0), (1458, 0.008173862502430976), (1459, 0.0), (1460, 0.0), (1461, 0.0), (1462, 0.0027031661487526633), (1463, 0.011967509931597823), (1464, 0.002414116746782571), (1465, 0.010761290154414386), (1466, 0.01103427826505443), (1467, 0.03268561460449524), (1468, 0.017763270906424215), (1469, 0.020746324118097806), (1470, 0.0122662590484205), (1471, 0.009204541668416904), (1472, 0.002981390882574219), (1473, 0.0), (1474, 0.0138424412388384), (1475, 0.0030723267396187436), (1476, 0.002985835944879468), (1477, 0.02120244499304031), (1478, 0.014170226591228897), (1479, 0.003232372035506819), (1480, 0.020753709989915513), (1481, 0.0028524150427172547), (1482, 0.0), (1483, 0.012316114056717365), (1484, 0.013333181518015508), (1485, 0.0), (1486, 0.022069865219379297), (1487, 0.008974158311550368), (1488, 0.0029545368785855552), (1489, 0.003311581906321106), (1490, 0.0), (1491, 0.0), (1492, 0.0), (1493, 0.024471500009890998), (1494, 0.0030361032261592437), (1495, 0.019455136865005062), (1496, 0.01113590568549651), (1497, 0.003363465541759589), (1498, 0.038602097525737615), (1499, 0.003299088937933435), (1500, 0.014620887974140233), (1501, 0.018906559221714515), (1502, 0.031158032526000367), (1503, 0.011253910798117208), (1504, 0.0), (1505, 0.02009807355408742), (1506, 0.03259966501733702), (1507, 0.0), (1508, 0.011670591434952554), (1509, 0.017254060374630117), (1510, 0.02468842873574928), (1511, 0.013738617141659824), (1512, 0.025548332137522573), (1513, 0.0030700303717401925), (1514, 0.002727471104289104), (1515, 0.020170643738443017), (1516, 0.0030351343713730236), (1517, 0.025271396426650803), (1518, 0.023769313174280722), (1519, 0.023177815523965424), (1520, 0.010367154248607438), (1521, 0.0), (1522, 0.021585055347057597), (1523, 0.0), (1524, 0.0), (1525, 0.009901855066284836), (1526, 0.0), (1527, 0.002884270844368426), (1528, 0.0026768227187047165), (1529, 0.055598712125449326), (1530, 0.0164116802516166), (1531, 0.012521250984274247), (1532, 0.0), (1533, 0.0029895137032206268), (1534, 0.00985072870013297), (1535, 0.03293129821656202), (1536, 0.020839235350914573), (1537, 0.0031552852964810414), (1538, 0.0026750780477047893), (1539, 0.0026279179875514694), (1540, 0.0), (1541, 0.0), (1542, 0.0), (1543, 0.002715231040037118), (1544, 0.0), (1545, 0.009260928614890192), (1546, 0.01724001965336944), (1547, 0.014680513417174175), (1548, 0.03212998061890954), (1549, 0.0), (1550, 0.0029060629627471945), (1551, 0.0), (1552, 0.0), (1553, 0.002601014767887401), (1554, 0.04311838514048991), (1555, 0.013775577975958415), (1556, 0.0), (1557, 0.0), (1558, 0.0027395869454223767), (1559, 0.0), (1560, 0.010882838126799632), (1561, 0.0), (1562, 0.008945306055426653), (1563, 0.0), (1564, 0.0), (1565, 0.002519093383286991), (1566, 0.020056155764374854), (1567, 0.0), (1568, 0.0), (1569, 0.0), (1570, 0.0030994122757714545), (1571, 0.010262105872513002), (1572, 0.0031358741317776863), (1573, 0.0), (1574, 0.03706495419869044), (1575, 0.058911144943861765), (1576, 0.0), (1577, 0.009547890042283487), (1578, 0.026733988533591387), (1579, 0.0188370377290272), (1580, 0.01632870163042753), (1581, 0.0), (1582, 0.012100978016551448), (1583, 0.02643046331297876), (1584, 0.018301477778982812), (1585, 0.024253482493914603), (1586, 0.0), (1587, 0.0), (1588, 0.022334383084060976), (1589, 0.0), (1590, 0.026208641128234816), (1591, 0.0), (1592, 0.02880223712559425), (1593, 0.0152752539318264), (1594, 0.0032996726092232227), (1595, 0.014116763391775072), (1596, 0.0), (1597, 0.011956726422721218), (1598, 0.002909240966123937), (1599, 0.011998454326619256), (1600, 0.0), (1601, 0.0), (1602, 0.0), (1603, 0.0), (1604, 0.0), (1605, 0.02559415674383125), (1606, 0.0), (1607, 0.0), (1608, 0.037169758113749965), (1609, 0.0), (1610, 0.0), (1611, 0.0), (1612, 0.012551588475846774), (1613, 0.02084479548355651), (1614, 0.02388640455033134), (1615, 0.026441526266267317), (1616, 0.019563769845154375), (1617, 0.012117734979723967), (1618, 0.0), (1619, 0.0031407129314798984), (1620, 0.02081638254348298), (1621, 0.0029053428595966534), (1622, 0.012436946154039473), (1623, 0.011715793115615183), (1624, 0.0023982176057473787), (1625, 0.0026500932447598704), (1626, 0.0), (1627, 0.0025192274227366657), (1628, 0.0026966070676490653), (1629, 0.022781590215183136), (1630, 0.009163526372488245), (1631, 0.018142818841563244), (1632, 0.024336882210835773), (1633, 0.009227927588052302), (1634, 0.0029209594040316474), (1635, 0.0), (1636, 0.0), (1637, 0.013314289695884721), (1638, 0.0), (1639, 0.0), (1640, 0.0), (1641, 0.0027329316481264202), (1642, 0.002727607066273054), (1643, 0.003094061441944328), (1644, 0.011837178535872338), (1645, 0.0344295948870116), (1646, 0.0), (1647, 0.0), (1648, 0.00220087997720718), (1649, 0.027677032443440445), (1650, 0.022676865585130643), (1651, 0.018185173601252807), (1652, 0.0), (1653, 0.03164663426548173), (1654, 0.0), (1655, 0.018000209808173656), (1656, 0.0033788534579985733), (1657, 0.018099304156110625), (1658, 0.003262867111999905), (1659, 0.010088869885164477), (1660, 0.003079251301597477), (1661, 0.010399810780489883), (1662, 0.029722623344625297), (1663, 0.002776408202425549), (1664, 0.018979809871030876), (1665, 0.014605618936644287), (1666, 0.012429949690954475), (1667, 0.002716094121774278), (1668, 0.0), (1669, 0.0262274263021844), (1670, 0.0031018806716813408), (1671, 0.015102626274145875), (1672, 0.011538793388628617), (1673, 0.02363050455099559), (1674, 0.010534976794959284), (1675, 0.01130764904657639), (1676, 0.017067229761090538), (1677, 0.025682851028776207), (1678, 0.012532624331983658), (1679, 0.0104639792763316), (1680, 0.011272887359535478), (1681, 0.02099438792974579), (1682, 0.002765629722246746), (1683, 0.0031536936694043973), (1684, 0.0), (1685, 0.013335902008230727), (1686, 0.0), (1687, 0.025788350401825352), (1688, 0.0030052173105400105), (1689, 0.01013239177204925), (1690, 0.002655259149599784), (1691, 0.002514660942312305), (1692, 0.0), (1693, 0.0027671013451071435), (1694, 0.0), (1695, 0.0), (1696, 0.01965126140483136), (1697, 0.0), (1698, 0.008175803586047812), (1699, 0.0), (1700, 0.01129397157298859), (1701, 0.025182304057698585), (1702, 0.0), (1703, 0.003049269029818244), (1704, 0.024591995024066414), (1705, 0.013548224216146623), (1706, 0.012719438921295562), (1707, 0.0292968402256864), (1708, 0.013538008074862318), (1709, 0.011109474567699423), (1710, 0.002791692368381583), (1711, 0.0036957640107241254), (1712, 0.0031501809800917034), (1713, 0.0), (1714, 0.0), (1715, 0.0), (1716, 0.03639516643622256), (1717, 0.0030352158579258714), (1718, 0.0), (1719, 0.02828681529954614), (1720, 0.0), (1721, 0.0), (1722, 0.002976077694368512), (1723, 0.0), (1724, 0.010191504258981287), (1725, 0.03430770488326457), (1726, 0.0), (1727, 0.02627953908715422), (1728, 0.0), (1729, 0.010793464324494278), (1730, 0.0026868607876832937), (1731, 0.010353970886650939), (1732, 0.010321860559951355), (1733, 0.0032314050091579497), (1734, 0.0), (1735, 0.0), (1736, 0.0030852275375157397), (1737, 0.0), (1738, 0.0), (1739, 0.002649907221170762), (1740, 0.012858010073965562), (1741, 0.009735649709688684), (1742, 0.0117362917374116), (1743, 0.002508564232413751), (1744, 0.0028115007598984534), (1745, 0.017152735401922477), (1746, 0.0), (1747, 0.002293531690685653), (1748, 0.02847663953009399), (1749, 0.0), (1750, 0.0179096415718138), (1751, 0.009771012140601448), (1752, 0.0), (1753, 0.0), (1754, 0.013885150344224188), (1755, 0.0), (1756, 0.03082882725127945), (1757, 0.0), (1758, 0.011167520139604016), (1759, 0.0027846207851047544), (1760, 0.014422419516786852), (1761, 0.02503963278255675), (1762, 0.011244627787535755), (1763, 0.002523760137130787), (1764, 0.032181264836485535), (1765, 0.003048106392180134), (1766, 0.024639416176434482), (1767, 0.0), (1768, 0.0030300607533113224), (1769, 0.0), (1770, 0.0), (1771, 0.011553560736623647), (1772, 0.017390044186995444), (1773, 0.0), (1774, 0.028959231777098013), (1775, 0.010077135219054796), (1776, 0.002595480779853658), (1777, 0.01217474880764159), (1778, 0.0), (1779, 0.01660787290162723), (1780, 0.001922519993396631), (1781, 0.010083230408908584), (1782, 0.060586301771326505), (1783, 0.018855989930527017), (1784, 0.03453757795654985), (1785, 0.0), (1786, 0.010410193051574902), (1787, 0.0), (1788, 0.0), (1789, 0.0), (1790, 0.0), (1791, 0.021334558389359243), (1792, 0.028583163702683892), (1793, 0.002762240179787197), (1794, 0.0), (1795, 0.0), (1796, 0.0404921118836377), (1797, 0.008466695353717182), (1798, 0.01332514719319482), (1799, 0.04790727840536561), (1800, 0.0), (1801, 0.0024750288977571696), (1802, 0.025130667632330964), (1803, 0.0), (1804, 0.009493990343252639), (1805, 0.04772939281785574), (1806, 0.0), (1807, 0.002890771210691073), (1808, 0.0026430775520151256), (1809, 0.0), (1810, 0.04877154827031681), (1811, 0.0250535521623799), (1812, 0.013515407343123976), (1813, 0.012237173067484263), (1814, 0.0027135751299198507), (1815, 0.010956876131102312), (1816, 0.0), (1817, 0.011354217102282795), (1818, 0.021158842106181172), (1819, 0.013786124589642469), (1820, 0.02076431680516362), (1821, 0.013025155207233305), (1822, 0.0031110499772792565), (1823, 0.0), (1824, 0.020217249007837043), (1825, 0.0), (1826, 0.002664975363237982), (1827, 0.01122429698663201), (1828, 0.010876068390853979), (1829, 0.024074745446724357), (1830, 0.0026113423893537307), (1831, 0.012272750654896365), (1832, 0.009863318966146848), (1833, 0.013357361600781138), (1834, 0.0), (1835, 0.045634315622246555), (1836, 0.022250635719812006), (1837, 0.0), (1838, 0.0), (1839, 0.0), (1840, 0.01722401427156892), (1841, 0.02509170774678313), (1842, 0.0), (1843, 0.003342663138657551), (1844, 0.02786769345079075), (1845, 0.0024922264123271227), (1846, 0.011544282207550488), (1847, 0.0), (1848, 0.0031725543710593904), (1849, 0.0), (1850, 0.008329878117625807), (1851, 0.0376592277463959), (1852, 0.024162759906968923), (1853, 0.0031194941728626023), (1854, 0.002813817948267535), (1855, 0.011833955285715335), (1856, 0.0), (1857, 0.024121853818733642), (1858, 0.014103986252834533), (1859, 0.013340986552698265), (1860, 0.024952383881583527), (1861, 0.0022338959130789224), (1862, 0.0033006620204116825), (1863, 0.0), (1864, 0.031213392798914365), (1865, 0.011434837323189619), (1866, 0.0032180357326254973), (1867, 0.022051261779493556), (1868, 0.0), (1869, 0.002668328369212323), (1870, 0.03131847703948008), (1871, 0.01741276587678085), (1872, 0.0029807844239728336), (1873, 0.022331613355948306), (1874, 0.003184995388193754), (1875, 0.00270634314873129), (1876, 0.012677048292840588), (1877, 0.012027874623110403), (1878, 0.011967994842920632), (1879, 0.0), (1880, 0.011554061028310546), (1881, 0.0), (1882, 0.0028875550241531127), (1883, 0.0), (1884, 0.0027545877465367124), (1885, 0.003453146351656715), (1886, 0.0023424404001749087), (1887, 0.0033397953197939314), (1888, 0.0), (1889, 0.012031254368646303), (1890, 0.0032701628192795566), (1891, 0.01249527216379755), (1892, 0.014164740405199619), (1893, 0.003108416116830544), (1894, 0.0), (1895, 0.009097559143262606), (1896, 0.025802641729624567), (1897, 0.016913282415883982), (1898, 0.0), (1899, 0.0), (1900, 0.021478840040773106), (1901, 0.026014045841281714), (1902, 0.013046708172930408), (1903, 0.029832088492706743), (1904, 0.02119326536073132), (1905, 0.026517131539364306), (1906, 0.0), (1907, 0.0031722874006691105), (1908, 0.03937096920428803), (1909, 0.01679592807937629), (1910, 0.0), (1911, 0.02081102550539281), (1912, 0.009246200634774786), (1913, 0.0), (1914, 0.0), (1915, 0.0), (1916, 0.00310566775798224), (1917, 0.0), (1918, 0.013110951128329646), (1919, 0.019801039832860214), (1920, 0.014423182101696717), (1921, 0.002633849262604826), (1922, 0.002975051332990893), (1923, 0.0032730629635952537), (1924, 0.02863464703880518), (1925, 0.017494209000067887), (1926, 0.0), (1927, 0.02376651848814221), (1928, 0.010700838754740054), (1929, 0.00280956258533626), (1930, 0.0), (1931, 0.0030111306862345946), (1932, 0.0), (1933, 0.0), (1934, 0.013212868490389232), (1935, 0.008766149398779576), (1936, 0.024858634389731057), (1937, 0.0), (1938, 0.0), (1939, 0.0), (1940, 0.014787160544344405), (1941, 0.011558872964527532), (1942, 0.024745576586743), (1943, 0.010971145610028859), (1944, 0.020036914361895558), (1945, 0.032034916232380584), (1946, 0.0030284384686352158), (1947, 0.0034212215940902396), (1948, 0.039674936798671005), (1949, 0.022929440203330972), (1950, 0.002407262130256471), (1951, 0.003126832159492786), (1952, 0.013624060599916308), (1953, 0.0), (1954, 0.002610644484402597), (1955, 0.0), (1956, 0.0), (1957, 0.02132462274906449), (1958, 0.022771812835938696), (1959, 0.0031879639442738894), (1960, 0.0032630338949528608), (1961, 0.0), (1962, 0.0), (1963, 0.007813657429241238), (1964, 0.014100958982258185), (1965, 0.0), (1966, 0.030987797676517763), (1967, 0.045912353973746475), (1968, 0.00346101094738876), (1969, 0.0028441281293572537), (1970, 0.01289072209463594), (1971, 0.0024979794323251817), (1972, 0.0), (1973, 0.0), (1974, 0.008650099564724345), (1975, 0.03584096010678396), (1976, 0.03317526141622007), (1977, 0.011222561043162244), (1978, 0.0), (1979, 0.0), (1980, 0.0026433638422032105), (1981, 0.0), (1982, 0.018355624756344564), (1983, 0.016246243359208386), (1984, 0.027295304443773163), (1985, 0.012542363800614999), (1986, 0.018911927636544153), (1987, 0.04941253752248364), (1988, 0.011230039566568272), (1989, 0.0023670935165263415), (1990, 0.0087985433338726), (1991, 0.054848555812944934), (1992, 0.009022376314060538), (1993, 0.012079844960785811), (1994, 0.01701466013734156), (1995, 0.0304628737355651), (1996, 0.021251471456984285), (1997, 0.023769317919880326), (1998, 0.012804682166282985), (1999, 0.0), (2000, 0.009891287262118822), (2001, 0.0), (2002, 0.010107898577933329), (2003, 0.0), (2004, 0.013907938557980436), (2005, 0.0), (2006, 0.0), (2007, 0.0), (2008, 0.03395383418761368), (2009, 0.011438234146924223), (2010, 0.0023273888174721335), (2011, 0.0026798289248453136), (2012, 0.0), (2013, 0.007541407916510798), (2014, 0.01901945204680816), (2015, 0.0), (2016, 0.016193873803756545), (2017, 0.009855974854121104), (2018, 0.0163458455647501), (2019, 0.009591271351942652), (2020, 0.0), (2021, 0.02169206698823109), (2022, 0.04943298084756256), (2023, 0.011688683540499317), (2024, 0.0028221547807260224), (2025, 0.03526568961672561), (2026, 0.0), (2027, 0.02147425688022801), (2028, 0.027439410572213323), (2029, 0.023745919309585722), (2030, 0.0), (2031, 0.0026594335431701617), (2032, 0.0), (2033, 0.0), (2034, 0.0024280586535193904), (2035, 0.002496670690577571), (2036, 0.010787666291680962), (2037, 0.01612648556073422), (2038, 0.04630094660188589), (2039, 0.029045211466867907), (2040, 0.02701724597724403), (2041, 0.021678021471341336), (2042, 0.0), (2043, 0.010731311957846205), (2044, 0.013439045255169932), (2045, 0.012809829231777266), (2046, 0.009453462274917107), (2047, 0.03923313468993744), (2048, 0.003033345593775554), (2049, 0.003249045868437498), (2050, 0.011299833853863177), (2051, 0.0033484104070839503), (2052, 0.0), (2053, 0.0030426728312026555), (2054, 0.0), (2055, 0.0026710579115849092), (2056, 0.0), (2057, 0.0), (2058, 0.01808450866280295), (2059, 0.0), (2060, 0.012476648621211629), (2061, 0.03528543652200309), (2062, 0.019404543866976477), (2063, 0.0), (2064, 0.0), (2065, 0.0026477593913537428), (2066, 0.010864227390674464), (2067, 0.012487015440774886), (2068, 0.0028004602324761024), (2069, 0.012384269402352486), (2070, 0.0025208136253406102), (2071, 0.0), (2072, 0.03599864627528235), (2073, 0.003003613089793906), (2074, 0.029653849014708224), (2075, 0.0038616205906790344), (2076, 0.010630741382820429), (2077, 0.0), (2078, 0.015938002177060477), (2079, 0.0), (2080, 0.0028474542852969646), (2081, 0.022351927326907002), (2082, 0.013725616042218194), (2083, 0.013190941400388196), (2084, 0.0), (2085, 0.0), (2086, 0.031629573648378886), (2087, 0.002882497682306942), (2088, 0.003087724361213421), (2089, 0.018329689779437636), (2090, 0.020915216524622443), (2091, 0.02330714066985929), (2092, 0.009920861578819176), (2093, 0.008753982746634964), (2094, 0.020227471574781174), (2095, 0.009141290509590928), (2096, 0.013229994067372809), (2097, 0.04808444867999769), (2098, 0.0), (2099, 0.0027546171584199026), (2100, 0.0), (2101, 0.01056835090580655), (2102, 0.021387811653871807), (2103, 0.0028696968731403948), (2104, 0.003147439111897631), (2105, 0.0031382547272167296), (2106, 0.009784851419713537), (2107, 0.0), (2108, 0.003271086682286123), (2109, 0.027289330098295206), (2110, 0.00868449945885495), (2111, 0.0028868325384426145), (2112, 0.017217105966899467), (2113, 0.0), (2114, 0.016871340614541357), (2115, 0.010790420918873573), (2116, 0.057971633144095425), (2117, 0.014194153301333385), (2118, 0.005886765988076978), (2119, 0.02947634855442377), (2120, 0.02080624874139302), (2121, 0.002805710428550897), (2122, 0.0029751990281040638), (2123, 0.00305046544659051), (2124, 0.0), (2125, 0.018328379293429294), (2126, 0.003039334228944402), (2127, 0.010581516565440055), (2128, 0.00949680487530395), (2129, 0.0027308262738075816), (2130, 0.012789249307294224), (2131, 0.002831127508583379), (2132, 0.002462124614359078), (2133, 0.0027875545263824357), (2134, 0.01409880577563098), (2135, 0.008631570507003571), (2136, 0.021719158431626945), (2137, 0.020973149781583354), (2138, 0.0), (2139, 0.0), (2140, 0.0), (2141, 0.012047709914744926), (2142, 0.014700609071805638), (2143, 0.04460253761196263), (2144, 0.0029727390449408564), (2145, 0.0), (2146, 0.0025185976444452585), (2147, 0.0), (2148, 0.003054679548763548), (2149, 0.0027536392508526546), (2150, 0.009352165335367112), (2151, 0.013438905929103257), (2152, 0.01075892990924785), (2153, 0.0), (2154, 0.016145226512900644), (2155, 0.0029986452550939506), (2156, 0.0), (2157, 0.01043710582260719), (2158, 0.026033752122134185), (2159, 0.0032497916746489592), (2160, 0.0), (2161, 0.0), (2162, 0.0031648565642720112), (2163, 0.0026296773154655183), (2164, 0.0), (2165, 0.03865072258727885), (2166, 0.011870830189640993), (2167, 0.00909541511368027), (2168, 0.008099694246887737), (2169, 0.0029661774233385187), (2170, 0.0), (2171, 0.0), (2172, 0.0), (2173, 0.0029020767000042264), (2174, 0.0029212387041108474), (2175, 0.0), (2176, 0.013914499816183996), (2177, 0.017228512114508952), (2178, 0.01949254130632844), (2179, 0.0), (2180, 0.022907704193226037), (2181, 0.014360977312898367), (2182, 0.010849246236705174), (2183, 0.008955572269354523), (2184, 0.0), (2185, 0.06274507749711133), (2186, 0.0), (2187, 0.0033823898129321846), (2188, 0.0035967306886483664), (2189, 0.004136986491544199), (2190, 0.0031767289093046097), (2191, 0.013989656188699856), (2192, 0.0029679160868581805), (2193, 0.002973936011299576), (2194, 0.010016296310667626), (2195, 0.012379660351757913), (2196, 0.0031165765137704834), (2197, 0.0), (2198, 0.0), (2199, 0.0038363321705590374), (2200, 0.0), (2201, 0.0027415535525846055), (2202, 0.0), (2203, 0.020431325262300234), (2204, 0.0), (2205, 0.03946111004456848), (2206, 0.0), (2207, 0.008665536316058904), (2208, 0.01023578778369014), (2209, 0.0032810172572684533), (2210, 0.02790892575507212), (2211, 0.018331600403779343), (2212, 0.024269767873113815), (2213, 0.002628133567969994), (2214, 0.003204344561675119), (2215, 0.0), (2216, 0.002888342727298782), (2217, 0.020979520575103397), (2218, 0.03895557666263369), (2219, 0.0), (2220, 0.0), (2221, 0.027138832981059194), (2222, 0.009975299529147297), (2223, 0.0033509062558782156), (2224, 0.0027965505539193337), (2225, 0.06051863830773243), (2226, 0.0028817711593278773), (2227, 0.0), (2228, 0.012499333756009371), (2229, 0.013564664799249983), (2230, 0.012747341034875681), (2231, 0.013981313189236282), (2232, 0.019578500289375717), (2233, 0.04846680148257971), (2234, 0.0), (2235, 0.013000762456772045), (2236, 0.013427870569302103), (2237, 0.002586057361701321), (2238, 0.0), (2239, 0.020792541567137116), (2240, 0.01089249052500538), (2241, 0.041913029445556985), (2242, 0.011797938268051523), (2243, 0.012711206567633434), (2244, 0.0), (2245, 0.01144608556886536), (2246, 0.022075723389764677), (2247, 0.0), (2248, 0.002649529816328892), (2249, 0.012393106847457003), (2250, 0.036835301306233345), (2251, 0.0041005429704034785), (2252, 0.0), (2253, 0.0), (2254, 0.029456179981036088), (2255, 0.0038022893311789544), (2256, 0.0), (2257, 0.0037943744127850267), (2258, 0.0), (2259, 0.009839829740063512), (2260, 0.0031526685306878808), (2261, 0.0), (2262, 0.0), (2263, 0.010365062640189717), (2264, 0.0026182585262247986), (2265, 0.05967823073853136), (2266, 0.003628854747667936), (2267, 0.0), (2268, 0.0028462744623582964), (2269, 0.026679259740105463), (2270, 0.0025463704052982776), (2271, 0.0), (2272, 0.0), (2273, 0.014933132658030318), (2274, 0.0), (2275, 0.0), (2276, 0.0), (2277, 0.04572184448014119), (2278, 0.030128169248537878), (2279, 0.00287152277254981), (2280, 0.029227988884075042), (2281, 0.0), (2282, 0.0), (2283, 0.03144309032317095), (2284, 0.014877542645935644), (2285, 0.0220053194083533), (2286, 0.029376677422827346), (2287, 0.0024587578298897665), (2288, 0.0031172900609066864), (2289, 0.0029267188271075583), (2290, 0.02175197882497904), (2291, 0.03309573916203924), (2292, 0.003001627833241352), (2293, 0.003212430724376705), (2294, 0.02675788096668738), (2295, 0.012805039334633003), (2296, 0.0), (2297, 0.0), (2298, 0.0), (2299, 0.004712774414950863), (2300, 0.0), (2301, 0.011354183388648964), (2302, 0.0033474182346030397), (2303, 0.0027795366487243425), (2304, 0.0), (2305, 0.0), (2306, 0.003728685501592094), (2307, 0.0), (2308, 0.026916697273782993), (2309, 0.002815256326867737), (2310, 0.003940385986125435), (2311, 0.0), (2312, 0.017061279083457694), (2313, 0.015023678673353622), (2314, 0.037432449057105854), (2315, 0.008901540058792961), (2316, 0.01355183849325341), (2317, 0.0027268861283004805), (2318, 0.009784681995373195), (2319, 0.0030616044805738545), (2320, 0.003426102101315491), (2321, 0.012752554768568425), (2322, 0.0), (2323, 0.0026595572228049406), (2324, 0.007604951958181848), (2325, 0.0), (2326, 0.01573605512743342), (2327, 0.008824883219423912), (2328, 0.0), (2329, 0.0), (2330, 0.03371789966824445), (2331, 0.0), (2332, 0.0), (2333, 0.0), (2334, 0.0030333967085912046), (2335, 0.0), (2336, 0.030858696463247154), (2337, 0.021216947199756288), (2338, 0.019939761842924092), (2339, 0.0), (2340, 0.0029544279085821977), (2341, 0.0), (2342, 0.028253188696174176), (2343, 0.0), (2344, 0.01563157212986163), (2345, 0.0), (2346, 0.003350856838700328), (2347, 0.002709201924140675), (2348, 0.0027759527152625128), (2349, 0.004080560896576698), (2350, 0.003787043759590646), (2351, 0.028795908567297936), (2352, 0.0), (2353, 0.0), (2354, 0.02835836419975363), (2355, 0.019164318240278012), (2356, 0.0032945594596687686), (2357, 0.022750572846379526), (2358, 0.0), (2359, 0.03688106184462466), (2360, 0.0), (2361, 0.0031260185356590878), (2362, 0.0027015291495410096), (2363, 0.0), (2364, 0.0), (2365, 0.0), (2366, 0.0), (2367, 0.041586993301824395), (2368, 0.0), (2369, 0.012149515149761432), (2370, 0.050473847404112364), (2371, 0.0), (2372, 0.0), (2373, 0.0), (2374, 0.02540184850296322), (2375, 0.01363622019336565), (2376, 0.01981244968426292), (2377, 0.007513696061863667), (2378, 0.003468323591402306), (2379, 0.004253258626878995), (2380, 0.0), (2381, 0.01321259424680802), (2382, 0.0025245757378082804), (2383, 0.0), (2384, 0.01054181313052965), (2385, 0.0031040653652391337), (2386, 0.0030130912715135307), (2387, 0.0029407182193106193), (2388, 0.0190930669694624), (2389, 0.0), (2390, 0.016222006320198528), (2391, 0.013462429509535974), (2392, 0.03534738294476456), (2393, 0.013451377859542273), (2394, 0.003105397164356927), (2395, 0.0), (2396, 0.012525200475801206), (2397, 0.015049720212242535), (2398, 0.026841470146444918), (2399, 0.002720428364973668), (2400, 0.014039069721494109), (2401, 0.0028642137134640856), (2402, 0.03308895749576844), (2403, 0.0033967284721068973), (2404, 0.01714409024119066), (2405, 0.0030651951139877088), (2406, 0.003461759055649699), (2407, 0.004073839908618206), (2408, 0.0), (2409, 0.0), (2410, 0.0032330866859615138), (2411, 0.027541270453268204), (2412, 0.002559001962197288), (2413, 0.04344246600132917), (2414, 0.009734909671713537), (2415, 0.0035761320940413707), (2416, 0.0029046170667808235), (2417, 0.0034506486861188364), (2418, 0.013360833633855599), (2419, 0.003096258266726572), (2420, 0.0), (2421, 0.02041844555072519), (2422, 0.0028607814879563574), (2423, 0.0037141095159056218), (2424, 0.0), (2425, 0.0038195837352507905), (2426, 0.0), (2427, 0.00342329398829408), (2428, 0.013698133605171754), (2429, 0.0), (2430, 0.00299008839387061), (2431, 0.0), (2432, 0.03986281947675767), (2433, 0.0), (2434, 0.003523235953297262), (2435, 0.0), (2436, 0.003293905941575352), (2437, 0.003345132189827765), (2438, 0.003650451952155938), (2439, 0.016453167557963735), (2440, 0.005986005509475496), (2441, 0.010051244227412572), (2442, 0.018637696142447896), (2443, 0.06442376920794939), (2444, 0.0), (2445, 0.0), (2446, 0.002737278530541593), (2447, 0.018928780419046283), (2448, 0.031764487209364256), (2449, 0.0), (2450, 0.018629532302994363), (2451, 0.021523346460409147), (2452, 0.0), (2453, 0.01191795679959761), (2454, 0.0035587421118975318), (2455, 0.0), (2456, 0.019736899881253125), (2457, 0.0026510628573813257), (2458, 0.0), (2459, 0.0035871349163749105), (2460, 0.0), (2461, 0.012034865982929119), (2462, 0.010347592968055876), (2463, 0.002896900855668655), (2464, 0.003232211760779182), (2465, 0.02060120810498625), (2466, 0.0030266562725560662), (2467, 0.002843393216204225), (2468, 0.0), (2469, 0.01978912674494728), (2470, 0.0), (2471, 0.03152457013892191), (2472, 0.01937631342501695), (2473, 0.0028067515783320594), (2474, 0.011353048412895549), (2475, 0.0031693745027108625), (2476, 0.0), (2477, 0.06407216187171164), (2478, 0.003383214775714126), (2479, 0.022378177288436878), (2480, 0.0), (2481, 0.012323021473967069), (2482, 0.022419313424173398), (2483, 0.0), (2484, 0.030735446564846256), (2485, 0.0), (2486, 0.014445260807163967), (2487, 0.009787442053281093), (2488, 0.0036017133616555144), (2489, 0.012845359498658275), (2490, 0.004247735769293556), (2491, 0.0), (2492, 0.002965572191677649), (2493, 0.011058699410937312), (2494, 0.015953991684768562), (2495, 0.0029468665156312927), (2496, 0.032579406099988314), (2497, 0.0), (2498, 0.0), (2499, 0.0), (2500, 0.027960259017206248), (2501, 0.020136450512757108), (2502, 0.00260022264339867), (2503, 0.009385974985839343), (2504, 0.009429149745646978), (2505, 0.0032729881017509997), (2506, 0.0), (2507, 0.003201460778860501), (2508, 0.0), (2509, 0.00242188057321632), (2510, 0.0), (2511, 0.0), (2512, 0.002925979439628329), (2513, 0.008956917041528355), (2514, 0.0), (2515, 0.0), (2516, 0.0), (2517, 0.011265414765388919), (2518, 0.010902391688258312), (2519, 0.0), (2520, 0.002554811121583822), (2521, 0.02609033141132502), (2522, 0.013433677505933255), (2523, 0.0), (2524, 0.017822003573451012), (2525, 0.0116880481665478), (2526, 0.002411315733856066), (2527, 0.019770737005204115), (2528, 0.0027368590481777403), (2529, 0.03530678476632625), (2530, 0.0037457743959512443), (2531, 0.003071436263928781), (2532, 0.0), (2533, 0.0029641429697027993), (2534, 0.0013146836687585976), (2535, 0.0032664421956598126), (2536, 0.0), (2537, 0.004042883203470027), (2538, 0.0017633564832878962), (2539, 0.025613409301951003), (2540, 0.0028088399926056652), (2541, 0.0), (2542, 0.008741186188267505), (2543, 0.0), (2544, 0.01281872503119665), (2545, 0.0030704495490998357), (2546, 0.003068006443629689), (2547, 0.0), (2548, 0.02063147913123602), (2549, 0.009781361087441627), (2550, 0.002203801402941517), (2551, 0.009617356479142327), (2552, 0.011604794693923268), (2553, 0.012100946612758262), (2554, 0.0029730848465192193), (2555, 0.017684895706537564), (2556, 0.0027327507590747635), (2557, 0.018352524873345752), (2558, 0.012606298448732485), (2559, 0.0038741976195146703), (2560, 0.12217657786022644), (2561, 0.0030746702770290987), (2562, 0.0), (2563, 0.020115845069123853), (2564, 0.0), (2565, 0.003126333158772974), (2566, 0.012528598414810375), (2567, 0.0), (2568, 0.003604435023387128), (2569, 0.002912113693705431), (2570, 0.003468676919662926), (2571, 0.022208982648778464), (2572, 0.029690283666009232), (2573, 0.016427037597611657), (2574, 0.01233307744225278), (2575, 0.051357646045794174), (2576, 0.0), (2577, 0.0), (2578, 0.018731855902220835), (2579, 0.003303433006883624), (2580, 0.002631885695617423), (2581, 0.0317191031863793), (2582, 0.024611686422859193), (2583, 0.0), (2584, 0.0), (2585, 0.014031692025774402), (2586, 0.0), (2587, 0.021702234850072385), (2588, 0.037326707795520206), (2589, 0.0), (2590, 0.0), (2591, 0.0026440260660539894), (2592, 0.0032626593697258057), (2593, 0.0027190774535036104), (2594, 0.011099862929040328), (2595, 0.003196541396482848), (2596, 0.01942346313592868), (2597, 0.0), (2598, 0.02597043418608641), (2599, 0.02165956314992975), (2600, 0.0), (2601, 0.00307355188547048), (2602, 0.002445377275460457), (2603, 0.0024752283777451627), (2604, 0.012896622096209419), (2605, 0.020919672659500985), (2606, 0.002967480967511494), (2607, 0.024265864226585016), (2608, 0.010379490801422376), (2609, 0.0031434696942508112), (2610, 0.003114580879388398), (2611, 0.002528370460960659), (2612, 0.002846301165073524), (2613, 0.0034719620907882626), (2614, 0.006400083220011183), (2615, 0.01100836896029448), (2616, 0.009254684845228471), (2617, 0.0025983544530021416), (2618, 0.019086108058312328), (2619, 0.0035490762738114357), (2620, 0.0), (2621, 0.019368410349464567), (2622, 0.01700225230055562), (2623, 0.0033363662947144567), (2624, 0.016191883188559845), (2625, 0.017001210805832025), (2626, 0.03405869184187561), (2627, 0.02030240721883426), (2628, 0.019371439060513), (2629, 0.017707598118591992), (2630, 0.022766091176859703), (2631, 0.0), (2632, 0.02447525741424125), (2633, 0.0030940020302559217), (2634, 0.07109950310921226), (2635, 0.02520155066876257), (2636, 0.011109572204720706), (2637, 0.010162327610562292), (2638, 0.02847825850011253), (2639, 0.0), (2640, 0.02558775025077397), (2641, 0.0), (2642, 0.011958801783823286), (2643, 0.019137924463519), (2644, 0.028602742331204918), (2645, 0.003792812352478105), (2646, 0.0), (2647, 0.02235302104925554), (2648, 0.0), (2649, 0.017804555274057998), (2650, 0.003061984341464353), (2651, 0.014000374233064532), (2652, 0.0029794413795857133), (2653, 0.0028439379570207556), (2654, 0.0), (2655, 0.0039056025812131277), (2656, 0.0), (2657, 0.0), (2658, 0.0), (2659, 0.0), (2660, 0.006306143537629332), (2661, 0.013531110263787427), (2662, 0.0), (2663, 0.0), (2664, 0.0031419368856582027), (2665, 0.007793874248306729), (2666, 0.01842224255618521), (2667, 0.0), (2668, 0.027419102706378595), (2669, 0.01428217427435555), (2670, 0.0), (2671, 0.006952073538158526), (2672, 0.0), (2673, 0.003920480384379372), (2674, 0.0027129045495867168), (2675, 0.022407647909911618), (2676, 0.0), (2677, 0.009222228993578795), (2678, 0.004799714899529199), (2679, 0.0027887717542940836), (2680, 0.03133724187509948), (2681, 0.0), (2682, 0.02752815524056912), (2683, 0.014171652950948136), (2684, 0.017161603789301108), (2685, 0.009605959208211497), (2686, 0.010933026447532072), (2687, 0.002899507134469299), (2688, 0.0), (2689, 0.043839520754598627), (2690, 0.0), (2691, 0.05541706296477446), (2692, 0.002559182443926289), (2693, 0.0), (2694, 0.0481845334061621), (2695, 0.015618390849598644), (2696, 0.003425920413207929), (2697, 0.0024126938703177415), (2698, 0.024420338808540488), (2699, 0.008830480572217593), (2700, 0.0), (2701, 0.0), (2702, 0.0033683570910074813), (2703, 0.0), (2704, 0.0), (2705, 0.0031910921459180953), (2706, 0.002801824094797173), (2707, 0.0034589192737036725), (2708, 0.020426830450097418), (2709, 0.0), (2710, 0.0), (2711, 0.019068488254974814), (2712, 0.0031488577012930064), (2713, 0.0196321699352812), (2714, 0.013339938370553472), (2715, 0.026382094002921266), (2716, 0.01214104405534736), (2717, 0.0), (2718, 0.0), (2719, 0.0), (2720, 0.0034541018625179), (2721, 0.0025608021837546817), (2722, 0.004137261849839104), (2723, 0.013518193351585488), (2724, 0.020426364132565274), (2725, 0.013480229499628895), (2726, 0.0), (2727, 0.0), (2728, 0.024641663471103692), (2729, 0.03168315165176579), (2730, 0.023495545460608454), (2731, 0.003955955280410784), (2732, 0.03425708142635999), (2733, 0.010727883574602266), (2734, 0.0), (2735, 0.0027210802634578), (2736, 0.01204702454820112), (2737, 0.0), (2738, 0.0034779204193291094), (2739, 0.003234212041228058), (2740, 0.003318274898355054), (2741, 0.002653559792728979), (2742, 0.020730814271262037), (2743, 0.010806752710570224), (2744, 0.04933621016436704), (2745, 0.0029747140907303554), (2746, 0.01262051563740813), (2747, 0.002553658207704432), (2748, 0.003204753470736455), (2749, 0.02685276441395062), (2750, 0.0), (2751, 0.0), (2752, 0.002818782924494032), (2753, 0.00259630872277431), (2754, 0.0), (2755, 0.003116329344060337), (2756, 0.04714531705857453), (2757, 0.004510798158552086), (2758, 0.010705011824824502), (2759, 0.0), (2760, 0.002262037887449137), (2761, 0.0025361235410853965), (2762, 0.0), (2763, 0.0), (2764, 0.034652033431853316), (2765, 0.0028013613489534426), (2766, 0.0023384833767433194), (2767, 0.028324782362723965), (2768, 0.00418931732182178), (2769, 0.0034785758091736845), (2770, 0.01657182014393206), (2771, 0.0025007238838880056), (2772, 0.01752899774039174), (2773, 0.0557019322426667), (2774, 0.0), (2775, 0.004000906802314779), (2776, 0.003174123766522423), (2777, 0.0027269586078188628), (2778, 0.015241207367844822), (2779, 0.024128348640466223), (2780, 0.013100164136223934), (2781, 0.026356967625910208), (2782, 0.003280636943041583), (2783, 0.002965904126445815), (2784, 0.003012301978558797), (2785, 0.014485868576279887), (2786, 0.0031560436716334436), (2787, 0.0), (2788, 0.0), (2789, 0.03504186828371502), (2790, 0.055942269346743595), (2791, 0.010868218548159381), (2792, 0.013353934291194856), (2793, 0.0), (2794, 0.009998176874460628), (2795, 0.07231351406080323), (2796, 0.0033727109228035624), (2797, 0.0036072515351131033), (2798, 0.002992716240127167), (2799, 0.021403026995346706), (2800, 0.002784390837611649), (2801, 0.0), (2802, 0.0028817680243385753), (2803, 0.011295784006143738), (2804, 0.05509741550010962), (2805, 0.0), (2806, 0.0), (2807, 0.0), (2808, 0.0028557116639370264), (2809, 0.006204199653571565), (2810, 0.02121625707110638), (2811, 0.0), (2812, 0.0027774346877423093), (2813, 0.0), (2814, 0.060231135561600896), (2815, 0.0), (2816, 0.0), (2817, 0.010092873602738184), (2818, 0.0), (2819, 0.0), (2820, 0.0), (2821, 0.0031286930755967603), (2822, 0.008334683883962354), (2823, 0.0), (2824, 0.02893274918051885), (2825, 0.0), (2826, 0.012478667050187084), (2827, 0.01176936036786543), (2828, 0.05226192527185891), (2829, 0.0), (2830, 0.003279972469269917), (2831, 0.002950513029128312), (2832, 0.003867663188841896), (2833, 0.0), (2834, 0.003656296422238954), (2835, 0.0), (2836, 0.0), (2837, 0.024142683685116427), (2838, 0.0037663611474772116), (2839, 0.034571601863255155), (2840, 0.003286980657317844), (2841, 0.013552242784678679), (2842, 0.01024584627264436), (2843, 0.03297812367837082), (2844, 0.03931640401047712), (2845, 0.011601456117858162), (2846, 0.003448443732683319), (2847, 0.009535005328949023), (2848, 0.033044813686076126), (2849, 0.0031156776024218115), (2850, 0.019917523194678884), (2851, 0.0), (2852, 0.0), (2853, 0.0029323610942242322), (2854, 0.0032730682018617687), (2855, 0.0), (2856, 0.0), (2857, 0.003637895500579363), (2858, 0.004177269361845054), (2859, 0.002794086983470663), (2860, 0.021742670043040976), (2861, 0.003906354497426716), (2862, 0.0027465670122682217), (2863, 0.0030387144422042833), (2864, 0.0), (2865, 0.012067315141110226), (2866, 0.0), (2867, 0.0), (2868, 0.0027266381966642743), (2869, 0.014686279788847005), (2870, 0.003995188093213275), (2871, 0.0), (2872, 0.003392422727843631), (2873, 0.013459618575276562), (2874, 0.0324656376475144), (2875, 0.0), (2876, 0.0024613938485361798), (2877, 0.016054401626592683), (2878, 0.0031066637454912316), (2879, 0.01899733951318443), (2880, 0.0), (2881, 0.017667044632112407), (2882, 0.003202531183869052), (2883, 0.003988171369634762), (2884, 0.02917752707066373), (2885, 0.0), (2886, 0.01488245860754665), (2887, 0.0029862093255141864), (2888, 0.003192431561814893), (2889, 0.021473838882461887), (2890, 0.0032520206150183266), (2891, 0.0), (2892, 0.011782361832890189), (2893, 0.003342103961079805), (2894, 0.0030243399459125415), (2895, 0.017712414166988447), (2896, 0.0), (2897, 0.0), (2898, 0.02183864655896518), (2899, 0.021608889491218933), (2900, 0.0029377551958022423), (2901, 0.0037838447312904195), (2902, 0.036974751036662167), (2903, 0.003305002593833226), (2904, 0.012910238167002989), (2905, 0.025031277812407528), (2906, 0.011138704814811), (2907, 0.00273327215923273), (2908, 0.01012915211409934), (2909, 0.002874282225654523), (2910, 0.09210316907532476), (2911, 0.015400682661584128), (2912, 0.0028536809155389653), (2913, 0.0), (2914, 0.0033330046828110443), (2915, 0.02897924126530542), (2916, 0.0033011097526713168), (2917, 0.07306944222804346), (2918, 0.009304261251898472), (2919, 0.0226007606413824), (2920, 0.002696510602815486), (2921, 0.0), (2922, 0.0), (2923, 0.003970861709331568), (2924, 0.0034179046652964007), (2925, 0.0023662367096493647), (2926, 0.003082149380229926), (2927, 0.02428488542462124), (2928, 0.0), (2929, 0.0112840469781876), (2930, 0.0), (2931, 0.03158271652438507), (2932, 0.020624584414771805), (2933, 0.0025027994275290165), (2934, 0.002968599010448548), (2935, 0.0), (2936, 0.0033361712033129127), (2937, 0.038874274286261584), (2938, 0.0), (2939, 0.026622462571247837), (2940, 0.0031500076721985362), (2941, 0.012410946387719175), (2942, 0.0025502147266550173), (2943, 0.0029365350083163685), (2944, 0.04363565504663247), (2945, 0.002884863194886941), (2946, 0.0029003521017516606), (2947, 0.0), (2948, 0.0), (2949, 0.0031489384358951065), (2950, 0.019044162988796184), (2951, 0.02657793548719518), (2952, 0.0), (2953, 0.04119867329688538), (2954, 0.01133356459281621), (2955, 0.02046444126320349), (2956, 0.0), (2957, 0.003605507688090534), (2958, 0.0), (2959, 0.04678893975270973), (2960, 0.024605662763099653), (2961, 0.002900912464833564), (2962, 0.00900717616882566), (2963, 0.0), (2964, 0.023583831414485206), (2965, 0.0027995557116703407), (2966, 0.0035826766602022704), (2967, 0.0), (2968, 0.0), (2969, 0.0024443135234607344), (2970, 0.0031413186936262473), (2971, 0.0), (2972, 0.002777955953916648), (2973, 0.00947206368518907), (2974, 0.003308830294179155), (2975, 0.0025891656067477662), (2976, 0.011119082754516781), (2977, 0.003017581081068445), (2978, 0.0), (2979, 0.010492306139663697), (2980, 0.00289038088650699), (2981, 0.013325499850763254), (2982, 0.03629272102263347), (2983, 0.0), (2984, 0.011615731205008315), (2985, 0.002458232900315617), (2986, 0.003485992456246699), (2987, 0.003402343364203902), (2988, 0.025085869696517767), (2989, 0.004106565413580679), (2990, 0.05012289766342373), (2991, 0.0), (2992, 0.022494218543654538), (2993, 0.0035547019735098126), (2994, 0.0), (2995, 0.021786121802098844), (2996, 0.017166793448567853), (2997, 0.0027855798166405775), (2998, 0.00442440576557995), (2999, 0.002930415472301177), (3000, 0.015150900327624253), (3001, 0.022207905233983617), (3002, 0.012785831535762121), (3003, 0.0032738823375397627), (3004, 0.0036299567629008633), (3005, 0.0), (3006, 0.0), (3007, 0.003148445239603309), (3008, 0.013248292754245859), (3009, 0.0), (3010, 0.0028419151686626064), (3011, 0.012217352003621978), (3012, 0.003304174469834841), (3013, 0.0033245964670232777), (3014, 0.002782170278391738), (3015, 0.003734576077083481), (3016, 0.003025496509266935), (3017, 0.0), (3018, 0.013212843622558462), (3019, 0.003430825031207215), (3020, 0.0035777833434739166), (3021, 0.028027904374956582), (3022, 0.023313933706927685), (3023, 0.021125244998755212), (3024, 0.0024379533441750544), (3025, 0.026328878181492696), (3026, 0.003256093280378557), (3027, 0.014037047343630238), (3028, 0.023503981041671996), (3029, 0.04926120913389285), (3030, 0.003992470607564298), (3031, 0.01807618023613274), (3032, 0.003298794604399778), (3033, 0.0), (3034, 0.0), (3035, 0.0028056417562726736), (3036, 0.00280195772044425), (3037, 0.0031108571670139177), (3038, 0.0), (3039, 0.0), (3040, 0.004115717327183172), (3041, 0.0), (3042, 0.003993171763779664), (3043, 0.038249120492448614), (3044, 0.016130161406545135), (3045, 0.016549241700749513), (3046, 0.03940910353091681), (3047, 0.028959344355476722), (3048, 0.03145847029334947), (3049, 0.014714081198727049), (3050, 0.002700121479191745), (3051, 0.04969386392769984), (3052, 0.01721662586299857), (3053, 0.0), (3054, 0.0), (3055, 0.004010289203938983), (3056, 0.020100041048799835), (3057, 0.002764707384607675), (3058, 0.0), (3059, 0.021468869108105755), (3060, 0.0), (3061, 0.025223537702678385), (3062, 0.0032673652713446633), (3063, 0.03662515172639899), (3064, 0.00320682835068676), (3065, 0.002503275145458559), (3066, 0.0), (3067, 0.0029114419963433827), (3068, 0.017807484184126362), (3069, 0.01230906083452426), (3070, 0.0), (3071, 0.002760438935710232), (3072, 0.014649960217065418), (3073, 0.01905686316079025), (3074, 0.0036158058748826183), (3075, 0.0028622635617798525), (3076, 0.00385696670579894), (3077, 0.0), (3078, 0.04622850541894534), (3079, 0.03012916260353722), (3080, 0.022337292415816272), (3081, 0.014833938721817506), (3082, 0.0), (3083, 0.011016300042740535), (3084, 0.003125753478166164), (3085, 0.0), (3086, 0.013616378002122577), (3087, 0.0), (3088, 0.0), (3089, 0.024348529116479087), (3090, 0.0), (3091, 0.021155904375296852), (3092, 0.0), (3093, 0.002900386117444464), (3094, 0.0034483815290576253), (3095, 0.0031640254058567523), (3096, 0.04055214291104063), (3097, 0.0032497263720130676), (3098, 0.021916089349820596), (3099, 0.011253659574543478), (3100, 0.02756111578777186), (3101, 0.03732874284213479), (3102, 0.0), (3103, 0.0), (3104, 0.0), (3105, 0.019136162705119943), (3106, 0.02530261611549956), (3107, 0.0), (3108, 0.03983155233624552), (3109, 0.010080694046602815), (3110, 0.014232782334325896), (3111, 0.00263773399318113), (3112, 0.003169077673533781), (3113, 0.0030059183180115518), (3114, 0.018526145050293524), (3115, 0.018448407221262023), (3116, 0.029748874347551052), (3117, 0.0), (3118, 0.011740954288787108), (3119, 0.004040345481561979), (3120, 0.002728522285019941), (3121, 0.0), (3122, 0.032940262662933414), (3123, 0.06970567537821094), (3124, 0.0), (3125, 0.00296168407305343), (3126, 0.0), (3127, 0.009168456368053671), (3128, 0.0037150296298571472), (3129, 0.008132137174110236), (3130, 0.03900071409342715), (3131, 0.021440227227386845), (3132, 0.021246851056447878), (3133, 0.03982356898126307), (3134, 0.02091607821818737), (3135, 0.0), (3136, 0.019880727191517227), (3137, 0.005470668050888793), (3138, 0.0), (3139, 0.004172576993908398), (3140, 0.01862285536190083), (3141, 0.02861158449369023), (3142, 0.0), (3143, 0.011006160871566745), (3144, 0.0), (3145, 0.0), (3146, 0.003296506404269063), (3147, 0.002743618183722516), (3148, 0.0033367812264286584), (3149, 0.0), (3150, 0.0030834904076645474), (3151, 0.012006812140486729), (3152, 0.0022997922766125754), (3153, 0.016063044759170652), (3154, 0.003607120608354489), (3155, 0.002967287210554565), (3156, 0.03356412063206855), (3157, 0.0032803087147015844), (3158, 0.03664147559830455), (3159, 0.0036475125328186337), (3160, 0.03471874924628004), (3161, 0.0), (3162, 0.0), (3163, 0.0), (3164, 0.0), (3165, 0.0033850008656396936), (3166, 0.004088014471680162), (3167, 0.0026393070461227922), (3168, 0.0), (3169, 0.012148740668259316), (3170, 0.0028037184111551813), (3171, 0.014838571500649277), (3172, 0.0), (3173, 0.012223902486086489), (3174, 0.0029392589985118792), (3175, 0.0), (3176, 0.0), (3177, 0.0), (3178, 0.004659565066468981), (3179, 0.0), (3180, 0.03303969107138847), (3181, 0.03215187374025196), (3182, 0.003002180377231693), (3183, 0.016204180287686262), (3184, 0.01333178294472305), (3185, 0.032434114351910376), (3186, 0.016778593044506712), (3187, 0.0031013477768874146), (3188, 0.009454473443758578), (3189, 0.012450618326392134), (3190, 0.013731961646890025), (3191, 0.020631241441660137), (3192, 0.0723058386919152), (3193, 0.027897163804551345), (3194, 0.002781705529832884), (3195, 0.002900252942254318), (3196, 0.0033047639286980877), (3197, 0.0), (3198, 0.003044497591351179), (3199, 0.0022822340871633392), (3200, 0.01054641317291671), (3201, 0.017862626643004833), (3202, 0.012884636440849698), (3203, 0.09057292893533382), (3204, 0.0), (3205, 0.007183641660993665), (3206, 0.015017727592079082), (3207, 0.038295327600268145), (3208, 0.0), (3209, 0.0), (3210, 0.012520237269270006), (3211, 0.01894208831722196), (3212, 0.008006033868262723), (3213, 0.0), (3214, 0.0028135946217745242), (3215, 0.0), (3216, 0.012543155059625779), (3217, 0.0), (3218, 0.023733719573139172), (3219, 0.0038514480334119012), (3220, 0.01231895620260256), (3221, 0.010801525005528155), (3222, 0.0), (3223, 0.02342260871113854), (3224, 0.025322716522089405), (3225, 0.02355606689605708), (3226, 0.0054211296595592555), (3227, 0.0029715502631135335), (3228, 0.0035765556949750475), (3229, 0.0), (3230, 0.014551909256542714), (3231, 0.03794050361813395), (3232, 0.00844375102820211), (3233, 0.023648285145293633), (3234, 0.0032213750903034204), (3235, 0.013232075518413886), (3236, 0.012603973179463135), (3237, 0.0029108998100546048), (3238, 0.021751603447332565), (3239, 0.0037156440847724284), (3240, 0.005695849657378518), (3241, 0.003074615371271381), (3242, 0.0030941739260837223), (3243, 0.0027602667678641277), (3244, 0.0), (3245, 0.012783206524881059), (3246, 0.03330466177763403), (3247, 0.018124660220395997), (3248, 0.003286805573020532), (3249, 0.0036860090605282665), (3250, 0.0), (3251, 0.0), (3252, 0.0024557091722200784), (3253, 0.0), (3254, 0.010148923606815255), (3255, 0.0), (3256, 0.039380103216969345), (3257, 0.003551141597089125), (3258, 0.003204686553115095), (3259, 0.0), (3260, 0.0028915300164744084), (3261, 0.0), (3262, 0.07667891691540495), (3263, 0.026281956888765102), (3264, 0.023303727237282336), (3265, 0.0), (3266, 0.0), (3267, 0.01985122486937516), (3268, 0.0028128348919840666), (3269, 0.003187937396399952), (3270, 0.019909760172450434), (3271, 0.0031843681299719502), (3272, 0.0), (3273, 0.0032810396280515334), (3274, 0.00332059759985978), (3275, 0.014507561096906303), (3276, 0.02233772468831948), (3277, 0.019932838145477427), (3278, 0.01418405578001368), (3279, 0.0), (3280, 0.0), (3281, 0.014054787986122676), (3282, 0.016097078232823067), (3283, 0.0030018669623109854), (3284, 0.0026991730245475554), (3285, 0.0022155758486367494), (3286, 0.0), (3287, 0.02493996665826124), (3288, 0.0), (3289, 0.0030202947105700943), (3290, 0.003032910348562498), (3291, 0.016938452576827683), (3292, 0.003847233171315092), (3293, 0.0027894420351540408), (3294, 0.027391027185973207), (3295, 0.0), (3296, 0.003351964855105045), (3297, 0.003131536546975643), (3298, 0.022205065707199524), (3299, 0.0029285030319982303), (3300, 0.02544084043545727), (3301, 0.002307846896906391), (3302, 0.01802963509567259), (3303, 0.0029991077976447), (3304, 0.01998401108213408), (3305, 0.046539885196063904), (3306, 0.0027018715818374305), (3307, 0.017188994844866908), (3308, 0.01751876721016251), (3309, 0.0), (3310, 0.02329315578324878), (3311, 0.0026659222633249394), (3312, 0.0), (3313, 0.010290739373613758), (3314, 0.01569406906777312), (3315, 0.0028153371584843877), (3316, 0.0022670199245293553), (3317, 0.020701939939220967), (3318, 0.002656147221636331), (3319, 0.0), (3320, 0.0), (3321, 0.0), (3322, 0.0037929895538630284), (3323, 0.11661929263591958), (3324, 0.0), (3325, 0.0278702717806307), (3326, 0.0031213978920000265), (3327, 0.011305923790765775), (3328, 0.0019371059829364958), (3329, 0.002694281523285294), (3330, 0.02517064656221193), (3331, 0.01916190978384772), (3332, 0.033083579727173476), (3333, 0.0), (3334, 0.0), (3335, 0.038381822774494874), (3336, 0.0026526457662086863), (3337, 0.0034005286972207506), (3338, 0.020784731438723312), (3339, 0.0), (3340, 0.009573261382746168), (3341, 0.012639935998448227), (3342, 0.02253017595554151), (3343, 0.0), (3344, 0.010541376221892801), (3345, 0.0), (3346, 0.002939292747708419), (3347, 0.010417890145791843), (3348, 0.0028521103662524617), (3349, 0.003057588320048557), (3350, 0.023800317863376007), (3351, 0.015444095572503216), (3352, 0.002834124475627557), (3353, 0.0030639363661839067), (3354, 0.0037104700857799947), (3355, 0.0033905716461780843), (3356, 0.0), (3357, 0.01938989443679982), (3358, 0.0035779238625008847), (3359, 0.0034297786605732533), (3360, 0.002617853513358829), (3361, 0.018970357725233804), (3362, 0.002333695872850622), (3363, 0.003675537185763262), (3364, 0.025477716566241426), (3365, 0.008753263172262379), (3366, 0.0), (3367, 0.020071586241990406), (3368, 0.019565491720461486), (3369, 0.002718437264546072), (3370, 0.002860683587996649), (3371, 0.0), (3372, 0.003095181195598632), (3373, 0.016655121844642306), (3374, 0.012509111675920552), (3375, 0.0), (3376, 0.002516634244322527), (3377, 0.026127950706934834), (3378, 0.009876949912295034), (3379, 0.002889387893443289), (3380, 0.0026161567774066518), (3381, 0.002911936121257772), (3382, 0.01295189020953566), (3383, 0.0), (3384, 0.011096779070079244), (3385, 0.036640557049621124), (3386, 0.03746421593391198), (3387, 0.0), (3388, 0.013077818527219731), (3389, 0.021141499766887995), (3390, 0.011826381743472902), (3391, 0.006570414728935394), (3392, 0.00824741405670944), (3393, 0.012726825873281656), (3394, 0.0), (3395, 0.008695215728889698), (3396, 0.0033993589266391494), (3397, 0.020038308661198663), (3398, 0.009761941440934677), (3399, 0.002753394081851341), (3400, 0.018513085003823038), (3401, 0.010236461704452367), (3402, 0.05532841890509787), (3403, 0.013666603087784317), (3404, 0.0), (3405, 0.02507765097371305), (3406, 0.013302360709789057), (3407, 0.002766748645284509), (3408, 0.026582951877374743), (3409, 0.013308585737987988), (3410, 0.0023715779909570223), (3411, 0.0), (3412, 0.0028742893971223315), (3413, 0.0035398519358883353), (3414, 0.0032989959445276365), (3415, 0.010107240228465337), (3416, 0.0), (3417, 0.013882543223138512), (3418, 0.0026745564333053883), (3419, 0.003401078202260571), (3420, 0.0), (3421, 0.00858730943952032), (3422, 0.0), (3423, 0.003372174440365001), (3424, 0.0), (3425, 0.0034148208856387232), (3426, 0.02955819794536146), (3427, 0.0201157611050054), (3428, 0.02306793791164056), (3429, 0.006566165712545992), (3430, 0.01033167655602352), (3431, 0.0023666303261076116), (3432, 0.012559340850154567), (3433, 0.0027749934376093076), (3434, 0.003135350081869445), (3435, 0.0029184822371986848), (3436, 0.01268567952052269), (3437, 0.0030852539235390925), (3438, 0.010104743737077246), (3439, 0.0), (3440, 0.011220838502668017), (3441, 0.002922921094291399), (3442, 0.0), (3443, 0.0), (3444, 0.021290925498838403), (3445, 0.003018236096722467), (3446, 0.01217045346628881), (3447, 0.0028798130625570947), (3448, 0.0), (3449, 0.013620517198007644), (3450, 0.0034227875799807583), (3451, 0.0), (3452, 0.021435087144907987), (3453, 0.032453126754755396), (3454, 0.0), (3455, 0.0027060373510122463), (3456, 0.019393446048638772), (3457, 0.0), (3458, 0.002019091061248452), (3459, 0.0), (3460, 0.05246066297967219), (3461, 0.0), (3462, 0.022605560727033527), (3463, 0.020672550201534322), (3464, 0.0), (3465, 0.0), (3466, 0.0), (3467, 0.020296232203721152), (3468, 0.031799262520640484), (3469, 0.03571352708259834), (3470, 0.02506237185414128), (3471, 0.0023432716083383316), (3472, 0.012235090752911479), (3473, 0.026919827961547595), (3474, 0.002677957995698946), (3475, 0.019263442447933748), (3476, 0.0), (3477, 0.025063035139667053), (3478, 0.0029471339144290817), (3479, 0.019761964393097086), (3480, 0.06878592804975328), (3481, 0.0), (3482, 0.0), (3483, 0.013142084684413632), (3484, 0.01666587664228007), (3485, 0.010530585914513928), (3486, 0.024632179603350585), (3487, 0.0028335656778501685), (3488, 0.013190070606063378), (3489, 0.0), (3490, 0.009089546816795196), (3491, 0.01246111826616917), (3492, 0.002943500648059223), (3493, 0.01299152617865607), (3494, 0.0), (3495, 0.0), (3496, 0.00316345909273686), (3497, 0.0032200461860368585), (3498, 0.012043211252744343), (3499, 0.002895220986448968), (3500, 0.0027342256405493703), (3501, 0.012812515731576891), (3502, 0.02425623280277895), (3503, 0.01418953940960672), (3504, 0.033441576296280806), (3505, 0.023888035492149483), (3506, 0.014315760417748244), (3507, 0.0), (3508, 0.0), (3509, 0.0), (3510, 0.0), (3511, 0.0031022539435326102), (3512, 0.004519162723720099), (3513, 0.03341265563897685), (3514, 0.003076700695083339), (3515, 0.042578664117100665), (3516, 0.03529430776554389), (3517, 0.012851882575562008), (3518, 0.04429925208076312), (3519, 0.0), (3520, 0.010143532069936978), (3521, 0.003630720996704745), (3522, 0.03400535516073913), (3523, 0.004224775522722516), (3524, 0.0034674574548045267), (3525, 0.0), (3526, 0.013270466022641498), (3527, 0.0030464250787458837), (3528, 0.01846042249240048), (3529, 0.0), (3530, 0.0), (3531, 0.009367089241866761), (3532, 0.023073188963577063), (3533, 0.0), (3534, 0.020498486560586997), (3535, 0.0), (3536, 0.0030579153452788815), (3537, 0.0036554619836368825), (3538, 0.019346481961628272), (3539, 0.0), (3540, 0.0034373584807793492), (3541, 0.01248580313034688), (3542, 0.02351932683578973), (3543, 0.008977543237697335), (3544, 0.0035874087788580226), (3545, 0.0), (3546, 0.0021987827247482114), (3547, 0.0), (3548, 0.002423564521585252), (3549, 0.0), (3550, 0.020544636522534247), (3551, 0.012527617341777528), (3552, 0.004793200032589016), (3553, 0.0029208720178654467), (3554, 0.0), (3555, 0.0), (3556, 0.0026351176028295066), (3557, 0.0028900310388878863), (3558, 0.002720826072154402), (3559, 0.0167972172445049), (3560, 0.014162478342029446), (3561, 0.033151536121508784), (3562, 0.0), (3563, 0.01131276851886148), (3564, 0.012460545865848072), (3565, 0.0029166903474420764), (3566, 0.0), (3567, 0.0), (3568, 0.01136512226157025), (3569, 0.0025267902688272488), (3570, 0.0), (3571, 0.024871176213958297), (3572, 0.0), (3573, 0.0), (3574, 0.01468677107818522), (3575, 0.0023809195273387495), (3576, 0.02035354929544785), (3577, 0.0036421613949860067), (3578, 0.0), (3579, 0.002515608112278719), (3580, 0.0), (3581, 0.0), (3582, 0.0), (3583, 0.0), (3584, 0.012727075506221127), (3585, 0.0), (3586, 0.02380255274832595), (3587, 0.01398218528983415), (3588, 0.027433533785917927), (3589, 0.0), (3590, 0.0031305855387082525), (3591, 0.0), (3592, 0.0), (3593, 0.003289880468567955), (3594, 0.019960893912331083), (3595, 0.028413668292222666), (3596, 0.002916676192102824), (3597, 0.0), (3598, 0.0), (3599, 0.0030771634687406413), (3600, 0.0), (3601, 0.003143064036761333), (3602, 0.00930681921300022), (3603, 0.0), (3604, 0.024503781968551824), (3605, 0.019157806773628158), (3606, 0.0030048970333357303), (3607, 0.0), (3608, 0.0019196101251617922), (3609, 0.0), (3610, 0.0), (3611, 0.0033485979695725555), (3612, 0.014803360097123706), (3613, 0.06159223906137164), (3614, 0.002667559338485449), (3615, 0.0027752803205652607), (3616, 0.0036648708898947614), (3617, 0.0), (3618, 0.013156968367241242), (3619, 0.011100332386931354), (3620, 0.003588694941202597), (3621, 0.017412576335009148), (3622, 0.0), (3623, 0.04590062765990162), (3624, 0.0029198176570493103), (3625, 0.01950799069962264), (3626, 0.009522880274140257), (3627, 0.0027268427048211773), (3628, 0.0), (3629, 0.0025310329023434754), (3630, 0.0), (3631, 0.010189068355623018), (3632, 0.0), (3633, 0.008477149563676607), (3634, 0.027600926465885037), (3635, 0.003984539802352104), (3636, 0.0030371344830129325), (3637, 0.002577315530762641), (3638, 0.027516154953905733), (3639, 0.0033728996030164267), (3640, 0.014057091753042759), (3641, 0.022200548124118695), (3642, 0.026310503174351636), (3643, 0.002993977207708392), (3644, 0.009299608565505957), (3645, 0.0022213779248192495), (3646, 0.002786702082964695), (3647, 0.0028995940452187056), (3648, 0.0), (3649, 0.0), (3650, 0.021793316757344), (3651, 0.0033713963109194525), (3652, 0.0), (3653, 0.015084280899485936), (3654, 0.013054088413022743), (3655, 0.010802166679909275), (3656, 0.040038991727604646), (3657, 0.002487036320127988), (3658, 0.0), (3659, 0.012915767797901323), (3660, 0.002842016972266753), (3661, 0.0033611853114056144), (3662, 0.0), (3663, 0.0), (3664, 0.0), (3665, 0.0029401134794942987), (3666, 0.015364636860017525), (3667, 0.004506400608208713), (3668, 0.002494509889266074), (3669, 0.0024975532192380192), (3670, 0.015732506986674492), (3671, 0.0), (3672, 0.00418780421627042), (3673, 0.002935191348783403), (3674, 0.0), (3675, 0.0035131025201203003), (3676, 0.0), (3677, 0.0032350093363635994), (3678, 0.0031352750968120513), (3679, 0.0), (3680, 0.03013399628365074), (3681, 0.0), (3682, 0.0), (3683, 0.02188021809742485), (3684, 0.008381358213099205), (3685, 0.04456177448672467), (3686, 0.0), (3687, 0.03381320429555629), (3688, 0.022205283859735834), (3689, 0.0030483512097069024), (3690, 0.020479955370412764), (3691, 0.002804328113477123), (3692, 0.02475044094018966), (3693, 0.0170985336469456), (3694, 0.02970691119797559), (3695, 0.02331520296736036), (3696, 0.01215561979358461), (3697, 0.0), (3698, 0.0), (3699, 0.0030101821840770233), (3700, 0.02030349413057978), (3701, 0.003021354003967441), (3702, 0.03169129551498286), (3703, 0.0), (3704, 0.01685726905025238), (3705, 0.03431994710224266), (3706, 0.01211361233362766), (3707, 0.002999505606689561), (3708, 0.0), (3709, 0.019532564439301885), (3710, 0.0), (3711, 0.08133874967688678), (3712, 0.008965938926058547), (3713, 0.007891636497676123), (3714, 0.03807883260526037), (3715, 0.0), (3716, 0.0), (3717, 0.0), (3718, 0.030314647550296357), (3719, 0.002876561079037471), (3720, 0.019339161780197102), (3721, 0.015720786697967445), (3722, 0.0), (3723, 0.0), (3724, 0.02124904146913563), (3725, 0.002744122305401299), (3726, 0.0), (3727, 0.012497386452302996), (3728, 0.0031514743329080974), (3729, 0.003415457428580196), (3730, 0.010347016864780201), (3731, 0.0), (3732, 0.008818415057388052), (3733, 0.012004731217210607), (3734, 0.03285807835634808), (3735, 0.0), (3736, 0.0), (3737, 0.0032908311364245654), (3738, 0.0), (3739, 0.002979527452311554), (3740, 0.014997697067424971), (3741, 0.035978481975385126), (3742, 0.002691971470290211), (3743, 0.0207355092391817), (3744, 0.024389073437077143), (3745, 0.0034668292957517953), (3746, 0.0), (3747, 0.02116602966215212), (3748, 0.00818954590188973), (3749, 0.013743246535308524), (3750, 0.006400718042297984), (3751, 0.012162592347079422), (3752, 0.0), (3753, 0.04958945855826914), (3754, 0.014394783659121306), (3755, 0.0026046523635684994), (3756, 0.040846348993462955), (3757, 0.003179104663057158), (3758, 0.0), (3759, 0.01083680962447032), (3760, 0.0), (3761, 0.0), (3762, 0.003839494576744696), (3763, 0.003473273320359044), (3764, 0.0), (3765, 0.012243936126077219), (3766, 0.017646726725080476), (3767, 0.02246461442979635), (3768, 0.0), (3769, 0.013228661335470697), (3770, 0.015474227098744991), (3771, 0.003192106895326784), (3772, 0.014344040043451243), (3773, 0.04123206755538478), (3774, 0.0), (3775, 0.008783753865489349), (3776, 0.0), (3777, 0.0031138376659608316), (3778, 0.0030612398641490977), (3779, 0.0035587543556331977), (3780, 0.015799846446304548), (3781, 0.015855059709795546), (3782, 0.0), (3783, 0.03007809545736253), (3784, 0.0028051742038048715), (3785, 0.0), (3786, 0.0), (3787, 0.021939621228402997), (3788, 0.008847760447654387), (3789, 0.0), (3790, 0.012317128103262713), (3791, 0.0), (3792, 0.002997083186102558), (3793, 0.009494182019629682), (3794, 0.0), (3795, 0.0026362876775445168), (3796, 0.0133570663212569), (3797, 0.02543751268098457), (3798, 0.02078700428857754), (3799, 0.002793641456403398), (3800, 0.0), (3801, 0.0026404211333248603), (3802, 0.032518271992895836), (3803, 0.0), (3804, 0.003287551657001984), (3805, 0.0), (3806, 0.007985123940444101), (3807, 0.002931674498457094), (3808, 0.0), (3809, 0.003019535792714742), (3810, 0.0258648604364032), (3811, 0.0027782948873312707), (3812, 0.0), (3813, 0.003215619653566454), (3814, 0.02196206566913073), (3815, 0.0), (3816, 0.0), (3817, 0.010743095237423395), (3818, 0.0), (3819, 0.002782643056693053), (3820, 0.027273689292356615), (3821, 0.002471593304963447), (3822, 0.003309105255227857), (3823, 0.00889949126197372), (3824, 0.009034022836163513), (3825, 0.0), (3826, 0.012117782041098297), (3827, 0.0028895892931957152), (3828, 0.03423791322340532), (3829, 0.002739530127413887), (3830, 0.0), (3831, 0.0), (3832, 0.0035978257082408104), (3833, 0.0), (3834, 0.03156961416822418), (3835, 0.01522267659093587), (3836, 0.032946927909504514), (3837, 0.0), (3838, 0.0), (3839, 0.002718336071227806), (3840, 0.03024681657510428), (3841, 0.011131232514770386), (3842, 0.0), (3843, 0.0), (3844, 0.01186110381677753), (3845, 0.003073997139621811), (3846, 0.0), (3847, 0.0), (3848, 0.003738988091214176), (3849, 0.0), (3850, 0.05692452423344592), (3851, 0.0), (3852, 0.0), (3853, 0.02313608959024932), (3854, 0.0027253482213494408), (3855, 0.010532066891231793), (3856, 0.0), (3857, 0.0032733599617181465), (3858, 0.0), (3859, 0.024008734157033237), (3860, 0.0), (3861, 0.0), (3862, 0.0030779655215860202), (3863, 0.0026482839265157742), (3864, 0.0), (3865, 0.008612666037550332), (3866, 0.0033971292329263354), (3867, 0.0033479502428182717), (3868, 0.0028199002754657316), (3869, 0.0427199128741133), (3870, 0.009895375556447338), (3871, 0.0264929493658639), (3872, 0.0), (3873, 0.034700831082274924), (3874, 0.0036038560175239323), (3875, 0.0023954387083299127), (3876, 0.002705269585722957), (3877, 0.013819866210110963), (3878, 0.029006660560636062), (3879, 0.0), (3880, 0.0025711970627987756), (3881, 0.00902642073641899), (3882, 0.00310172882596992), (3883, 0.016867663745897973), (3884, 0.014441590000697857), (3885, 0.0), (3886, 0.019245850642899586), (3887, 0.0), (3888, 0.03447017226654735), (3889, 0.02492997239387726), (3890, 0.0028512260386394923), (3891, 0.021144735066479646), (3892, 0.003831161916448904), (3893, 0.026275574368438182), (3894, 0.0025846941672486167), (3895, 0.02129174301937979), (3896, 0.0), (3897, 0.033811949389989965), (3898, 0.002796718362125127), (3899, 0.00895249046240629), (3900, 0.03427037630610993), (3901, 0.01881257915538625), (3902, 0.0030664111272073152), (3903, 0.014217366215638154), (3904, 0.0031522632214874948), (3905, 0.0), (3906, 0.002899607299852446), (3907, 0.020791462834690466), (3908, 0.029893556359875534), (3909, 0.0), (3910, 0.0025873888361751356), (3911, 0.01506148894813809), (3912, 0.0), (3913, 0.013661224035194814), (3914, 0.0), (3915, 0.013690790273868717), (3916, 0.010097877272100196), (3917, 0.002834988200140767), (3918, 0.0), (3919, 0.05056432899902524), (3920, 0.0030526440140484687), (3921, 0.0), (3922, 0.0036381511767753947), (3923, 0.04058062008633121), (3924, 0.003239657381629898), (3925, 0.004386720111227181), (3926, 0.0), (3927, 0.002453037555284485), (3928, 0.0024617739485323325), (3929, 0.0), (3930, 0.009799185425538), (3931, 0.0), (3932, 0.0054364547313501205), (3933, 0.019902737002647157), (3934, 0.0), (3935, 0.026232608581800553), (3936, 0.0), (3937, 0.029119621461517125), (3938, 0.012849007109340825), (3939, 0.003925235222794402), (3940, 0.030321485921593682), (3941, 0.002761764014611334), (3942, 0.04097436868857753), (3943, 0.0), (3944, 0.0), (3945, 0.008581732548904028), (3946, 0.0), (3947, 0.04395346206924495), (3948, 0.0), (3949, 0.08088163930941877), (3950, 0.026817537252313242), (3951, 0.003438788596211386), (3952, 0.0033797188715136224), (3953, 0.0026814699844038554), (3954, 0.002781438207385048), (3955, 0.019998649676577978), (3956, 0.0026267676872657347), (3957, 0.018947166491598097), (3958, 0.0), (3959, 0.028039452573460466), (3960, 0.0033411263088542146), (3961, 0.0032529052316741286), (3962, 0.03040462881709823), (3963, 0.03570615563497302), (3964, 0.0), (3965, 0.019139114624151306), (3966, 0.030489862780685356), (3967, 0.0032579283241086516), (3968, 0.021044637837300477), (3969, 0.0), (3970, 0.0), (3971, 0.01723801092051847), (3972, 0.02295328964396622), (3973, 0.00313779009674265), (3974, 0.0026525872928643596), (3975, 0.01649114079061376), (3976, 0.0), (3977, 0.021643928560324543), (3978, 0.002811031024335973), (3979, 0.0), (3980, 0.03769543826216814), (3981, 0.0), (3982, 0.02003504041947827), (3983, 0.002207887876496063), (3984, 0.003099414416868718), (3985, 0.0), (3986, 0.011168147900239789), (3987, 0.0031388981101422068), (3988, 0.0), (3989, 0.020448645956638745), (3990, 0.036782295541532964), (3991, 0.0), (3992, 0.03202371811464966), (3993, 0.0), (3994, 0.019474740182747186), (3995, 0.0), (3996, 0.0), (3997, 0.034803757631534205), (3998, 0.08584951319584594), (3999, 0.033334179794416066), (4000, 0.012311785658728409), (4001, 0.01187052483826057), (4002, 0.014414979063473221), (4003, 0.013090665547986484), (4004, 0.0029887919753419697), (4005, 0.013263014108325531), (4006, 0.0), (4007, 0.0), (4008, 0.0), (4009, 0.0), (4010, 0.01367390148533342), (4011, 0.002767798947284984), (4012, 0.0), (4013, 0.016110730084957316), (4014, 0.023258431529102633), (4015, 0.026928744371058983), (4016, 0.01256993600286426), (4017, 0.02008066800718599), (4018, 0.00854031765054488), (4019, 0.0038204336433577918), (4020, 0.012365722726698098), (4021, 0.0), (4022, 0.0), (4023, 0.0034803988923650725), (4024, 0.0031825974528916674), (4025, 0.013076620673104247), (4026, 0.0), (4027, 0.0), (4028, 0.0), (4029, 0.009464292593567814), (4030, 0.003449507232843433), (4031, 0.0), (4032, 0.0034388818608412546), (4033, 0.0031091315851394736), (4034, 0.0), (4035, 0.0), (4036, 0.002879608430795689), (4037, 0.0), (4038, 0.0031507266187348563), (4039, 0.0), (4040, 0.0), (4041, 0.03225563845114189), (4042, 0.013921604220811954), (4043, 0.014102138012628105), (4044, 0.0), (4045, 0.0), (4046, 0.025200177397713082), (4047, 0.0), (4048, 0.0032263333234153644), (4049, 0.0029910155236312175), (4050, 0.0), (4051, 0.0032879578375966485), (4052, 0.003114760252413147), (4053, 0.013427325796007986), (4054, 0.024374475187830206), (4055, 0.0), (4056, 0.015514856266334512), (4057, 0.01984658512895721), (4058, 0.014740178707653888), (4059, 0.0027560547989817384), (4060, 0.0029280222177385015), (4061, 0.02588864231907618), (4062, 0.017923074354361718), (4063, 0.018494357203540743), (4064, 0.0), (4065, 0.0), (4066, 0.0025881410566388654), (4067, 0.014183100534075068), (4068, 0.0029940659097070217), (4069, 0.01198903774923897), (4070, 0.0318965097160315), (4071, 0.044459372719479626), (4072, 0.0), (4073, 0.0), (4074, 0.0026522073982815013), (4075, 0.0034388175712547226), (4076, 0.021589325912642964), (4077, 0.02208136416663779), (4078, 0.010502889381244199), (4079, 0.0030551214587432696), (4080, 0.0026424762081739637), (4081, 0.0029634388317736327), (4082, 0.004163334248671405), (4083, 0.01315938921124437), (4084, 0.0), (4085, 0.002805000467334119), (4086, 0.0), (4087, 0.31066924710660143), (4088, 0.009699981423508622), (4089, 0.003068614731669569), (4090, 0.0), (4091, 0.032419851017335646), (4092, 0.014264185078544574), (4093, 0.0), (4094, 0.0), (4095, 0.002501100391754813), (4096, 0.0), (4097, 0.0), (4098, 0.0030209360078987716), (4099, 0.022322411494525178), (4100, 0.020933773546221262), (4101, 0.03768736082190922), (4102, 0.0037419521534598913), (4103, 0.0), (4104, 0.0026123004365791844), (4105, 0.0), (4106, 0.010609669885787315), (4107, 0.0036390796948837017), (4108, 0.0), (4109, 0.0), (4110, 0.0), (4111, 0.0031549564307203027), (4112, 0.0), (4113, 0.014000084068227399), (4114, 0.0), (4115, 0.01303084930208764), (4116, 0.0032130379842226185), (4117, 0.003364209177538815), (4118, 0.03879510065679672), (4119, 0.02125392644655669), (4120, 0.0), (4121, 0.010984138260768909), (4122, 0.0), (4123, 0.0031117864135828373), (4124, 0.002788637970172429), (4125, 0.0), (4126, 0.0034293982916737335), (4127, 0.0), (4128, 0.019966884553056407), (4129, 0.002852612395334596), (4130, 0.013776790491579448), (4131, 0.0), (4132, 0.01592806925365128), (4133, 0.003213514287262315), (4134, 0.0), (4135, 0.0029889290095022948), (4136, 0.025275549064962374), (4137, 0.0029741784068361187), (4138, 0.01640219503856322), (4139, 0.02219772014484242), (4140, 0.013772039432013152), (4141, 0.013908305743237844), (4142, 0.003767912628501559), (4143, 0.011330219494840907), (4144, 0.0), (4145, 0.003461915777243419), (4146, 0.0), (4147, 0.018018120345701976), (4148, 0.0), (4149, 0.0), (4150, 0.01074442969673058), (4151, 0.005063568927221996), (4152, 0.02193164308737107), (4153, 0.029061331488500708), (4154, 0.032204051159300084), (4155, 0.002815516676547426), (4156, 0.012971341316438685), (4157, 0.0), (4158, 0.0), (4159, 0.011106293954667956), (4160, 0.0033042858891166467), (4161, 0.0031705259574231178), (4162, 0.0), (4163, 0.0034168492831248647), (4164, 0.0), (4165, 0.0381377204390154), (4166, 0.031145512685095182), (4167, 0.0), (4168, 0.0431158847137051), (4169, 0.0031393197472199463), (4170, 0.0), (4171, 0.0020828518480493384), (4172, 0.00389614950329266), (4173, 0.012679198473780346), (4174, 0.00271259167410747), (4175, 0.035977697522988336), (4176, 0.002709922930243685), (4177, 0.0), (4178, 0.0030945411907421384), (4179, 0.0), (4180, 0.0), (4181, 0.032522958073558206), (4182, 0.009417072156426318), (4183, 0.012225278509036114), (4184, 0.009503887034701416), (4185, 0.01328915212491832), (4186, 0.008840439259786356), (4187, 0.003343994564751372), (4188, 0.0), (4189, 0.015956184621537427), (4190, 0.0), (4191, 0.0), (4192, 0.01510556016058372), (4193, 0.0), (4194, 0.026107906404858813), (4195, 0.0), (4196, 0.0), (4197, 0.0030044335463656363), (4198, 0.0), (4199, 0.0), (4200, 0.033739746035260754), (4201, 0.016952454612063156), (4202, 0.004120925256039464), (4203, 0.0034161513623832116), (4204, 0.0), (4205, 0.002632373724017187), (4206, 0.025715275163652858), (4207, 0.0), (4208, 0.0), (4209, 0.029731371921483965), (4210, 0.0), (4211, 0.0), (4212, 0.0), (4213, 0.0028023980993026744), (4214, 0.0), (4215, 0.0), (4216, 0.02157812802064762), (4217, 0.0), (4218, 0.0), (4219, 0.016264838425587184), (4220, 0.00259988452241511), (4221, 0.019784516177137983), (4222, 0.003952520011493764), (4223, 0.0), (4224, 0.009444876930950946), (4225, 0.0030936848773049723), (4226, 0.0), (4227, 0.026631977791265818), (4228, 0.0029116033210346537), (4229, 0.0), (4230, 0.034687533057553316), (4231, 0.0031437980573384102), (4232, 0.002562115452502939), (4233, 0.0), (4234, 0.0), (4235, 0.0), (4236, 0.0), (4237, 0.0), (4238, 0.02338510217843028), (4239, 0.0), (4240, 0.05408658971130617), (4241, 0.0), (4242, 0.0036612947908860626), (4243, 0.003355073313243468), (4244, 0.0033762868855590268), (4245, 0.01589881744555858), (4246, 0.002790429262728674), (4247, 0.010909541713104643), (4248, 0.00960032089387567), (4249, 0.003040820338783633), (4250, 0.020884411711159324), (4251, 0.0), (4252, 0.0), (4253, 0.01133635637294038), (4254, 0.002767214767761737), (4255, 0.0029875678006421017), (4256, 0.039511793800125816), (4257, 0.0027762780482574064), (4258, 0.0), (4259, 0.0032735783193041717), (4260, 0.0), (4261, 0.014868137579418416), (4262, 0.0030596889822338416), (4263, 0.013882870732001984), (4264, 0.03221628680954674), (4265, 0.01022066457013563), (4266, 1.0), (4267, 0.0033840989215175817), (4268, 0.015536147585926112), (4269, 0.0031611891679673263), (4270, 0.0), (4271, 0.0156553460194877), (4272, 0.0), (4273, 0.0030158374528597726), (4274, 0.010866327189950727), (4275, 0.036269215643296354), (4276, 0.023212166487076653), (4277, 0.022278317847511324), (4278, 0.009575165193894807), (4279, 0.0), (4280, 0.0034927459092014192), (4281, 0.025806357636529442), (4282, 0.023266234458703097), (4283, 0.0030041365216466028), (4284, 0.015305667855676823), (4285, 0.02351740649055928), (4286, 0.015645181693953063), (4287, 0.003044749655260101), (4288, 0.0277439878510766), (4289, 0.0), (4290, 0.0), (4291, 0.0), (4292, 0.02083844794811829), (4293, 0.0032886343104497353), (4294, 0.0), (4295, 0.016895058431497505), (4296, 0.002567073067809558), (4297, 0.0), (4298, 0.01815403371906123), (4299, 0.015228063129712737), (4300, 0.0), (4301, 0.002186537617827638), (4302, 0.02518663326698804), (4303, 0.0), (4304, 0.0026450702118269963), (4305, 0.0087931539354459), (4306, 0.003643596915733489), (4307, 0.0), (4308, 0.0032319423704553), (4309, 0.002876483337547548), (4310, 0.0), (4311, 0.0023943816522707384), (4312, 0.021530755880047783), (4313, 0.04119589211251759), (4314, 0.0), (4315, 0.0), (4316, 0.013710304041371671), (4317, 0.0), (4318, 0.003114194366503152), (4319, 0.0), (4320, 0.0029396425938853195), (4321, 0.012000168830099404), (4322, 0.008842499769807426), (4323, 0.0), (4324, 0.041276471582718126), (4325, 0.0), (4326, 0.002701988462284426), (4327, 0.0), (4328, 0.011819380543925019), (4329, 0.05212590551276182), (4330, 0.024468851593205408), (4331, 0.024622134276764986), (4332, 0.0), (4333, 0.003316251952716412), (4334, 0.023758473815821166), (4335, 0.0), (4336, 0.002846671238729225), (4337, 0.0), (4338, 0.0), (4339, 0.026952095859398204), (4340, 0.003048081135093376), (4341, 0.025355792712606216), (4342, 0.0), (4343, 0.002606782349129979), (4344, 0.029779845667524115), (4345, 0.002795480929736596), (4346, 0.023249791995194516), (4347, 0.0), (4348, 0.002710245120338401), (4349, 0.002897943693153699), (4350, 0.0026563732752251015), (4351, 0.0), (4352, 0.0), (4353, 0.010291370889473055), (4354, 0.0030830092140436633), (4355, 0.013223375770032655), (4356, 0.011543631105933537), (4357, 0.0288576728758901), (4358, 0.0), (4359, 0.0026906389078708427), (4360, 0.0), (4361, 0.0030661799142860965), (4362, 0.0028856912688671374), (4363, 0.01633783562157974), (4364, 0.020059098002527205), (4365, 0.028795345634040535), (4366, 0.019166089471515883), (4367, 0.0), (4368, 0.029991291565858915), (4369, 0.017024446507066273), (4370, 0.012656537550191903), (4371, 0.00316036144486056), (4372, 0.0), (4373, 0.015085928184616243), (4374, 0.011782317756907006), (4375, 0.035578752250376953), (4376, 0.019605607023419385), (4377, 0.012984151919758614), (4378, 0.012450276792214299), (4379, 0.016162201396286466), (4380, 0.02250826707300197), (4381, 0.00285712448122101), (4382, 0.014308856020448674), (4383, 0.020110058604924375), (4384, 0.0), (4385, 0.0), (4386, 0.002541769866904282), (4387, 0.0028736676222800286), (4388, 0.026102891268799538), (4389, 0.0), (4390, 0.0), (4391, 0.023230807123372138), (4392, 0.012478632737668697), (4393, 0.0), (4394, 0.0029244720103563117), (4395, 0.012075323917947727), (4396, 0.013887078164654326), (4397, 0.003279936829925948), (4398, 0.003405472929494026), (4399, 0.0027852476281795984), (4400, 0.003756924448523411), (4401, 0.025682871549454415), (4402, 0.0027251165800690294), (4403, 0.019882307903100582), (4404, 0.0), (4405, 0.0), (4406, 0.033732048412005444), (4407, 0.0038549178011863913), (4408, 0.02566370575085744), (4409, 0.0029296928032394374), (4410, 0.0), (4411, 0.0025248085514586053), (4412, 0.003452313208702732), (4413, 0.026158339346971274), (4414, 0.025602910142147245), (4415, 0.022073044494092767), (4416, 0.00346905696337617), (4417, 0.0), (4418, 0.0038706313053421724), (4419, 0.0030723834378380975), (4420, 0.016448548908134037), (4421, 0.0), (4422, 0.029276275014110186), (4423, 0.02886788416842148), (4424, 0.0), (4425, 0.0), (4426, 0.0), (4427, 0.0029438193135205492), (4428, 0.011968755987005295), (4429, 0.0025588699635918978), (4430, 0.0030856185967499737), (4431, 0.0031517741636841513), (4432, 0.010864232457358462), (4433, 0.0), (4434, 0.0), (4435, 0.0029611868704564146), (4436, 0.010206538646369641), (4437, 0.0), (4438, 0.0), (4439, 0.0), (4440, 0.012350608358306469), (4441, 0.018165344696932758), (4442, 0.0028585921959719458), (4443, 0.018127511750749274), (4444, 0.019384175317992153), (4445, 0.002212436527170495), (4446, 0.013827085398740951), (4447, 0.010751435194469012), (4448, 0.003077789281995887), (4449, 0.0), (4450, 0.008390520992757802), (4451, 0.0), (4452, 0.0), (4453, 0.03560718601140905), (4454, 0.029283904698247543), (4455, 0.0), (4456, 0.0), (4457, 0.0), (4458, 0.003514906626277374), (4459, 0.011400704053222967), (4460, 0.0), (4461, 0.0028371646170073303), (4462, 0.0), (4463, 0.01050636904687353), (4464, 0.04343451472457613), (4465, 0.003377628146915632), (4466, 0.033207417907115414), (4467, 0.03294146794969453), (4468, 0.03402593019515724), (4469, 0.00368224606854302), (4470, 0.003038457223927343), (4471, 0.003125232122509678), (4472, 0.03137023960380842), (4473, 0.002566755214231335), (4474, 0.003103087480599275), (4475, 0.002650199598041915), (4476, 0.002521861845424443), (4477, 0.003443087197178191), (4478, 0.0), (4479, 0.03331587469576538), (4480, 0.033968012630364926), (4481, 0.0), (4482, 0.009387842032552067), (4483, 0.0), (4484, 0.016805551619013474), (4485, 0.0), (4486, 0.010010158712255085), (4487, 0.022647245677357618), (4488, 0.0), (4489, 0.016544353472037955), (4490, 0.027261056845153595), (4491, 0.0), (4492, 0.036290082144884654), (4493, 0.021703164400415934), (4494, 0.01762248068146977), (4495, 0.003156702846033518), (4496, 0.0), (4497, 0.0030855017839491778), (4498, 0.0), (4499, 0.03291340101060353), (4500, 0.028248919618380046), (4501, 0.002977514450245605), (4502, 0.014247139380386898), (4503, 0.025278183246623905), (4504, 0.002844420327030737), (4505, 0.003119525643238029), (4506, 0.0), (4507, 0.0033851060672929327), (4508, 0.0), (4509, 0.0), (4510, 0.0), (4511, 0.0029312454242994405), (4512, 0.0), (4513, 0.0), (4514, 0.025855007933350542), (4515, 0.0), (4516, 0.003379470785456507), (4517, 0.012487469084986947), (4518, 0.014385906111424502), (4519, 0.0), (4520, 0.0029174662424290405), (4521, 0.033790882416575165), (4522, 0.003211705049717402), (4523, 0.024178672389442886), (4524, 0.0), (4525, 0.0108519418265938), (4526, 0.028951388646380295), (4527, 0.024577935254427693), (4528, 0.0032005821715218766), (4529, 0.003951495384750889), (4530, 0.0028822697784298954), (4531, 0.0244586649520267), (4532, 0.0), (4533, 0.015144637680928812), (4534, 0.0), (4535, 0.025728868913846785), (4536, 0.01490331631653971), (4537, 0.0), (4538, 0.0), (4539, 0.0), (4540, 0.06100731655338712), (4541, 0.0), (4542, 0.0), (4543, 0.0), (4544, 0.018459885937887558), (4545, 0.013640188301014997), (4546, 0.029713337948206138), (4547, 0.023118425523514022), (4548, 0.0), (4549, 0.03442583810545394), (4550, 0.0028570619957188274), (4551, 0.01726347042880942), (4552, 0.0), (4553, 0.008276418352694185), (4554, 0.03002256241972078), (4555, 0.004441747918431176), (4556, 0.0), (4557, 0.013420709011796306), (4558, 0.008293380294094904), (4559, 0.0), (4560, 0.0), (4561, 0.0), (4562, 0.0), (4563, 0.015173970461954147), (4564, 0.0), (4565, 0.010675133997465646), (4566, 0.013084710951623066), (4567, 0.002816688311190443), (4568, 0.0), (4569, 0.0), (4570, 0.0), (4571, 0.004683052164632642), (4572, 0.033225279540534926), (4573, 0.0028569921480398257), (4574, 0.026184720058860283), (4575, 0.003118264876912974), (4576, 0.002862488084536968), (4577, 0.0088673331192884), (4578, 0.0), (4579, 0.0031766349603147), (4580, 0.013224035115601539), (4581, 0.020226724896535368), (4582, 0.0), (4583, 0.0), (4584, 0.017396852557050577), (4585, 0.0), (4586, 0.012339878104552362), (4587, 0.01129450872781485), (4588, 0.019408139985620684), (4589, 0.014753207006279783), (4590, 0.021898232367329386), (4591, 0.025178431754229926), (4592, 0.0), (4593, 0.02787083713874443), (4594, 0.01462014766026045), (4595, 0.010241978165907273), (4596, 0.021262972066841572), (4597, 0.0), (4598, 0.0023121072413387752), (4599, 0.02215570847932951), (4600, 0.0), (4601, 0.013585911913857327), (4602, 0.013618420252535596), (4603, 0.04775641352141977), (4604, 0.0029630459477966863), (4605, 0.0032736168201425017), (4606, 0.0037310553502353937), (4607, 0.05305620661433094), (4608, 0.011185410233697823), (4609, 0.02152230608941664), (4610, 0.002473427780347217), (4611, 0.003928269518369247), (4612, 0.015691584533565756), (4613, 0.022565183705063253), (4614, 0.014899959279097805), (4615, 0.012324639741580563), (4616, 0.002722422091434011), (4617, 0.004030743095199945), (4618, 0.0), (4619, 0.003251667182554046), (4620, 0.011341019038482586), (4621, 0.012383477251736035), (4622, 0.021272169192790676), (4623, 0.0), (4624, 0.013217417912273174), (4625, 0.003060040918754094), (4626, 0.01858495582737117), (4627, 0.020870287689427884), (4628, 0.012231628408335927), (4629, 0.0030744154135422226), (4630, 0.01328959249619573), (4631, 0.02929629542182), (4632, 0.017445659580103606), (4633, 0.014587288602096637), (4634, 0.002749994964155615), (4635, 0.0), (4636, 0.002485310031757781), (4637, 0.01850995455811363), (4638, 0.020968951674859425), (4639, 0.025639208760329338), (4640, 0.002952577439231287), (4641, 0.0028789888758411378), (4642, 0.014930990218006085), (4643, 0.015221385166348148), (4644, 0.0), (4645, 0.0), (4646, 0.027177693794796863), (4647, 0.0), (4648, 0.0), (4649, 0.03321991550698412), (4650, 0.0033963819580210435), (4651, 0.0), (4652, 0.009487445984539792), (4653, 0.0), (4654, 0.0), (4655, 0.0), (4656, 0.010206639817516348), (4657, 0.013556320924037935), (4658, 0.012117878366063189), (4659, 0.0206357255303962), (4660, 0.04001783022516903), (4661, 0.0026123772752439096), (4662, 0.035540858508406686), (4663, 0.012946276845549517), (4664, 0.020413726478358186), (4665, 0.0), (4666, 0.0), (4667, 0.0), (4668, 0.015370398750154994), (4669, 0.003209815971925156), (4670, 0.02201949485958148), (4671, 0.0), (4672, 0.0), (4673, 0.012208181407838359), (4674, 0.009969244376264234), (4675, 0.009621201820888005), (4676, 0.034615384764944426), (4677, 0.0427561475517821), (4678, 0.02178613466577109), (4679, 0.01108147506300936), (4680, 0.003151052143895277), (4681, 0.0), (4682, 0.0), (4683, 0.020107554679575253), (4684, 0.0), (4685, 0.0028934201284372724), (4686, 0.0029650944744054122), (4687, 0.014469149292365152), (4688, 0.011766861536719481), (4689, 0.0), (4690, 0.0), (4691, 0.017137300026837464), (4692, 0.0036788167070923553), (4693, 0.0028627553505017438), (4694, 0.003462789041633834), (4695, 0.0), (4696, 0.0038609784440052485), (4697, 0.018627995482245915), (4698, 0.0), (4699, 0.04279286704792708), (4700, 0.0), (4701, 0.029872653419714165), (4702, 0.0), (4703, 0.0), (4704, 0.0040261368089027525), (4705, 0.038705944903634416), (4706, 0.0032742274501538216), (4707, 0.0), (4708, 0.011760059261124573), (4709, 0.0), (4710, 0.01593255725381086), (4711, 0.0), (4712, 0.0026548854610555584), (4713, 0.0034116374927621288), (4714, 0.022943237535462145), (4715, 0.002954730229094527), (4716, 0.0), (4717, 0.003479918404463777), (4718, 0.0033052976624304564), (4719, 0.005707931233528634), (4720, 0.0), (4721, 0.015746628307610238), (4722, 0.003194997711034768), (4723, 0.0036033561438024112), (4724, 0.003632941614393774), (4725, 0.05055718413464198), (4726, 0.0), (4727, 0.0), (4728, 0.0), (4729, 0.002830871367887268), (4730, 0.023872512144810624), (4731, 0.0033367688841800104), (4732, 0.0032144514477050155), (4733, 0.002459045616526147), (4734, 0.0031849353472198326), (4735, 0.003487428993769271), (4736, 0.021302847329226833), (4737, 0.0), (4738, 0.0), (4739, 0.006009808695378891), (4740, 0.0), (4741, 0.0), (4742, 0.0), (4743, 0.027642267435779133), (4744, 0.0023891010001054315), (4745, 0.0), (4746, 0.0), (4747, 0.010893287308503865), (4748, 0.012815804888918269), (4749, 0.01985904341390181), (4750, 0.0), (4751, 0.0), (4752, 0.00902878722302278), (4753, 0.0033605407305453082), (4754, 0.0), (4755, 0.0), (4756, 0.00305900734362537), (4757, 0.0030949141847803545), (4758, 0.0), (4759, 0.0)]\n"
          ]
        }
      ]
    },
    {
      "cell_type": "code",
      "source": [
        "len(Recommendation_Score)"
      ],
      "metadata": {
        "id": "yUQDdUzqwEqU",
        "colab": {
          "base_uri": "https://localhost:8080/"
        },
        "outputId": "871770be-2194-44b5-f3e0-ce08bb960a18"
      },
      "execution_count": 27,
      "outputs": [
        {
          "output_type": "execute_result",
          "data": {
            "text/plain": [
              "4760"
            ]
          },
          "metadata": {},
          "execution_count": 27
        }
      ]
    },
    {
      "cell_type": "code",
      "source": [
        "Similar_Movies = sorted(Recommendation_Score, key = lambda x:x[1], reverse = True)"
      ],
      "metadata": {
        "id": "h-tC_0IYzcxS"
      },
      "execution_count": 28,
      "outputs": []
    },
    {
      "cell_type": "code",
      "source": [
        "print(Similar_Movies)"
      ],
      "metadata": {
        "colab": {
          "base_uri": "https://localhost:8080/"
        },
        "id": "G0PIBqd90hK1",
        "outputId": "d4335db5-96b3-4272-a7cf-d4d35520c8d4"
      },
      "execution_count": 29,
      "outputs": [
        {
          "output_type": "stream",
          "name": "stdout",
          "text": [
            "[(4266, 1.0), (4087, 0.31066924710660143), (751, 0.12895706921098332), (2560, 0.12217657786022644), (3323, 0.11661929263591958), (2910, 0.09210316907532476), (3203, 0.09057292893533382), (30, 0.09051104953848507), (3998, 0.08584951319584594), (769, 0.08278552852612407), (3711, 0.08133874967688678), (3949, 0.08088163930941877), (1166, 0.07866194490104228), (380, 0.07781150628377263), (3262, 0.07667891691540495), (427, 0.07355591528395924), (826, 0.07319116191212094), (2917, 0.07306944222804346), (2795, 0.07231351406080323), (3192, 0.0723058386919152), (2634, 0.07109950310921226), (3123, 0.06970567537821094), (3480, 0.06878592804975328), (60, 0.06853343944475265), (249, 0.06497975501730828), (554, 0.0645009319443497), (2443, 0.06442376920794939), (545, 0.06431148124264302), (2477, 0.06407216187171164), (883, 0.06283025997481548), (2185, 0.06274507749711133), (3613, 0.06159223906137164), (4540, 0.06100731655338712), (1782, 0.060586301771326505), (2225, 0.06051863830773243), (2814, 0.060231135561600896), (2265, 0.05967823073853136), (1575, 0.058911144943861765), (389, 0.05802664390657146), (2116, 0.057971633144095425), (569, 0.05756587830123996), (3850, 0.05692452423344592), (1258, 0.056843539801587434), (902, 0.05644008817081013), (2790, 0.055942269346743595), (2773, 0.0557019322426667), (1529, 0.055598712125449326), (455, 0.05558410094564903), (2691, 0.05541706296477446), (472, 0.055415903649128004), (3402, 0.05532841890509787), (2804, 0.05509741550010962), (1991, 0.054848555812944934), (891, 0.05459996712685129), (368, 0.05452308526932692), (676, 0.054140917255388624), (4240, 0.05408658971130617), (614, 0.054054222090645206), (307, 0.05360387269195987), (65, 0.053557429624938986), (4607, 0.05305620661433094), (372, 0.052902046038996044), (3460, 0.05246066297967219), (2828, 0.05226192527185891), (4329, 0.05212590551276182), (439, 0.051509922588626716), (2575, 0.051357646045794174), (1082, 0.05109589096783662), (1000, 0.05106786589405725), (3919, 0.05056432899902524), (4725, 0.05055718413464198), (2370, 0.050473847404112364), (2990, 0.05012289766342373), (240, 0.04982543084648), (3051, 0.04969386392769984), (3753, 0.04958945855826914), (2022, 0.04943298084756256), (1987, 0.04941253752248364), (2744, 0.04933621016436704), (3029, 0.04926120913389285), (1810, 0.04877154827031681), (1381, 0.04859863317348465), (2233, 0.04846680148257971), (2694, 0.0481845334061621), (332, 0.048114867081101784), (2097, 0.04808444867999769), (1799, 0.04790727840536561), (570, 0.04786037800872554), (4603, 0.04775641352141977), (1805, 0.04772939281785574), (303, 0.04746528096812022), (2756, 0.04714531705857453), (440, 0.04706479301400295), (742, 0.046791228148134335), (2959, 0.04678893975270973), (3305, 0.046539885196063904), (765, 0.04630915603558633), (2038, 0.04630094660188589), (3078, 0.04622850541894534), (516, 0.04603590028861779), (1967, 0.045912353973746475), (3623, 0.04590062765990162), (686, 0.045772740499301266), (2277, 0.04572184448014119), (1835, 0.045634315622246555), (102, 0.04518186443662966), (2143, 0.04460253761196263), (3685, 0.04456177448672467), (283, 0.044528877302060565), (4071, 0.044459372719479626), (405, 0.04439930787277102), (3518, 0.04429925208076312), (1295, 0.0441060288306976), (3947, 0.04395346206924495), (2689, 0.043839520754598627), (789, 0.043832068635723934), (2944, 0.04363565504663247), (617, 0.04354393218989487), (2413, 0.04344246600132917), (4464, 0.04343451472457613), (1554, 0.04311838514048991), (4168, 0.0431158847137051), (1101, 0.04306478169098485), (552, 0.042926754333551934), (4699, 0.04279286704792708), (4677, 0.0427561475517821), (3869, 0.0427199128741133), (3515, 0.042578664117100665), (347, 0.04230009423514376), (257, 0.04228889426988766), (2241, 0.041913029445556985), (2367, 0.041586993301824395), (1129, 0.04143106931849003), (701, 0.041421939458732696), (1347, 0.04129291357658311), (84, 0.0412771462209246), (4324, 0.041276471582718126), (3773, 0.04123206755538478), (2953, 0.04119867329688538), (4313, 0.04119589211251759), (1229, 0.04102930899379349), (3942, 0.04097436868857753), (3756, 0.040846348993462955), (1148, 0.04084178963182467), (918, 0.04072748614690727), (1137, 0.040678340664849974), (3923, 0.04058062008633121), (3096, 0.04055214291104063), (1796, 0.0404921118836377), (1315, 0.04028425459288031), (3656, 0.040038991727604646), (4660, 0.04001783022516903), (2432, 0.03986281947675767), (3108, 0.03983155233624552), (3133, 0.03982356898126307), (1230, 0.039752036050505736), (1948, 0.039674936798671005), (4256, 0.039511793800125816), (2205, 0.03946111004456848), (3046, 0.03940910353091681), (3256, 0.039380103216969345), (1908, 0.03937096920428803), (2844, 0.03931640401047712), (2047, 0.03923313468993744), (1256, 0.03904757433412152), (3130, 0.03900071409342715), (2218, 0.03895557666263369), (2937, 0.038874274286261584), (4118, 0.03879510065679672), (4705, 0.038705944903634416), (376, 0.03869272054219752), (2165, 0.03865072258727885), (1498, 0.038602097525737615), (952, 0.038525573434951), (553, 0.03840788859988423), (86, 0.03840503778453408), (3335, 0.038381822774494874), (107, 0.038320853747104144), (3207, 0.038295327600268145), (3043, 0.038249120492448614), (1140, 0.038159777400785605), (4165, 0.0381377204390154), (3714, 0.03807883260526037), (625, 0.03800651184988294), (3231, 0.03794050361813395), (609, 0.03777047184614973), (3980, 0.03769543826216814), (4101, 0.03768736082190922), (1851, 0.0376592277463959), (990, 0.03752551457308826), (3386, 0.03746421593391198), (2314, 0.037432449057105854), (774, 0.037418918478746586), (3101, 0.03732874284213479), (2588, 0.037326707795520206), (491, 0.03728218990645165), (1608, 0.037169758113749965), (1083, 0.03708111824539991), (870, 0.037067809382792374), (1574, 0.03706495419869044), (2902, 0.036974751036662167), (2359, 0.03688106184462466), (2250, 0.036835301306233345), (606, 0.03680188836980619), (3990, 0.036782295541532964), (988, 0.036666084315199465), (3158, 0.03664147559830455), (3385, 0.036640557049621124), (3063, 0.03662515172639899), (747, 0.036448404074341044), (607, 0.03641735217823273), (1716, 0.03639516643622256), (750, 0.03630835294935287), (2982, 0.03629272102263347), (4492, 0.036290082144884654), (4275, 0.036269215643296354), (2072, 0.03599864627528235), (3741, 0.035978481975385126), (4175, 0.035977697522988336), (1975, 0.03584096010678396), (25, 0.03577885344213663), (3469, 0.03571352708259834), (3963, 0.03570615563497302), (4453, 0.03560718601140905), (4375, 0.035578752250376953), (4662, 0.035540858508406686), (128, 0.035378521998386946), (2392, 0.03534738294476456), (2529, 0.03530678476632625), (3516, 0.03529430776554389), (446, 0.035287107127512096), (2061, 0.03528543652200309), (2025, 0.03526568961672561), (2789, 0.03504186828371502), (69, 0.03501600932438428), (333, 0.03500558677133248), (191, 0.03494202708494651), (1177, 0.034830101459199216), (3997, 0.034803757631534205), (79, 0.034729137261920826), (3160, 0.03471874924628004), (3873, 0.034700831082274924), (4230, 0.034687533057553316), (2764, 0.034652033431853316), (4676, 0.034615384764944426), (2839, 0.034571601863255155), (1784, 0.03453757795654985), (402, 0.034536127163457754), (3888, 0.03447017226654735), (1645, 0.0344295948870116), (4549, 0.03442583810545394), (19, 0.03438559974500846), (3705, 0.03431994710224266), (1725, 0.03430770488326457), (3900, 0.03427037630610993), (2732, 0.03425708142635999), (1233, 0.03425375135950309), (3828, 0.03423791322340532), (1052, 0.03423020378592713), (791, 0.034083876997775826), (2626, 0.03405869184187561), (118, 0.03403088448435758), (4468, 0.03402593019515724), (3522, 0.03400535516073913), (4480, 0.033968012630364926), (2008, 0.03395383418761368), (1205, 0.03393218740988841), (3687, 0.03381320429555629), (3897, 0.033811949389989965), (76, 0.03379275483857476), (4521, 0.033790882416575165), (4200, 0.033739746035260754), (4406, 0.033732048412005444), (2330, 0.03371789966824445), (3156, 0.03356412063206855), (1320, 0.03355939906776018), (1011, 0.03353884813194222), (656, 0.03350385339812763), (3504, 0.033441576296280806), (3513, 0.03341265563897685), (523, 0.033401674954346164), (3999, 0.033334179794416066), (4479, 0.03331587469576538), (3246, 0.03330466177763403), (4572, 0.033225279540534926), (4649, 0.03321991550698412), (4466, 0.033207417907115414), (1976, 0.03317526141622007), (3561, 0.033151536121508784), (2291, 0.03309573916203924), (2402, 0.03308895749576844), (3332, 0.033083579727173476), (2848, 0.033044813686076126), (3180, 0.03303969107138847), (408, 0.03302747501832676), (1069, 0.03301175111931954), (1375, 0.03300128628422147), (2843, 0.03297812367837082), (555, 0.03296634872320476), (3836, 0.032946927909504514), (4467, 0.03294146794969453), (3122, 0.032940262662933414), (1535, 0.03293129821656202), (4499, 0.03291340101060353), (3734, 0.03285807835634808), (31, 0.03276391348295596), (1467, 0.03268561460449524), (936, 0.03266681728624732), (1506, 0.03259966501733702), (2496, 0.032579406099988314), (1425, 0.032538885614800936), (4181, 0.032522958073558206), (979, 0.03252028385082634), (3802, 0.032518271992895836), (2874, 0.0324656376475144), (3453, 0.032453126754755396), (3185, 0.032434114351910376), (4091, 0.032419851017335646), (772, 0.032408799130571805), (568, 0.03232072350006534), (1091, 0.032301717873054143), (802, 0.03228432464489141), (4041, 0.03225563845114189), (4264, 0.03221628680954674), (4154, 0.032204051159300084), (977, 0.032183896005298265), (1764, 0.032181264836485535), (3181, 0.03215187374025196), (1548, 0.03212998061890954), (1056, 0.032102158016199304), (388, 0.032077787088895554), (1265, 0.032067873886757726), (1097, 0.0320613978109759), (994, 0.03204733657429118), (1945, 0.032034916232380584), (1150, 0.03203144670243954), (3992, 0.03202371811464966), (305, 0.03195477815444871), (4070, 0.0318965097160315), (3468, 0.031799262520640484), (2448, 0.031764487209364256), (6, 0.031745542739484524), (1179, 0.031723011907598915), (2581, 0.0317191031863793), (3702, 0.03169129551498286), (2729, 0.03168315165176579), (1653, 0.03164663426548173), (1245, 0.03164367184032305), (2086, 0.031629573648378886), (2931, 0.03158271652438507), (3834, 0.03156961416822418), (252, 0.031568638225257885), (2471, 0.03152457013892191), (913, 0.03150115664907447), (3048, 0.03145847029334947), (2283, 0.03144309032317095), (603, 0.03138251666493577), (1013, 0.031379483005678416), (1031, 0.031370726061040646), (4472, 0.03137023960380842), (2680, 0.03133724187509948), (1870, 0.03131847703948008), (1864, 0.031213392798914365), (1502, 0.031158032526000367), (4166, 0.031145512685095182), (336, 0.03101665556416433), (1966, 0.030987797676517763), (1084, 0.030900347332673984), (2336, 0.030858696463247154), (1756, 0.03082882725127945), (448, 0.030758688500349303), (2484, 0.030735446564846256), (1220, 0.030669194332908697), (1199, 0.030646329549385516), (1064, 0.030599302480827623), (3966, 0.030489862780685356), (167, 0.030464820617105565), (1995, 0.0304628737355651), (3962, 0.03040462881709823), (217, 0.03037665065782088), (1433, 0.03037069192148269), (963, 0.03033513304729063), (3940, 0.030321485921593682), (3718, 0.030314647550296357), (1250, 0.030268611638641175), (3840, 0.03024681657510428), (653, 0.030226263186389178), (3680, 0.03013399628365074), (3079, 0.03012916260353722), (2278, 0.030128169248537878), (3783, 0.03007809545736253), (780, 0.030048411850808934), (4554, 0.03002256241972078), (4368, 0.029991291565858915), (896, 0.029986817532048873), (15, 0.029933047085007623), (3908, 0.029893556359875534), (4701, 0.029872653419714165), (1903, 0.029832088492706743), (818, 0.029791472184018217), (4344, 0.029779845667524115), (251, 0.029760225472840036), (3116, 0.029748874347551052), (4209, 0.029731371921483965), (1662, 0.029722623344625297), (4546, 0.029713337948206138), (3694, 0.02970691119797559), (2572, 0.029690283666009232), (2074, 0.029653849014708224), (738, 0.029636532968891526), (1006, 0.029597741711215417), (3426, 0.02955819794536146), (2119, 0.02947634855442377), (2254, 0.029456179981036088), (2286, 0.029376677422827346), (1022, 0.029370378032500383), (685, 0.02936727491664317), (1707, 0.0292968402256864), (4631, 0.02929629542182), (4454, 0.029283904698247543), (4422, 0.029276275014110186), (1143, 0.029241581679807782), (2280, 0.029227988884075042), (932, 0.029224322081463677), (80, 0.029220427463837385), (981, 0.029216197143674016), (2884, 0.02917752707066373), (210, 0.029176819173294528), (3937, 0.029119621461517125), (949, 0.029088514009740767), (4153, 0.029061331488500708), (2039, 0.029045211466867907), (1197, 0.0290383016090043), (3878, 0.029006660560636062), (2915, 0.02897924126530542), (3047, 0.028959344355476722), (1774, 0.028959231777098013), (4526, 0.028951388646380295), (2824, 0.02893274918051885), (67, 0.02891818706699405), (1007, 0.028897730529697126), (4423, 0.02886788416842148), (4357, 0.0288576728758901), (1592, 0.02880223712559425), (2351, 0.028795908567297936), (4365, 0.028795345634040535), (272, 0.028771681315538814), (623, 0.02875261385123454), (187, 0.02867578817955895), (482, 0.028651219664008312), (1924, 0.02863464703880518), (3141, 0.02861158449369023), (2644, 0.028602742331204918), (1184, 0.028594223172411354), (1792, 0.028583163702683892), (993, 0.028538476244964653), (2638, 0.02847825850011253), (1748, 0.02847663953009399), (3595, 0.028413668292222666), (2354, 0.02835836419975363), (2767, 0.028324782362723965), (1719, 0.02828681529954614), (93, 0.02825989227835811), (2342, 0.028253188696174176), (4500, 0.028248919618380046), (1334, 0.028178612646194146), (953, 0.028126464809111452), (266, 0.02811295114778694), (733, 0.02807874337809687), (436, 0.028042772846850486), (3959, 0.028039452573460466), (3021, 0.028027904374956582), (756, 0.028003624314748024), (2500, 0.027960259017206248), (113, 0.027942735195069644), (2210, 0.02790892575507212), (3193, 0.027897163804551345), (4593, 0.02787083713874443), (3325, 0.0278702717806307), (1844, 0.02786769345079075), (1100, 0.02786125539430126), (4288, 0.0277439878510766), (492, 0.027726828274041583), (1649, 0.027677032443440445), (4743, 0.027642267435779133), (73, 0.02760943064681989), (46, 0.02760231164660474), (3634, 0.027600926465885037), (3100, 0.02756111578777186), (2411, 0.027541270453268204), (2682, 0.02752815524056912), (3638, 0.027516154953905733), (2028, 0.027439410572213323), (1281, 0.02743661028774904), (3588, 0.027433533785917927), (2668, 0.027419102706378595), (683, 0.02739110385155027), (3294, 0.027391027185973207), (1383, 0.027388725117105495), (1106, 0.02737048231415669), (1058, 0.02736764675345861), (1984, 0.027295304443773163), (2109, 0.027289330098295206), (3820, 0.027273689292356615), (4490, 0.027261056845153595), (160, 0.02722065631279968), (4646, 0.027177693794796863), (2221, 0.027138832981059194), (1055, 0.027116990781739778), (2040, 0.02701724597724403), (4339, 0.026952095859398204), (4015, 0.026928744371058983), (3473, 0.026919827961547595), (2308, 0.026916697273782993), (2749, 0.02685276441395062), (2398, 0.026841470146444918), (3950, 0.026817537252313242), (78, 0.026806797220136413), (1154, 0.0267934637914976), (75, 0.026785363091965775), (2294, 0.02675788096668738), (1578, 0.026733988533591387), (438, 0.026726036321132428), (2269, 0.026679259740105463), (24, 0.026652916633537263), (4227, 0.026631977791265818), (1400, 0.026623316848706377), (2939, 0.026622462571247837), (1134, 0.026595888689223565), (3408, 0.026582951877374743), (2951, 0.02657793548719518), (997, 0.0265360921747467), (279, 0.026521489032119008), (1905, 0.026517131539364306), (1168, 0.02650217740452665), (3871, 0.0264929493658639), (1192, 0.026462063744129), (845, 0.02646104441085997), (1615, 0.026441526266267317), (1583, 0.02643046331297876), (270, 0.026414394759795866), (2715, 0.026382094002921266), (2781, 0.026356967625910208), (3025, 0.026328878181492696), (3642, 0.026310503174351636), (3263, 0.026281956888765102), (1727, 0.02627953908715422), (3893, 0.026275574368438182), (3935, 0.026232608581800553), (1669, 0.0262274263021844), (1590, 0.026208641128234816), (1288, 0.02618609899653919), (4574, 0.026184720058860283), (660, 0.02618177983794585), (4413, 0.026158339346971274), (3377, 0.026127950706934834), (558, 0.0261237113353022), (324, 0.02611140367081297), (4194, 0.026107906404858813), (4388, 0.026102891268799538), (2521, 0.02609033141132502), (806, 0.026064269834888357), (588, 0.02604509879064563), (2158, 0.026033752122134185), (1901, 0.026014045841281714), (2598, 0.02597043418608641), (980, 0.02590471679390766), (4061, 0.02588864231907618), (3810, 0.0258648604364032), (4514, 0.025855007933350542), (908, 0.025850356825590445), (4281, 0.025806357636529442), (1896, 0.025802641729624567), (1687, 0.025788350401825352), (592, 0.025780711757404772), (1273, 0.025764914657804373), (4535, 0.025728868913846785), (4206, 0.025715275163652858), (1216, 0.0256897251781344), (4401, 0.025682871549454415), (1677, 0.025682851028776207), (4408, 0.02566370575085744), (4639, 0.025639208760329338), (2539, 0.025613409301951003), (4414, 0.025602910142147245), (1605, 0.02559415674383125), (2640, 0.02558775025077397), (1512, 0.025548332137522573), (515, 0.02553641181470298), (3364, 0.025477716566241426), (327, 0.025472647493724753), (1439, 0.025466616883102013), (3300, 0.02544084043545727), (3797, 0.02543751268098457), (2374, 0.02540184850296322), (234, 0.02539372893671982), (744, 0.025385111252838672), (697, 0.025381095193111398), (4341, 0.025355792712606216), (1455, 0.02535214824684355), (1306, 0.025325455268089117), (3224, 0.025322716522089405), (1120, 0.02531916393471178), (1170, 0.025303834111538265), (3106, 0.02530261611549956), (23, 0.025284077720265), (4503, 0.025278183246623905), (4136, 0.025275549064962374), (1142, 0.02527373113366064), (1517, 0.025271396426650803), (3061, 0.025223537702678385), (2635, 0.02520155066876257), (4046, 0.025200177397713082), (1364, 0.02519362651019439), (4302, 0.02518663326698804), (1701, 0.025182304057698585), (4591, 0.025178431754229926), (3330, 0.02517064656221193), (1012, 0.025145256208226534), (1802, 0.025130667632330964), (1841, 0.02509170774678313), (2988, 0.025085869696517767), (3405, 0.02507765097371305), (3477, 0.025063035139667053), (3470, 0.02506237185414128), (1811, 0.0250535521623799), (1761, 0.02503963278255675), (2905, 0.025031277812407528), (1165, 0.024989784850526574), (168, 0.02498747116042482), (1860, 0.024952383881583527), (3287, 0.02493996665826124), (3889, 0.02492997239387726), (3571, 0.024871176213958297), (1936, 0.024858634389731057), (746, 0.02478718680542031), (3692, 0.02475044094018966), (1942, 0.024745576586743), (430, 0.02474174622246378), (64, 0.02471189264790586), (1510, 0.02468842873574928), (2728, 0.024641663471103692), (1766, 0.024639416176434482), (3486, 0.024632179603350585), (4331, 0.024622134276764986), (2582, 0.024611686422859193), (872, 0.024609111319704863), (2960, 0.024605662763099653), (1704, 0.024591995024066414), (4527, 0.024577935254427693), (875, 0.024506367781679098), (3604, 0.024503781968551824), (2632, 0.02447525741424125), (1493, 0.024471500009890998), (4330, 0.024468851593205408), (4531, 0.0244586649520267), (74, 0.02444771641003958), (541, 0.024447714408760007), (2698, 0.024420338808540488), (363, 0.024398686608401367), (3744, 0.024389073437077143), (4054, 0.024374475187830206), (1017, 0.02436211017195744), (3089, 0.024348529116479087), (1632, 0.024336882210835773), (329, 0.02431442417259262), (2927, 0.02428488542462124), (1239, 0.024280012383342674), (81, 0.024277091884316856), (2212, 0.024269767873113815), (2607, 0.024265864226585016), (3502, 0.02425623280277895), (1585, 0.024253482493914603), (1341, 0.024216340393824073), (824, 0.024192285440209557), (4523, 0.024178672389442886), (1852, 0.024162759906968923), (2837, 0.024142683685116427), (2779, 0.024128348640466223), (1857, 0.024121853818733642), (85, 0.024112258617182237), (1314, 0.024103628590106473), (919, 0.024085867339155978), (1829, 0.024074745446724357), (675, 0.024068021716172908), (1029, 0.024020043723814), (3859, 0.024008734157033237), (1196, 0.023967400078410875), (423, 0.023944505039546725), (3505, 0.023888035492149483), (1614, 0.02388640455033134), (4730, 0.023872512144810624), (3586, 0.02380255274832595), (3350, 0.023800317863376007), (1272, 0.023770203649437917), (1997, 0.023769317919880326), (1518, 0.023769313174280722), (1927, 0.02376651848814221), (4334, 0.023758473815821166), (550, 0.023756725345000933), (2029, 0.023745919309585722), (3218, 0.023733719573139172), (1203, 0.023731502175873893), (799, 0.023710724144045976), (1422, 0.023681697535703414), (3233, 0.023648285145293633), (1673, 0.02363050455099559), (2964, 0.023583831414485206), (509, 0.02357381997206412), (3225, 0.02355606689605708), (3542, 0.02351932683578973), (4285, 0.02351740649055928), (3028, 0.023503981041671996), (866, 0.023497120029524886), (2730, 0.023495545460608454), (1225, 0.02348529455967683), (680, 0.023470961447851012), (748, 0.02346916615490862), (3223, 0.02342260871113854), (4238, 0.02338510217843028), (1448, 0.02335468269431991), (1413, 0.023329227823513123), (564, 0.023322919989192035), (3695, 0.02331520296736036), (3022, 0.023313933706927685), (654, 0.02331090364930894), (2091, 0.02330714066985929), (3264, 0.023303727237282336), (3310, 0.02329315578324878), (4282, 0.023266234458703097), (4014, 0.023258431529102633), (204, 0.023257858567650915), (669, 0.02325624669599884), (4346, 0.023249791995194516), (286, 0.023230997493574424), (4391, 0.023230807123372138), (1014, 0.023217710485510343), (4276, 0.023212166487076653), (1271, 0.023205476766470494), (43, 0.023199707284092083), (359, 0.023178181628849978), (1519, 0.023177815523965424), (3853, 0.02313608959024932), (4547, 0.023118425523514022), (325, 0.023109365275614187), (378, 0.0230856415497596), (3532, 0.023073188963577063), (3428, 0.02306793791164056), (583, 0.02301107403694267), (884, 0.022961667711597557), (3972, 0.02295328964396622), (4714, 0.022943237535462145), (276, 0.022933408127624257), (1949, 0.022929440203330972), (2180, 0.022907704193226037), (1224, 0.022837396114280692), (537, 0.022811348946189167), (1387, 0.022800258662894698), (1629, 0.022781590215183136), (1958, 0.022771812835938696), (2630, 0.022766091176859703), (2357, 0.022750572846379526), (804, 0.02273328246170551), (681, 0.022688375633663244), (954, 0.02268583719162352), (1650, 0.022676865585130643), (1068, 0.022659991563673598), (4487, 0.022647245677357618), (131, 0.022621700356174973), (3462, 0.022605560727033527), (2919, 0.0226007606413824), (4613, 0.022565183705063253), (666, 0.02255071900675684), (320, 0.022548098748171264), (1318, 0.022541664698830295), (672, 0.022538132857588055), (3342, 0.02253017595554151), (868, 0.022527217747869165), (4380, 0.02250826707300197), (2992, 0.022494218543654538), (3767, 0.02246461442979635), (805, 0.02243659395508757), (811, 0.02242307780726273), (2482, 0.022419313424173398), (353, 0.022414768913362523), (2675, 0.022407647909911618), (2479, 0.022378177288436878), (1414, 0.02236054332666198), (2647, 0.02235302104925554), (2081, 0.022351927326907002), (1114, 0.022347716808542407), (3276, 0.02233772468831948), (3080, 0.022337292415816272), (1588, 0.022334383084060976), (1873, 0.022331613355948306), (4099, 0.022322411494525178), (4277, 0.022278317847511324), (663, 0.02227297988441295), (1836, 0.022250635719812006), (1420, 0.02221872121346799), (2571, 0.022208982648778464), (3001, 0.022207905233983617), (3688, 0.022205283859735834), (3298, 0.022205065707199524), (3641, 0.022200548124118695), (4139, 0.02219772014484242), (4599, 0.02215570847932951), (317, 0.022131757390113423), (1335, 0.022095489284491378), (759, 0.02209070953532529), (4077, 0.02208136416663779), (2246, 0.022075723389764677), (4415, 0.022073044494092767), (1486, 0.022069865219379297), (245, 0.022061696007537664), (1867, 0.022051261779493556), (4670, 0.02201949485958148), (591, 0.022007871130543432), (2285, 0.0220053194083533), (1244, 0.021986889946617967), (3814, 0.02196206566913073), (3787, 0.021939621228402997), (4152, 0.02193164308737107), (3098, 0.021916089349820596), (4590, 0.021898232367329386), (3683, 0.02188021809742485), (1128, 0.021860341444146128), (38, 0.021853648053610245), (2898, 0.02183864655896518), (106, 0.021808098692691947), (3650, 0.021793316757344), (4678, 0.02178613466577109), (2995, 0.021786121802098844), (2290, 0.02175197882497904), (3238, 0.021751603447332565), (2860, 0.021742670043040976), (2136, 0.021719158431626945), (4493, 0.021703164400415934), (2587, 0.021702234850072385), (2021, 0.02169206698823109), (2041, 0.021678021471341336), (2599, 0.02165956314992975), (3977, 0.021643928560324543), (49, 0.021642599134546005), (2899, 0.021608889491218933), (657, 0.021598876549792496), (4076, 0.021589325912642964), (1522, 0.021585055347057597), (4216, 0.02157812802064762), (315, 0.021574236507307297), (803, 0.021562137614724836), (903, 0.02154745893280238), (4312, 0.021530755880047783), (2451, 0.021523346460409147), (4609, 0.02152230608941664), (1338, 0.021517671332502864), (1057, 0.02150311677809582), (1408, 0.0214945254464564), (1900, 0.021478840040773106), (2027, 0.02147425688022801), (2889, 0.021473838882461887), (3059, 0.021468869108105755), (3131, 0.021440227227386845), (992, 0.021439284100261927), (3452, 0.021435087144907987), (2799, 0.021403026995346706), (413, 0.021399295586805877), (2102, 0.021387811653871807), (1044, 0.021379580907400986), (1356, 0.021376937956460076), (1050, 0.021352992284248525), (1280, 0.021339581083181167), (1791, 0.021334558389359243), (1957, 0.02132462274906449), (4736, 0.021302847329226833), (3895, 0.02129174301937979), (3444, 0.021290925498838403), (4622, 0.021272169192790676), (4596, 0.021262972066841572), (4119, 0.02125392644655669), (923, 0.021253805878699118), (1996, 0.021251471456984285), (3724, 0.02124904146913563), (3132, 0.021246851056447878), (726, 0.021224113517793856), (144, 0.021218928522649477), (2337, 0.021216947199756288), (2810, 0.02121625707110638), (1477, 0.02120244499304031), (1904, 0.02119326536073132), (220, 0.021186821859388274), (360, 0.021168924215856727), (3747, 0.02116602966215212), (1818, 0.021158842106181172), (3091, 0.021155904375296852), (3891, 0.021144735066479646), (3389, 0.021141499766887995), (3023, 0.021125244998755212), (627, 0.021122541400228588), (600, 0.021086970827641136), (599, 0.02108297431495774), (3968, 0.021044637837300477), (1307, 0.020994631222503432), (1681, 0.02099438792974579), (2217, 0.020979520575103397), (2137, 0.020973149781583354), (4638, 0.020968951674859425), (1396, 0.020957472087865917), (4100, 0.020933773546221262), (2605, 0.020919672659500985), (3134, 0.02091607821818737), (2090, 0.020915216524622443), (4250, 0.020884411711159324), (4627, 0.020870287689427884), (1613, 0.02084479548355651), (500, 0.02084225078390489), (1536, 0.020839235350914573), (4292, 0.02083844794811829), (1156, 0.02083732857007343), (517, 0.020825719540959006), (27, 0.020817100565707205), (1620, 0.02081638254348298), (1911, 0.02081102550539281), (773, 0.020806451746275136), (2120, 0.02080624874139302), (2239, 0.020792541567137116), (3907, 0.020791462834690466), (3798, 0.02078700428857754), (3338, 0.020784731438723312), (1195, 0.020773003191406906), (1820, 0.02076431680516362), (1480, 0.020753709989915513), (189, 0.020752313370758283), (1469, 0.020746324118097806), (3743, 0.0207355092391817), (2742, 0.020730814271262037), (3317, 0.020701939939220967), (151, 0.02070136448571285), (3463, 0.020672550201534322), (4659, 0.0206357255303962), (2548, 0.02063147913123602), (3191, 0.020631241441660137), (2932, 0.020624584414771805), (778, 0.020623654343575517), (95, 0.020614409975184475), (2465, 0.02060120810498625), (1149, 0.020583917619799805), (3550, 0.020544636522534247), (572, 0.02054409905503011), (3534, 0.020498486560586997), (1003, 0.020483861575853423), (3690, 0.020479955370412764), (1111, 0.02047864421888223), (2955, 0.02046444126320349), (3989, 0.020448645956638745), (1108, 0.020447643678730337), (2203, 0.020431325262300234), (2708, 0.020426830450097418), (2724, 0.020426364132565274), (2421, 0.02041844555072519), (4664, 0.020413726478358186), (1361, 0.02035660131705323), (3576, 0.02035354929544785), (28, 0.02034684369243514), (3700, 0.02030349413057978), (2627, 0.02030240721883426), (3467, 0.020296232203721152), (589, 0.020275574859466478), (354, 0.020240182121985903), (2094, 0.020227471574781174), (4581, 0.020226724896535368), (1824, 0.020217249007837043), (752, 0.020212362379084928), (258, 0.020176800746306105), (1515, 0.020170643738443017), (108, 0.020156042950732287), (859, 0.020149029589665628), (1185, 0.020146752847216245), (2501, 0.020136450512757108), (39, 0.02012232091673283), (63, 0.020115877252016915), (2563, 0.020115845069123853), (3427, 0.0201157611050054), (4383, 0.020110058604924375), (4683, 0.020107554679575253), (1074, 0.02010162068005694), (3056, 0.020100041048799835), (1505, 0.02009807355408742), (1151, 0.02009453056953061), (4017, 0.02008066800718599), (3367, 0.020071586241990406), (264, 0.020067647001732476), (4364, 0.020059098002527205), (1566, 0.020056155764374854), (3397, 0.020038308661198663), (1944, 0.020036914361895558), (3982, 0.02003504041947827), (135, 0.020022829480550664), (1269, 0.0200077475073341), (3955, 0.019998649676577978), (1262, 0.01998664869143528), (3304, 0.01998401108213408), (4128, 0.019966884553056407), (3594, 0.019960893912331083), (619, 0.019947186058948393), (460, 0.01994691526299135), (2338, 0.019939761842924092), (316, 0.019933594009505208), (3277, 0.019932838145477427), (259, 0.019925318542143227), (1047, 0.019923730127117487), (2850, 0.019917523194678884), (3270, 0.019909760172450434), (3933, 0.019902737002647157), (59, 0.01990011993199815), (22, 0.019898185120266542), (815, 0.019888880800271846), (4403, 0.019882307903100582), (3136, 0.019880727191517227), (674, 0.019865254843865376), (4749, 0.01985904341390181), (3267, 0.01985122486937516), (4057, 0.01984658512895721), (2376, 0.01981244968426292), (375, 0.01980517883987282), (1919, 0.019801039832860214), (2469, 0.01978912674494728), (4221, 0.019784516177137983), (159, 0.019781823316006347), (1431, 0.01977827647343158), (364, 0.01977600095720138), (2527, 0.019770737005204115), (3479, 0.019761964393097086), (613, 0.019752993593588505), (1358, 0.019750630026733447), (2456, 0.019736899881253125), (732, 0.01970179689578915), (1696, 0.01965126140483136), (306, 0.0196394868784283), (2713, 0.0196321699352812), (150, 0.019617180998181702), (4376, 0.019605607023419385), (90, 0.019596590640476093), (2232, 0.019578500289375717), (3368, 0.019565491720461486), (1616, 0.019563769845154375), (567, 0.019542275490456517), (3709, 0.019532564439301885), (3625, 0.01950799069962264), (2178, 0.01949254130632844), (3994, 0.019474740182747186), (152, 0.01946133732442588), (1495, 0.019455136865005062), (2596, 0.01942346313592868), (4588, 0.019408139985620684), (2062, 0.019404543866976477), (3456, 0.019393446048638772), (3357, 0.01938989443679982), (4444, 0.019384175317992153), (1146, 0.01937676549986161), (2472, 0.01937631342501695), (560, 0.01937343693836119), (2628, 0.019371439060513), (2621, 0.019368410349464567), (3538, 0.019346481961628272), (3720, 0.019339161780197102), (546, 0.01933550023709506), (261, 0.019334824515220485), (390, 0.019288020122745286), (3475, 0.019263442447933748), (3886, 0.019245850642899586), (367, 0.019197917675762965), (1285, 0.01918613697431373), (938, 0.019168106164876214), (4366, 0.019166089471515883), (2355, 0.019164318240278012), (3331, 0.01916190978384772), (3605, 0.019157806773628158), (3965, 0.019139114624151306), (2643, 0.019137924463519), (3105, 0.019136162705119943), (2388, 0.0190930669694624), (2618, 0.019086108058312328), (2711, 0.019068488254974814), (3073, 0.01905686316079025), (2950, 0.019044162988796184), (171, 0.019022729926190123), (45, 0.01901948590795276), (2014, 0.01901945204680816), (260, 0.01900782231364371), (2879, 0.01899733951318443), (1664, 0.018979809871030876), (3361, 0.018970357725233804), (263, 0.0189644297914746), (812, 0.018948604006637858), (3957, 0.018947166491598097), (3211, 0.01894208831722196), (2447, 0.018928780419046283), (763, 0.01891914220767535), (1283, 0.01891451694035673), (1986, 0.018911927636544153), (1501, 0.018906559221714515), (626, 0.018866164440440612), (1783, 0.018855989930527017), (1579, 0.0188370377290272), (322, 0.01883044012941049), (3901, 0.01881257915538625), (571, 0.018753022200970314), (1429, 0.01875292147998882), (702, 0.018749348175536692), (321, 0.018747307881993778), (2578, 0.018731855902220835), (565, 0.018717560343664643), (618, 0.018668592852922827), (2442, 0.018637696142447896), (2450, 0.018629532302994363), (4697, 0.018627995482245915), (3140, 0.01862285536190083), (4626, 0.01858495582737117), (745, 0.018528619025058365), (3114, 0.018526145050293524), (3400, 0.018513085003823038), (4637, 0.01850995455811363), (4063, 0.018494357203540743), (1354, 0.01848676964880963), (3528, 0.01846042249240048), (4544, 0.018459885937887558), (1066, 0.018456961471965398), (379, 0.018455432384175057), (3115, 0.018448407221262023), (2666, 0.01842224255618521), (94, 0.018403267852928406), (1982, 0.018355624756344564), (2557, 0.018352524873345752), (2211, 0.018331600403779343), (2089, 0.018329689779437636), (2125, 0.018328379293429294), (397, 0.01832309850413443), (1584, 0.018301477778982812), (776, 0.01829074641300531), (511, 0.01825124785123243), (670, 0.01823648838152188), (937, 0.018224885080774095), (381, 0.018221419852759504), (1277, 0.018188485054597414), (1651, 0.018185173601252807), (4441, 0.018165344696932758), (4298, 0.01815403371906123), (1171, 0.01815299972083044), (1631, 0.018142818841563244), (4443, 0.018127511750749274), (3247, 0.018124660220395997), (1657, 0.018099304156110625), (2058, 0.01808450866280295), (3031, 0.01807618023613274), (443, 0.018042519653009736), (3302, 0.01802963509567259), (4147, 0.018018120345701976), (1655, 0.018000209808173656), (4062, 0.017923074354361718), (1750, 0.0179096415718138), (1095, 0.01790924904327134), (1, 0.017899738451880337), (3201, 0.017862626643004833), (497, 0.017833440447017977), (2524, 0.017822003573451012), (3068, 0.017807484184126362), (2649, 0.017804555274057998), (739, 0.017800039016027776), (757, 0.017782674160313545), (1468, 0.017763270906424215), (91, 0.017741403155803633), (2895, 0.017712414166988447), (2629, 0.017707598118591992), (2555, 0.017684895706537564), (2881, 0.017667044632112407), (3766, 0.017646726725080476), (4494, 0.01762248068146977), (912, 0.017621926706533626), (453, 0.017577552568972307), (352, 0.017555047580352985), (2772, 0.01752899774039174), (813, 0.01752006223176194), (3308, 0.01751876721016251), (1925, 0.017494209000067887), (37, 0.017456877332101068), (4632, 0.017445659580103606), (1871, 0.01741276587678085), (3621, 0.017412576335009148), (4584, 0.017396852557050577), (729, 0.017394808501246493), (1772, 0.017390044186995444), (295, 0.01738334840751337), (1249, 0.017373983379878787), (762, 0.017370306854074483), (1212, 0.017288347521211625), (4551, 0.01726347042880942), (1509, 0.017254060374630117), (893, 0.01724349251726139), (1546, 0.01724001965336944), (3971, 0.01723801092051847), (2177, 0.017228512114508952), (1840, 0.01722401427156892), (2112, 0.017217105966899467), (3052, 0.01721662586299857), (3307, 0.017188994844866908), (2996, 0.017166793448567853), (2684, 0.017161603789301108), (1745, 0.017152735401922477), (2404, 0.01714409024119066), (4691, 0.017137300026837464), (1398, 0.017130072184720714), (394, 0.017126282648260806), (3693, 0.0170985336469456), (601, 0.017095807908696713), (1275, 0.01707437332452192), (1676, 0.017067229761090538), (2312, 0.017061279083457694), (4369, 0.017024446507066273), (1046, 0.01702127888885349), (1994, 0.01701466013734156), (2622, 0.01700225230055562), (2625, 0.017001210805832025), (4201, 0.016952454612063156), (3291, 0.016938452576827683), (1897, 0.016913282415883982), (1325, 0.016907626119134385), (4295, 0.016895058431497505), (2114, 0.016871340614541357), (3883, 0.016867663745897973), (3704, 0.01685726905025238), (4484, 0.016805551619013474), (314, 0.016799037159289047), (3559, 0.0167972172445049), (1909, 0.01679592807937629), (3186, 0.016778593044506712), (478, 0.016747217016783226), (3484, 0.01666587664228007), (862, 0.016659373487025682), (3373, 0.016655121844642306), (1071, 0.016646693212498002), (533, 0.016643694873925426), (1779, 0.01660787290162723), (922, 0.016602067848913788), (622, 0.016575421003616805), (2770, 0.01657182014393206), (3045, 0.016549241700749513), (4489, 0.016544353472037955), (7, 0.016513130894756076), (3975, 0.01649114079061376), (1296, 0.01647095686208444), (2439, 0.016453167557963735), (4420, 0.016448548908134037), (2573, 0.016427037597611657), (1530, 0.0164116802516166), (1109, 0.016408484633394924), (4138, 0.01640219503856322), (602, 0.01636203075645153), (429, 0.016348327168056807), (2018, 0.0163458455647501), (4363, 0.01633783562157974), (1580, 0.01632870163042753), (254, 0.01631010288581115), (580, 0.01630048030481243), (1164, 0.016295074054978143), (788, 0.01629265862551345), (4219, 0.016264838425587184), (1983, 0.016246243359208386), (476, 0.016243535394867992), (2390, 0.016222006320198528), (3183, 0.016204180287686262), (2016, 0.016193873803756545), (2624, 0.016191883188559845), (4379, 0.016162201396286466), (2154, 0.016145226512900644), (1351, 0.016134155745322308), (3044, 0.016130161406545135), (2037, 0.01612648556073422), (4013, 0.016110730084957316), (499, 0.016103854346447104), (3282, 0.016097078232823067), (3153, 0.016063044759170652), (2877, 0.016054401626592683), (0, 0.016046100262967048), (877, 0.01602610582441963), (4189, 0.015956184621537427), (652, 0.015955534006754764), (2494, 0.015953991684768562), (2078, 0.015938002177060477), (4710, 0.01593255725381086), (4132, 0.01592806925365128), (4245, 0.01589881744555858), (832, 0.015860956860628852), (3781, 0.015855059709795546), (3780, 0.015799846446304548), (1121, 0.01579163370086557), (1138, 0.015779628214548102), (864, 0.01576242694554835), (636, 0.015753898384219818), (4721, 0.015746628307610238), (2326, 0.01573605512743342), (3670, 0.015732506986674492), (3721, 0.015720786697967445), (104, 0.01569762661001901), (206, 0.0156971479852829), (3314, 0.01569406906777312), (4612, 0.015691584533565756), (4271, 0.0156553460194877), (4286, 0.015645181693953063), (2344, 0.01563157212986163), (2695, 0.015618390849598644), (1378, 0.015585899754631493), (4268, 0.015536147585926112), (4056, 0.015514856266334512), (255, 0.015495649203705438), (3770, 0.015474227098744991), (1051, 0.015473324295253464), (1252, 0.015455059940051192), (3351, 0.015444095572503216), (61, 0.015400753210234087), (2911, 0.015400682661584128), (1442, 0.015396459716919473), (880, 0.015375147849406799), (4668, 0.015370398750154994), (3666, 0.015364636860017525), (216, 0.015341314410621077), (369, 0.015337159630877553), (727, 0.015325866078776652), (4284, 0.015305667855676823), (1593, 0.0152752539318264), (2778, 0.015241207367844822), (4299, 0.015228063129712737), (3835, 0.01522267659093587), (4643, 0.015221385166348148), (4563, 0.015173970461954147), (1355, 0.01515360252438207), (3000, 0.015150900327624253), (4533, 0.015144637680928812), (1077, 0.01511752727396341), (4192, 0.01510556016058372), (77, 0.0151036261460717), (1671, 0.015102626274145875), (4373, 0.015085928184616243), (3653, 0.015084280899485936), (3911, 0.01506148894813809), (87, 0.015058599960836992), (2397, 0.015049720212242535), (2313, 0.015023678673353622), (3206, 0.015017727592079082), (198, 0.01501402157135778), (579, 0.015000433334977407), (3740, 0.014997697067424971), (1033, 0.014952184178854126), (2273, 0.014933132658030318), (4642, 0.014930990218006085), (948, 0.014921319641571723), (4536, 0.01490331631653971), (4614, 0.014899959279097805), (2886, 0.01488245860754665), (2284, 0.014877542645935644), (4261, 0.014868137579418416), (3171, 0.014838571500649277), (3081, 0.014833938721817506), (1255, 0.014821575309217502), (3612, 0.014803360097123706), (421, 0.014789324095678142), (1940, 0.014787160544344405), (561, 0.014777621949807902), (4589, 0.014753207006279783), (109, 0.01475286795594228), (4058, 0.014740178707653888), (116, 0.014722537434905512), (3049, 0.014714081198727049), (2142, 0.014700609071805638), (3574, 0.01468677107818522), (2869, 0.014686279788847005), (1547, 0.014680513417174175), (914, 0.014672934096238002), (490, 0.014653139118919217), (236, 0.01465252493470689), (3072, 0.014649960217065418), (1500, 0.014620887974140233), (4594, 0.01462014766026045), (1665, 0.014605618936644287), (374, 0.014599801391589808), (4633, 0.014587288602096637), (655, 0.014566925929123911), (3230, 0.014551909256542714), (760, 0.01451414831690538), (3275, 0.014507561096906303), (2785, 0.014485868576279887), (4687, 0.014469149292365152), (2486, 0.014445260807163967), (3884, 0.014441590000697857), (1920, 0.014423182101696717), (1760, 0.014422419516786852), (4002, 0.014414979063473221), (136, 0.01440513823334752), (3754, 0.014394783659121306), (358, 0.014391808784165669), (4518, 0.014385906111424502), (522, 0.014364129607970962), (2181, 0.014360977312898367), (3772, 0.014344040043451243), (643, 0.014339369851451567), (3506, 0.014315760417748244), (4382, 0.014308856020448674), (2669, 0.01428217427435555), (910, 0.014279419714825398), (4092, 0.014264185078544574), (4502, 0.014247139380386898), (3110, 0.014232782334325896), (3903, 0.014217366215638154), (1117, 0.014215484425548416), (576, 0.01420902007130477), (1360, 0.014197091989797815), (2117, 0.014194153301333385), (3503, 0.01418953940960672), (3278, 0.01418405578001368), (4067, 0.014183100534075068), (2683, 0.014171652950948136), (1478, 0.014170226591228897), (1892, 0.014164740405199619), (3560, 0.014162478342029446), (250, 0.014157507312587296), (1595, 0.014116763391775072), (1391, 0.014115126235493132), (1858, 0.014103986252834533), (4043, 0.014102138012628105), (1964, 0.014100958982258185), (2134, 0.01409880577563098), (3640, 0.014057091753042759), (3281, 0.014054787986122676), (2400, 0.014039069721494109), (3027, 0.014037047343630238), (2585, 0.014031692025774402), (911, 0.014019100838699505), (2651, 0.014000374233064532), (4113, 0.014000084068227399), (158, 0.013992516268699108), (2191, 0.013989656188699856), (3587, 0.01398218528983415), (2231, 0.013981313189236282), (4042, 0.013921604220811954), (2176, 0.013914499816183996), (715, 0.013909116467264386), (4141, 0.013908305743237844), (2004, 0.013907938557980436), (4396, 0.013887078164654326), (1754, 0.013885150344224188), (4263, 0.013882870732001984), (3417, 0.013882543223138512), (1474, 0.0138424412388384), (4446, 0.013827085398740951), (3877, 0.013819866210110963), (1819, 0.013786124589642469), (200, 0.013783504538197388), (4130, 0.013776790491579448), (1555, 0.013775577975958415), (4140, 0.013772039432013152), (888, 0.013756671303990135), (808, 0.013751930439732551), (3749, 0.013743246535308524), (1511, 0.013738617141659824), (3190, 0.013731961646890025), (2082, 0.013725616042218194), (4316, 0.013710304041371671), (62, 0.013703961364859685), (2428, 0.013698133605171754), (3915, 0.013690790273868717), (48, 0.013676592991618405), (4010, 0.01367390148533342), (3403, 0.013666603087784317), (3913, 0.013661224035194814), (4545, 0.013640188301014997), (2375, 0.01363622019336565), (1952, 0.013624060599916308), (341, 0.01362286332048253), (3449, 0.013620517198007644), (4602, 0.013618420252535596), (3086, 0.013616378002122577), (4601, 0.013585911913857327), (1308, 0.013576308583986613), (253, 0.013570733283558203), (2229, 0.013564664799249983), (4657, 0.013556320924037935), (2841, 0.013552242784678679), (2316, 0.01355183849325341), (1705, 0.013548224216146623), (1708, 0.013538008074862318), (2661, 0.013531110263787427), (2723, 0.013518193351585488), (1812, 0.013515407343123976), (147, 0.013495790045153937), (934, 0.013486318134159124), (2725, 0.013480229499628895), (2391, 0.013462429509535974), (2873, 0.013459618575276562), (2393, 0.013451377859542273), (2044, 0.013439045255169932), (2151, 0.013438905929103257), (2522, 0.013433677505933255), (2236, 0.013427870569302103), (4053, 0.013427325796007986), (4557, 0.013420709011796306), (301, 0.013383444599056427), (449, 0.013383209796994928), (2418, 0.013360833633855599), (1833, 0.013357361600781138), (3796, 0.0133570663212569), (2792, 0.013353934291194856), (563, 0.013343399034223533), (1859, 0.013340986552698265), (2714, 0.013339938370553472), (1685, 0.013335902008230727), (976, 0.013335222382716809), (1484, 0.013333181518015508), (3184, 0.01333178294472305), (2981, 0.013325499850763254), (1798, 0.01332514719319482), (1637, 0.013314289695884721), (3409, 0.013308585737987988), (3406, 0.013302360709789057), (4630, 0.01328959249619573), (4185, 0.01328915212491832), (1409, 0.01327905445706216), (1075, 0.013278100573322325), (783, 0.013277947029740994), (3526, 0.013270466022641498), (4005, 0.013263014108325531), (12, 0.013254956737385908), (3008, 0.013248292754245859), (3235, 0.013232075518413886), (2096, 0.013229994067372809), (3769, 0.013228661335470697), (4580, 0.013224035115601539), (4355, 0.013223375770032655), (716, 0.013217688691384039), (4624, 0.013217417912273174), (1934, 0.013212868490389232), (3018, 0.013212843622558462), (2381, 0.01321259424680802), (2083, 0.013190941400388196), (3488, 0.013190070606063378), (493, 0.01317874076799276), (4083, 0.01315938921124437), (3618, 0.013156968367241242), (1234, 0.013143878037506093), (3483, 0.013142084684413632), (193, 0.013123503748346936), (1918, 0.013110951128329646), (2780, 0.013100164136223934), (4003, 0.013090665547986484), (4566, 0.013084710951623066), (3388, 0.013077818527219731), (4025, 0.013076620673104247), (3654, 0.013054088413022743), (1902, 0.013046708172930408), (4115, 0.01303084930208764), (1821, 0.013025155207233305), (2235, 0.013000762456772045), (3493, 0.01299152617865607), (4377, 0.012984151919758614), (20, 0.012982925297401273), (4156, 0.012971341316438685), (3382, 0.01295189020953566), (4663, 0.012946276845549517), (1294, 0.012939546317405985), (1162, 0.012928828538633797), (1254, 0.012918300682386984), (3659, 0.012915767797901323), (2904, 0.012910238167002989), (145, 0.01289783659075992), (2604, 0.012896622096209419), (1970, 0.01289072209463594), (3202, 0.012884636440849698), (1124, 0.012868509973800674), (1740, 0.012858010073965562), (3517, 0.012851882575562008), (3938, 0.012849007109340825), (2489, 0.012845359498658275), (2544, 0.01281872503119665), (4748, 0.012815804888918269), (3501, 0.012812515731576891), (2045, 0.012809829231777266), (2295, 0.012805039334633003), (1998, 0.012804682166282985), (2130, 0.012789249307294224), (3002, 0.012785831535762121), (3245, 0.012783206524881059), (433, 0.012760008180331404), (232, 0.012759220839973695), (871, 0.012753498571905534), (2321, 0.012752554768568425), (2230, 0.012747341034875681), (3584, 0.012727075506221127), (3393, 0.012726825873281656), (1706, 0.012719438921295562), (2243, 0.012711206567633434), (1388, 0.012707111500656702), (816, 0.012696311499863236), (3436, 0.01268567952052269), (4173, 0.012679198473780346), (1876, 0.012677048292840588), (4370, 0.012656537550191903), (3341, 0.012639935998448227), (2746, 0.01262051563740813), (1385, 0.012620491007598593), (1304, 0.01260882687473322), (2558, 0.012606298448732485), (3236, 0.012603973179463135), (1303, 0.012576940761540811), (4016, 0.01256993600286426), (3432, 0.012559340850154567), (1612, 0.012551588475846774), (834, 0.012549011858069937), (3216, 0.012543155059625779), (1985, 0.012542363800614999), (1678, 0.012532624331983658), (719, 0.01253202277111164), (2566, 0.012528598414810375), (3551, 0.012527617341777528), (2396, 0.012525200475801206), (1531, 0.012521250984274247), (3210, 0.012520237269270006), (848, 0.012517921420513327), (3374, 0.012509111675920552), (897, 0.01250678706485675), (2228, 0.012499333756009371), (3727, 0.012497386452302996), (1891, 0.01249527216379755), (4517, 0.012487469084986947), (2067, 0.012487015440774886), (3541, 0.01248580313034688), (2826, 0.012478667050187084), (4392, 0.012478632737668697), (348, 0.012477526007709534), (2060, 0.012476648621211629), (466, 0.012461523137464074), (3491, 0.01246111826616917), (3564, 0.012460545865848072), (3189, 0.012450618326392134), (4378, 0.012450276792214299), (1622, 0.012436946154039473), (1666, 0.012429949690954475), (231, 0.012426816160260784), (867, 0.012422440956526748), (2941, 0.012410946387719175), (226, 0.012410687057145068), (927, 0.01241029396602724), (633, 0.012394720079685163), (2249, 0.012393106847457003), (1163, 0.01239051183690387), (2069, 0.012384269402352486), (4621, 0.012383477251736035), (2195, 0.012379660351757913), (391, 0.01236875157340629), (4020, 0.012365722726698098), (4440, 0.012350608358306469), (689, 0.012344309735513828), (4586, 0.012339878104552362), (2574, 0.01233307744225278), (4615, 0.012324639741580563), (2481, 0.012323021473967069), (3220, 0.01231895620260256), (3790, 0.012317128103262713), (1483, 0.012316114056717365), (4000, 0.012311785658728409), (3069, 0.01230906083452426), (273, 0.012277634672488347), (1831, 0.012272750654896365), (1470, 0.0122662590484205), (790, 0.012262745497465397), (3765, 0.012243936126077219), (142, 0.012243013140384756), (1813, 0.012237173067484263), (3472, 0.012235090752911479), (4628, 0.012231628408335927), (282, 0.012228145900976505), (4183, 0.012225278509036114), (3173, 0.012223902486086489), (3011, 0.012217352003621978), (4673, 0.012208181407838359), (730, 0.01220221335945145), (971, 0.012197894898191815), (169, 0.012195101605544198), (1777, 0.01217474880764159), (915, 0.012174476917023856), (3446, 0.01217045346628881), (843, 0.012169173502743193), (3751, 0.012162592347079422), (3696, 0.01215561979358461), (2369, 0.012149515149761432), (3169, 0.012148740668259316), (2716, 0.01214104405534736), (4658, 0.012117878366063189), (3826, 0.012117782041098297), (1617, 0.012117734979723967), (3706, 0.01211361233362766), (1248, 0.012110384487188784), (1582, 0.012100978016551448), (2553, 0.012100946612758262), (1020, 0.012092750883251693), (768, 0.0120893442445864), (127, 0.012085840204134935), (1284, 0.01208285722321346), (1993, 0.012079844960785811), (4395, 0.012075323917947727), (2865, 0.012067315141110226), (731, 0.012057253752010978), (1027, 0.012052962937118787), (2141, 0.012047709914744926), (2736, 0.01204702454820112), (3498, 0.012043211252744343), (2461, 0.012034865982929119), (1889, 0.012031254368646303), (1877, 0.012027874623110403), (1030, 0.01201508034270575), (1001, 0.01201318934828705), (3151, 0.012006812140486729), (3733, 0.012004731217210607), (4321, 0.012000168830099404), (1599, 0.011998454326619256), (4069, 0.01198903774923897), (1247, 0.011988671614649392), (1123, 0.011979329183887952), (4428, 0.011968755987005295), (1878, 0.011967994842920632), (1463, 0.011967509931597823), (1421, 0.011965966624611659), (835, 0.011962471469215464), (2642, 0.011958801783823286), (1597, 0.011956726422721218), (962, 0.011951921861110448), (373, 0.01194568828930248), (2453, 0.01191795679959761), (1036, 0.01188804474214145), (2166, 0.011870830189640993), (4001, 0.01187052483826057), (661, 0.011868738216056936), (3844, 0.01186110381677753), (833, 0.011840717484404517), (356, 0.01183963240022191), (1644, 0.011837178535872338), (1855, 0.011833955285715335), (154, 0.011831460570233432), (3390, 0.011826381743472902), (810, 0.011820657513259988), (4328, 0.011819380543925019), (842, 0.0118087219845158), (984, 0.011806736821761563), (906, 0.011801064893070826), (2242, 0.011797938268051523), (2892, 0.011782361832890189), (4374, 0.011782317756907006), (471, 0.011770912816125), (2827, 0.01176936036786543), (4688, 0.011766861536719481), (4708, 0.011760059261124573), (895, 0.011743225025499186), (3118, 0.011740954288787108), (1742, 0.0117362917374116), (1198, 0.011730488519964371), (878, 0.011723661010872275), (1623, 0.011715793115615183), (111, 0.011709010220878835), (387, 0.011706345535603067), (248, 0.011704529725607347), (296, 0.011691228515452089), (1447, 0.011688723652631102), (2023, 0.011688683540499317), (2525, 0.0116880481665478), (1508, 0.011670591434952554), (695, 0.011653325921940554), (1041, 0.011651196415519226), (1372, 0.011643575466071317), (1081, 0.01164017906662265), (2984, 0.011615731205008315), (2552, 0.011604794693923268), (2845, 0.011601456117858162), (801, 0.011589519254691153), (659, 0.011562035616011702), (1941, 0.011558872964527532), (1880, 0.011554061028310546), (1771, 0.011553560736623647), (1846, 0.011544282207550488), (4356, 0.011543631105933537), (230, 0.011540671785586069), (1672, 0.011538793388628617), (863, 0.011521687996409506), (218, 0.011507452365356337), (463, 0.011503442408615571), (2245, 0.01144608556886536), (2009, 0.011438234146924223), (1865, 0.011434837323189619), (285, 0.011415732667522358), (214, 0.011408762049469985), (473, 0.011403519368980673), (4459, 0.011400704053222967), (955, 0.01138691134414517), (1118, 0.011386366888075898), (3568, 0.01136512226157025), (1817, 0.011354217102282795), (2301, 0.011354183388648964), (2474, 0.011353048412895549), (4620, 0.011341019038482586), (4253, 0.01133635637294038), (957, 0.011333983517059568), (2954, 0.01133356459281621), (597, 0.011330585848714974), (4143, 0.011330219494840907), (800, 0.011329461144451262), (3563, 0.01131276851886148), (1675, 0.01130764904657639), (3327, 0.011305923790765775), (2050, 0.011299833853863177), (2803, 0.011295784006143738), (4587, 0.01129450872781485), (1700, 0.01129397157298859), (2929, 0.0112840469781876), (1680, 0.011272887359535478), (2517, 0.011265414765388919), (1503, 0.011253910798117208), (3099, 0.011253659574543478), (512, 0.011249989103264472), (1363, 0.011246693858288657), (1762, 0.011244627787535755), (1988, 0.011230039566568272), (1827, 0.01122429698663201), (1977, 0.011222561043162244), (3440, 0.011220838502668017), (1392, 0.011206776202142658), (703, 0.011196405910398053), (4608, 0.011185410233697823), (3986, 0.011168147900239789), (1758, 0.011167520139604016), (904, 0.011142040517550163), (2906, 0.011138704814811), (1496, 0.01113590568549651), (3841, 0.011131232514770386), (2976, 0.011119082754516781), (2636, 0.011109572204720706), (1709, 0.011109474567699423), (4159, 0.011106293954667956), (3619, 0.011100332386931354), (2594, 0.011099862929040328), (3384, 0.011096779070079244), (222, 0.011094102532914013), (4679, 0.01108147506300936), (2493, 0.011058699410937312), (1466, 0.01103427826505443), (1348, 0.01102052483261824), (3083, 0.011016300042740535), (2615, 0.01100836896029448), (3143, 0.011006160871566745), (4121, 0.010984138260768909), (924, 0.010979230203828759), (1291, 0.010977172939627003), (1943, 0.010971145610028859), (1815, 0.010956876131102312), (425, 0.010955950093908708), (542, 0.010938843285199803), (2686, 0.010933026447532072), (629, 0.010925200735981038), (4247, 0.010909541713104643), (2518, 0.010902391688258312), (1186, 0.010898831691482518), (4747, 0.010893287308503865), (2240, 0.01089249052500538), (225, 0.010885724297177773), (1560, 0.010882838126799632), (1828, 0.010876068390853979), (2791, 0.010868218548159381), (4274, 0.010866327189950727), (4432, 0.010864232457358462), (2066, 0.010864227390674464), (1450, 0.010862169340426841), (4525, 0.0108519418265938), (2182, 0.010849246236705174), (1301, 0.010844072854918299), (3759, 0.01083680962447032), (139, 0.010835508471966708), (40, 0.010833338743539277), (2743, 0.010806752710570224), (3655, 0.010802166679909275), (3221, 0.010801525005528155), (1729, 0.010793464324494278), (2115, 0.010790420918873573), (2036, 0.010787666291680962), (1465, 0.010761290154414386), (2152, 0.01075892990924785), (190, 0.010756313029001499), (4447, 0.010751435194469012), (242, 0.01074669383161663), (4150, 0.01074442969673058), (3817, 0.010743095237423395), (2043, 0.010731311957846205), (2733, 0.010727883574602266), (2758, 0.010705011824824502), (1928, 0.010700838754740054), (4565, 0.010675133997465646), (89, 0.010672260755244052), (2076, 0.010630741382820429), (595, 0.010621248057473399), (4106, 0.010609669885787315), (2127, 0.010581516565440055), (2101, 0.01056835090580655), (3200, 0.01054641317291671), (1332, 0.010545913416606937), (2384, 0.01054181313052965), (3344, 0.010541376221892801), (1674, 0.010534976794959284), (3855, 0.010532066891231793), (3485, 0.010530585914513928), (1371, 0.010514273912310388), (4463, 0.01050636904687353), (4078, 0.010502889381244199), (687, 0.0105013653610075), (513, 0.010498286591201085), (2979, 0.010492306139663697), (1312, 0.01047478620776463), (1679, 0.0104639792763316), (901, 0.010440114662944377), (2157, 0.01043710582260719), (3347, 0.010417890145791843), (1786, 0.010410193051574902), (1661, 0.010399810780489883), (841, 0.010393166672684808), (420, 0.010384747286794685), (2608, 0.010379490801422376), (1520, 0.010367154248607438), (1042, 0.01036662748455414), (2263, 0.010365062640189717), (1228, 0.0103635199662466), (1731, 0.010353970886650939), (2462, 0.010347592968055876), (3730, 0.010347016864780201), (3430, 0.01033167655602352), (1732, 0.010321860559951355), (678, 0.010318721844161865), (4353, 0.010291370889473055), (3313, 0.010290739373613758), (1379, 0.010271540867128701), (1571, 0.010262105872513002), (392, 0.01025858093515387), (361, 0.010251607546683847), (2842, 0.01024584627264436), (4595, 0.010241978165907273), (3401, 0.010236461704452367), (2208, 0.01023578778369014), (1426, 0.010231797073688886), (1246, 0.010225338768779154), (4265, 0.01022066457013563), (4656, 0.010206639817516348), (4436, 0.010206538646369641), (1241, 0.010203945518115931), (415, 0.010200578588719273), (1724, 0.010191504258981287), (3631, 0.010189068355623018), (2637, 0.010162327610562292), (344, 0.010157243740372888), (3254, 0.010148923606815255), (3520, 0.010143532069936978), (1299, 0.010137924182240212), (1689, 0.01013239177204925), (2908, 0.01012915211409934), (194, 0.010113007240896978), (2002, 0.010107898577933329), (3415, 0.010107240228465337), (3438, 0.010104743737077246), (3916, 0.010097877272100196), (2817, 0.010092873602738184), (1445, 0.010090487003862274), (1659, 0.010088869885164477), (1781, 0.010083230408908584), (3109, 0.010080694046602815), (1775, 0.010077135219054796), (201, 0.010075983599011755), (17, 0.010054599587232382), (2441, 0.010051244227412572), (2194, 0.010016296310667626), (4486, 0.010010158712255085), (2794, 0.009998176874460628), (1380, 0.009982377208256172), (2222, 0.009975299529147297), (4674, 0.009969244376264234), (2092, 0.009920861578819176), (1525, 0.009901855066284836), (1342, 0.00989583071647796), (3870, 0.009895375556447338), (2000, 0.009891287262118822), (55, 0.0098901929513834), (298, 0.009887502018721498), (3378, 0.009876949912295034), (1832, 0.009863318966146848), (2017, 0.009855974854121104), (1266, 0.009852766503171873), (1534, 0.00985072870013297), (1085, 0.009845398652390187), (2259, 0.009839829740063512), (3930, 0.009799185425538), (1302, 0.00979503157713674), (2487, 0.009787442053281093), (2106, 0.009784851419713537), (2318, 0.009784681995373195), (2549, 0.009781361087441627), (714, 0.00977174873308338), (1751, 0.009771012140601448), (3398, 0.009761941440934677), (1741, 0.009735649709688684), (2414, 0.009734909671713537), (736, 0.009722266467208033), (809, 0.00971733959981832), (4088, 0.009699981423508622), (846, 0.00969201418576766), (1435, 0.00967695385083376), (1419, 0.009669019186830934), (56, 0.009636973743621878), (219, 0.009630480212074638), (4675, 0.009621201820888005), (2551, 0.009617356479142327), (2685, 0.009605959208211497), (1105, 0.009605803703702684), (610, 0.009602019610878655), (4248, 0.00960032089387567), (2019, 0.009591271351942652), (4278, 0.009575165193894807), (3340, 0.009573261382746168), (284, 0.00955590038200031), (1577, 0.009547890042283487), (50, 0.009537302703857588), (2847, 0.009535005328949023), (233, 0.009531626391239889), (535, 0.00952911266249412), (3626, 0.009522880274140257), (451, 0.009506147049605762), (4184, 0.009503887034701416), (2128, 0.00949680487530395), (3793, 0.009494182019629682), (1804, 0.009493990343252639), (4652, 0.009487445984539792), (1374, 0.009472103580723274), (2973, 0.00947206368518907), (4029, 0.009464292593567814), (3188, 0.009454473443758578), (2046, 0.009453462274917107), (244, 0.00944763811797924), (4224, 0.009444876930950946), (2504, 0.009429149745646978), (4182, 0.009417072156426318), (562, 0.00941665832339952), (228, 0.009400568687640722), (4482, 0.009387842032552067), (2503, 0.009385974985839343), (404, 0.009372138369071324), (3531, 0.009367089241866761), (825, 0.009366497989263459), (345, 0.009359963782130642), (1373, 0.00935618237416113), (2150, 0.009352165335367112), (1063, 0.009331093449877854), (1368, 0.009317949137638696), (530, 0.009317394902021667), (1076, 0.00930927956288676), (3602, 0.00930681921300022), (2918, 0.009304261251898472), (3644, 0.009299608565505957), (585, 0.009290414618018973), (1545, 0.009260928614890192), (2616, 0.009254684845228471), (1912, 0.009246200634774786), (1633, 0.009227927588052302), (2677, 0.009222228993578795), (1471, 0.009204541668416904), (72, 0.009179701661330883), (3127, 0.009168456368053671), (1630, 0.009163526372488245), (649, 0.009152722342129826), (2095, 0.009141290509590928), (185, 0.00913021090869282), (223, 0.009114571349964221), (837, 0.009109614666383312), (1895, 0.009097559143262606), (2167, 0.00909541511368027), (929, 0.009092541247922869), (3490, 0.009089546816795196), (138, 0.009088296052101083), (311, 0.009064637781575362), (3824, 0.009034022836163513), (1218, 0.009029669590594057), (4752, 0.00902878722302278), (1067, 0.009027611650764756), (3881, 0.00902642073641899), (1992, 0.009022376314060538), (1086, 0.009020226696006736), (713, 0.009011451054340787), (2962, 0.00900717616882566), (3543, 0.008977543237697335), (1487, 0.008974158311550368), (53, 0.008969189318966798), (3712, 0.008965938926058547), (2513, 0.008956917041528355), (2183, 0.008955572269354523), (3899, 0.00895249046240629), (1562, 0.008945306055426653), (35, 0.008911243022176423), (304, 0.008903709022890007), (2315, 0.008901540058792961), (3823, 0.00889949126197372), (409, 0.00889130584276434), (548, 0.008875995628206571), (4577, 0.0088673331192884), (3788, 0.008847760447654387), (648, 0.00884582530007738), (4322, 0.008842499769807426), (4186, 0.008840439259786356), (2699, 0.008830480572217593), (2327, 0.008824883219423912), (3732, 0.008818415057388052), (1430, 0.00880118286862545), (1990, 0.0087985433338726), (710, 0.008793248143364376), (4305, 0.0087931539354459), (417, 0.00879200150772926), (3775, 0.008783753865489349), (1935, 0.008766149398779576), (2093, 0.008753982746634964), (3365, 0.008753263172262379), (770, 0.008742470932762019), (2542, 0.008741186188267505), (1310, 0.00871639417891437), (330, 0.008709295206290324), (3395, 0.008695215728889698), (1061, 0.008694346708790088), (2110, 0.00868449945885495), (2207, 0.008665536316058904), (1259, 0.00865126482465283), (1974, 0.008650099564724345), (2135, 0.008631570507003571), (291, 0.008627662195807694), (3865, 0.008612666037550332), (1236, 0.008607989356794788), (1384, 0.008595292581700265), (3421, 0.00858730943952032), (3945, 0.008581732548904028), (170, 0.008576082465159769), (393, 0.008552341613860114), (4018, 0.00854031765054488), (898, 0.008526685296196622), (334, 0.00851706420826426), (1213, 0.00848352951532681), (577, 0.008477267388459673), (3633, 0.008477149563676607), (1797, 0.008466695353717182), (3232, 0.00844375102820211), (1194, 0.00843778748211704), (1018, 0.008421607582675163), (4450, 0.008390520992757802), (3684, 0.008381358213099205), (820, 0.00836103123459412), (2822, 0.008334683883962354), (1850, 0.008329878117625807), (740, 0.008326736601757867), (4558, 0.008293380294094904), (4553, 0.008276418352694185), (3392, 0.00824741405670944), (1178, 0.008204019498578493), (3748, 0.00818954590188973), (1698, 0.008175803586047812), (1458, 0.008173862502430976), (3129, 0.008132137174110236), (2168, 0.008099694246887737), (779, 0.008090986243678319), (1221, 0.008029025049659124), (3212, 0.008006033868262723), (1300, 0.008003575329677468), (3806, 0.007985123940444101), (319, 0.007913056262356642), (3713, 0.007891636497676123), (1326, 0.00788374393547875), (163, 0.007839026254641343), (1963, 0.007813657429241238), (2665, 0.007793874248306729), (1344, 0.007653809314173935), (2324, 0.007604951958181848), (477, 0.00755019506104808), (2013, 0.007541407916510798), (294, 0.00753644975557108), (2377, 0.007513696061863667), (972, 0.007397305542288775), (3205, 0.007183641660993665), (2671, 0.006952073538158526), (3391, 0.006570414728935394), (3429, 0.006566165712545992), (3750, 0.006400718042297984), (2614, 0.006400083220011183), (844, 0.006353143729241926), (2660, 0.006306143537629332), (2809, 0.006204199653571565), (4739, 0.006009808695378891), (2440, 0.005986005509475496), (2118, 0.005886765988076978), (4719, 0.005707931233528634), (3240, 0.005695849657378518), (1019, 0.005593263454679073), (3137, 0.005470668050888793), (3932, 0.0054364547313501205), (3226, 0.0054211296595592555), (4151, 0.005063568927221996), (2678, 0.004799714899529199), (3552, 0.004793200032589016), (611, 0.004734984896512021), (2299, 0.004712774414950863), (4571, 0.004683052164632642), (3178, 0.004659565066468981), (3512, 0.004519162723720099), (2757, 0.004510798158552086), (3667, 0.004506400608208713), (4555, 0.004441747918431176), (2998, 0.00442440576557995), (3925, 0.004386720111227181), (2379, 0.004253258626878995), (2490, 0.004247735769293556), (3523, 0.004224775522722516), (2768, 0.00418931732182178), (3672, 0.00418780421627042), (2858, 0.004177269361845054), (3139, 0.004172576993908398), (4082, 0.004163334248671405), (2722, 0.004137261849839104), (2189, 0.004136986491544199), (4202, 0.004120925256039464), (3040, 0.004115717327183172), (2989, 0.004106565413580679), (2251, 0.0041005429704034785), (3166, 0.004088014471680162), (2349, 0.004080560896576698), (1145, 0.004075314068044003), (2407, 0.004073839908618206), (2537, 0.004042883203470027), (3119, 0.004040345481561979), (4617, 0.004030743095199945), (4704, 0.0040261368089027525), (735, 0.00402430674230964), (3055, 0.004010289203938983), (2775, 0.004000906802314779), (2870, 0.003995188093213275), (3042, 0.003993171763779664), (3030, 0.003992470607564298), (2883, 0.003988171369634762), (3635, 0.003984539802352104), (947, 0.003975469563111644), (2923, 0.003970861709331568), (2731, 0.003955955280410784), (4222, 0.003952520011493764), (4529, 0.003951495384750889), (2310, 0.003940385986125435), (4611, 0.003928269518369247), (3939, 0.003925235222794402), (2673, 0.003920480384379372), (2861, 0.003906354497426716), (2655, 0.0039056025812131277), (4172, 0.00389614950329266), (2559, 0.0038741976195146703), (4418, 0.0038706313053421724), (2832, 0.003867663188841896), (2075, 0.0038616205906790344), (4696, 0.0038609784440052485), (3076, 0.00385696670579894), (4407, 0.0038549178011863913), (3219, 0.0038514480334119012), (3292, 0.003847233171315092), (3762, 0.003839494576744696), (2199, 0.0038363321705590374), (3892, 0.003831161916448904), (4019, 0.0038204336433577918), (2425, 0.0038195837352507905), (2255, 0.0038022893311789544), (2257, 0.0037943744127850267), (3322, 0.0037929895538630284), (889, 0.0037928558667432105), (2645, 0.003792812352478105), (2350, 0.003787043759590646), (2901, 0.0037838447312904195), (4142, 0.003767912628501559), (2838, 0.0037663611474772116), (1208, 0.0037573213549414648), (4400, 0.003756924448523411), (2530, 0.0037457743959512443), (4102, 0.0037419521534598913), (3848, 0.003738988091214176), (3015, 0.003734576077083481), (4606, 0.0037310553502353937), (2306, 0.003728685501592094), (3239, 0.0037156440847724284), (3128, 0.0037150296298571472), (2423, 0.0037141095159056218), (3354, 0.0037104700857799947), (526, 0.003705963457507504), (1711, 0.0036957640107241254), (3249, 0.0036860090605282665), (4469, 0.00368224606854302), (4692, 0.0036788167070923553), (3363, 0.003675537185763262), (3616, 0.0036648708898947614), (4242, 0.0036612947908860626), (2834, 0.003656296422238954), (3537, 0.0036554619836368825), (2438, 0.003650451952155938), (3159, 0.0036475125328186337), (4306, 0.003643596915733489), (3577, 0.0036421613949860067), (4107, 0.0036390796948837017), (3922, 0.0036381511767753947), (2857, 0.003637895500579363), (4724, 0.003632941614393774), (3521, 0.003630720996704745), (3004, 0.0036299567629008633), (2266, 0.003628854747667936), (3074, 0.0036158058748826183), (326, 0.0036092042158101362), (2797, 0.0036072515351131033), (3154, 0.003607120608354489), (2957, 0.003605507688090534), (2568, 0.003604435023387128), (3874, 0.0036038560175239323), (4723, 0.0036033561438024112), (2488, 0.0036017133616555144), (3832, 0.0035978257082408104), (2188, 0.0035967306886483664), (3620, 0.003588694941202597), (3544, 0.0035874087788580226), (2459, 0.0035871349163749105), (2966, 0.0035826766602022704), (3358, 0.0035779238625008847), (3020, 0.0035777833434739166), (3228, 0.0035765556949750475), (2415, 0.0035761320940413707), (3779, 0.0035587543556331977), (2454, 0.0035587421118975318), (2993, 0.0035547019735098126), (3257, 0.003551141597089125), (1264, 0.0035500354628528463), (2619, 0.0035490762738114357), (777, 0.00354211743520193), (3413, 0.0035398519358883353), (489, 0.0035255016516598224), (2434, 0.003523235953297262), (4458, 0.003514906626277374), (3675, 0.0035131025201203003), (1049, 0.0034946159165461436), (4280, 0.0034927459092014192), (4735, 0.003487428993769271), (2986, 0.003485992456246699), (4023, 0.0034803988923650725), (4717, 0.003479918404463777), (2769, 0.0034785758091736845), (2738, 0.0034779204193291094), (431, 0.003475619336585805), (3763, 0.003473273320359044), (2613, 0.0034719620907882626), (4416, 0.00346905696337617), (2570, 0.003468676919662926), (2378, 0.003468323591402306), (3524, 0.0034674574548045267), (3745, 0.0034668292957517953), (1053, 0.003466394326537797), (4694, 0.003462789041633834), (1187, 0.0034625927047330592), (4145, 0.003461915777243419), (2406, 0.003461759055649699), (1968, 0.00346101094738876), (2707, 0.0034589192737036725), (518, 0.0034550041059393977), (2720, 0.0034541018625179), (1885, 0.003453146351656715), (4412, 0.003452313208702732), (2417, 0.0034506486861188364), (4030, 0.003449507232843433), (1169, 0.00344920350561828), (2846, 0.003448443732683319), (3094, 0.0034483815290576253), (4477, 0.003443087197178191), (4032, 0.0034388818608412546), (4075, 0.0034388175712547226), (3951, 0.003438788596211386), (3540, 0.0034373584807793492), (3019, 0.003430825031207215), (3359, 0.0034297786605732533), (4126, 0.0034293982916737335), (2320, 0.003426102101315491), (2696, 0.003425920413207929), (2427, 0.00342329398829408), (3450, 0.0034227875799807583), (1947, 0.0034212215940902396), (2924, 0.0034179046652964007), (4163, 0.0034168492831248647), (4203, 0.0034161513623832116), (3729, 0.003415457428580196), (3425, 0.0034148208856387232), (860, 0.003414656826198643), (4713, 0.0034116374927621288), (4398, 0.003405472929494026), (2987, 0.003402343364203902), (3419, 0.003401078202260571), (3337, 0.0034005286972207506), (3396, 0.0033993589266391494), (3866, 0.0033971292329263354), (823, 0.0033970101188773357), (2403, 0.0033967284721068973), (4650, 0.0033963819580210435), (2872, 0.003392422727843631), (3355, 0.0033905716461780843), (925, 0.003388702141072238), (508, 0.003388692841885564), (4507, 0.0033851060672929327), (3165, 0.0033850008656396936), (4267, 0.0033840989215175817), (274, 0.0033838966029821533), (2478, 0.003383214775714126), (2187, 0.0033823898129321846), (3952, 0.0033797188715136224), (847, 0.003379566439287354), (4516, 0.003379470785456507), (1656, 0.0033788534579985733), (4465, 0.003377628146915632), (721, 0.003376781989735927), (4244, 0.0033762868855590268), (3639, 0.0033728996030164267), (2796, 0.0033727109228035624), (3423, 0.003372174440365001), (3651, 0.0033713963109194525), (985, 0.0033712949434701158), (2702, 0.0033683570910074813), (4117, 0.003364209177538815), (876, 0.00336389071563705), (1497, 0.003363465541759589), (3661, 0.0033611853114056144), (4753, 0.0033605407305453082), (4243, 0.003355073313243468), (3296, 0.003351964855105045), (2223, 0.0033509062558782156), (2346, 0.003350856838700328), (3611, 0.0033485979695725555), (2051, 0.0033484104070839503), (3867, 0.0033479502428182717), (2302, 0.0033474182346030397), (2437, 0.003345132189827765), (4187, 0.003343994564751372), (1843, 0.003342663138657551), (2893, 0.003342103961079805), (3960, 0.0033411263088542146), (998, 0.0033409579389566367), (1887, 0.0033397953197939314), (999, 0.003338223597735514), (3148, 0.0033367812264286584), (4731, 0.0033367688841800104), (2623, 0.0033363662947144567), (2936, 0.0033361712033129127), (2914, 0.0033330046828110443), (281, 0.003327006569776921), (235, 0.0033264408373896094), (3013, 0.0033245964670232777), (737, 0.0033240457477366103), (1349, 0.003320658960409244), (3274, 0.00332059759985978), (419, 0.0033192407719214384), (2740, 0.003318274898355054), (4333, 0.003316251952716412), (1023, 0.003312773206216922), (1489, 0.003311581906321106), (3822, 0.003309105255227857), (2974, 0.003308830294179155), (4718, 0.0033052976624304564), (2903, 0.003305002593833226), (3196, 0.0033047639286980877), (4160, 0.0033042858891166467), (3012, 0.003304174469834841), (2579, 0.003303433006883624), (596, 0.0033021122038331737), (2916, 0.0033011097526713168), (1862, 0.0033006620204116825), (1594, 0.0032996726092232227), (1499, 0.003299088937933435), (3414, 0.0032989959445276365), (3032, 0.003298794604399778), (3146, 0.003296506404269063), (308, 0.0032955721940786074), (2356, 0.0032945594596687686), (2436, 0.003293905941575352), (3737, 0.0032908311364245654), (3593, 0.003289880468567955), (4293, 0.0032886343104497353), (458, 0.0032884213212622825), (4051, 0.0032879578375966485), (3804, 0.003287551657001984), (2840, 0.003286980657317844), (3248, 0.003286805573020532), (444, 0.0032837419352565694), (3273, 0.0032810396280515334), (2209, 0.0032810172572684533), (2782, 0.003280636943041583), (3157, 0.0032803087147015844), (2830, 0.003279972469269917), (4397, 0.003279936829925948), (41, 0.0032793290867912665), (4706, 0.0032742274501538216), (3003, 0.0032738823375397627), (4605, 0.0032736168201425017), (4259, 0.0032735783193041717), (3857, 0.0032733599617181465), (2854, 0.0032730682018617687), (1923, 0.0032730629635952537), (2505, 0.0032729881017509997), (2108, 0.003271086682286123), (1890, 0.0032701628192795566), (3062, 0.0032673652713446633), (2535, 0.0032664421956598126), (688, 0.003264739609629911), (1960, 0.0032630338949528608), (1658, 0.003262867111999905), (2592, 0.0032626593697258057), (3967, 0.0032579283241086516), (3026, 0.003256093280378557), (857, 0.0032544577717436908), (967, 0.0032537930140050264), (3961, 0.0032529052316741286), (2890, 0.0032520206150183266), (4619, 0.003251667182554046), (2159, 0.0032497916746489592), (3097, 0.0032497263720130676), (2049, 0.003249045868437498), (371, 0.0032429884908219435), (587, 0.003241196925619997), (3924, 0.003239657381629898), (1454, 0.0032370346606549493), (3677, 0.0032350093363635994), (2739, 0.003234212041228058), (450, 0.003233848206447886), (2410, 0.0032330866859615138), (1479, 0.003232372035506819), (2464, 0.003232211760779182), (4308, 0.0032319423704553), (1733, 0.0032314050091579497), (4048, 0.0032263333234153644), (123, 0.003224383291026458), (3234, 0.0032213750903034204), (318, 0.003220716300077554), (1043, 0.00322060108146598), (3497, 0.0032200461860368585), (1866, 0.0032180357326254973), (673, 0.003216086754759813), (3813, 0.003215619653566454), (1243, 0.003214501936785756), (4732, 0.0032144514477050155), (4133, 0.003213514287262315), (4116, 0.0032130379842226185), (2293, 0.003212430724376705), (4522, 0.003211705049717402), (342, 0.003210483623646927), (4669, 0.003209815971925156), (350, 0.00320842053668981), (3064, 0.00320682835068676), (481, 0.003205022722783415), (2748, 0.003204753470736455), (3258, 0.003204686553115095), (887, 0.0032045100299419914), (2214, 0.003204344561675119), (2882, 0.003202531183869052), (2507, 0.003201460778860501), (8, 0.0032006272404884167), (4528, 0.0032005821715218766), (2595, 0.003196541396482848), (4722, 0.003194997711034768), (2888, 0.003192431561814893), (3771, 0.003192106895326784), (2705, 0.0031910921459180953), (1959, 0.0031879639442738894), (3269, 0.003187937396399952), (192, 0.003187522304783488), (1015, 0.0031857622671917856), (1874, 0.003184995388193754), (794, 0.003184955275744222), (4734, 0.0031849353472198326), (3271, 0.0031843681299719502), (4024, 0.0031825974528916674), (3757, 0.003179104663057158), (728, 0.003178669908617305), (2190, 0.0031767289093046097), (4579, 0.0031766349603147), (2776, 0.003174123766522423), (1848, 0.0031725543710593904), (1907, 0.0031722874006691105), (4161, 0.0031705259574231178), (2475, 0.0031693745027108625), (3112, 0.003169077673533781), (1359, 0.0031668387944595424), (2162, 0.0031648565642720112), (3095, 0.0031640254058567523), (991, 0.003163524443497692), (3496, 0.00316345909273686), (395, 0.0031619683286429117), (4269, 0.0031611891679673263), (4371, 0.00316036144486056), (485, 0.0031582907508798555), (4495, 0.003156702846033518), (2786, 0.0031560436716334436), (1537, 0.0031552852964810414), (4111, 0.0031549564307203027), (1683, 0.0031536936694043973), (2260, 0.0031526685306878808), (3904, 0.0031522632214874948), (4431, 0.0031517741636841513), (21, 0.0031516153884848016), (3728, 0.0031514743329080974), (4680, 0.003151052143895277), (4038, 0.0031507266187348563), (1712, 0.0031501809800917034), (2940, 0.0031500076721985362), (227, 0.003149637904955345), (1141, 0.003149512520179753), (2949, 0.0031489384358951065), (2712, 0.0031488577012930064), (3007, 0.003148445239603309), (2104, 0.003147439111897631), (1119, 0.0031465487103669028), (4231, 0.0031437980573384102), (1324, 0.0031437162980355814), (2609, 0.0031434696942508112), (3601, 0.003143064036761333), (2664, 0.0031419368856582027), (2970, 0.0031413186936262473), (1619, 0.0031407129314798984), (4169, 0.0031393197472199463), (3987, 0.0031388981101422068), (2105, 0.0031382547272167296), (3973, 0.00313779009674265), (1572, 0.0031358741317776863), (3434, 0.003135350081869445), (3678, 0.0031352750968120513), (792, 0.003134940463496858), (246, 0.003134193817496375), (1339, 0.0031325563573123155), (3297, 0.003131536546975643), (3590, 0.0031305855387082525), (612, 0.003129042473260928), (208, 0.0031288556614918173), (2821, 0.0031286930755967603), (930, 0.0031281165450089445), (1951, 0.003126832159492786), (2565, 0.003126333158772974), (2361, 0.0031260185356590878), (3084, 0.003125753478166164), (68, 0.003125579554389185), (4471, 0.003125232122509678), (456, 0.0031224403769174727), (3326, 0.0031213978920000265), (4505, 0.003119525643238029), (1853, 0.0031194941728626023), (4575, 0.003118264876912974), (2288, 0.0031172900609066864), (2196, 0.0031165765137704834), (2755, 0.003116329344060337), (2849, 0.0031156776024218115), (4052, 0.003114760252413147), (2610, 0.003114580879388398), (4318, 0.003114194366503152), (3777, 0.0031138376659608316), (4123, 0.0031117864135828373), (483, 0.003111676497671679), (1822, 0.0031110499772792565), (3037, 0.0031108571670139177), (4, 0.003109562231793051), (4033, 0.0031091315851394736), (1893, 0.003108416116830544), (470, 0.003108287844701429), (2878, 0.0031066637454912316), (1916, 0.00310566775798224), (2394, 0.003105397164356927), (2385, 0.0031040653652391337), (4474, 0.003103087480599275), (3511, 0.0031022539435326102), (1670, 0.0031018806716813408), (3882, 0.00310172882596992), (3187, 0.0031013477768874146), (51, 0.003100723626802078), (178, 0.0031002641721860507), (3984, 0.003099414416868718), (1570, 0.0030994122757714545), (830, 0.003098001557623396), (2419, 0.003096258266726572), (262, 0.003096047044218831), (3372, 0.003095181195598632), (4757, 0.0030949141847803545), (4178, 0.0030945411907421384), (3242, 0.0030941739260837223), (1643, 0.003094061441944328), (2633, 0.0030940020302559217), (4225, 0.0030936848773049723), (1188, 0.0030933101764374776), (1402, 0.0030903888514394466), (173, 0.0030887411493598386), (2088, 0.003087724361213421), (4430, 0.0030856185967499737), (4497, 0.0030855017839491778), (502, 0.0030853140143041373), (3437, 0.0030852539235390925), (1736, 0.0030852275375157397), (3150, 0.0030834904076645474), (4354, 0.0030830092140436633), (2926, 0.003082149380229926), (211, 0.003080484712254208), (1660, 0.003079251301597477), (3862, 0.0030779655215860202), (4448, 0.003077789281995887), (3599, 0.0030771634687406413), (3514, 0.003076700695083339), (879, 0.0030746907955089857), (2561, 0.0030746702770290987), (3241, 0.003074615371271381), (4629, 0.0030744154135422226), (3845, 0.003073997139621811), (890, 0.0030736605101612103), (2601, 0.00307355188547048), (717, 0.003073361436200898), (4419, 0.0030723834378380975), (1475, 0.0030723267396187436), (2531, 0.003071436263928781), (2545, 0.0030704495490998357), (1513, 0.0030700303717401925), (543, 0.0030694720376832785), (4089, 0.003068614731669569), (2546, 0.003068006443629689), (34, 0.0030666889276055763), (3902, 0.0030664111272073152), (4361, 0.0030661799142860965), (2405, 0.0030651951139877088), (3353, 0.0030639363661839067), (1048, 0.0030625494480775194), (2650, 0.003061984341464353), (2319, 0.0030616044805738545), (3778, 0.0030612398641490977), (551, 0.00306071917640304), (447, 0.003060210544448132), (4625, 0.003060040918754094), (4262, 0.0030596889822338416), (4756, 0.00305900734362537), (3536, 0.0030579153452788815), (3349, 0.003057588320048557), (987, 0.003056801984052018), (4079, 0.0030551214587432696), (2148, 0.003054679548763548), (3920, 0.0030526440140484687), (637, 0.0030518793169589625), (11, 0.0030518677664625473), (2123, 0.00305046544659051), (584, 0.0030494572938119966), (1703, 0.003049269029818244), (3689, 0.0030483512097069024), (1765, 0.003048106392180134), (4340, 0.003048081135093376), (3527, 0.0030464250787458837), (4287, 0.003044749655260101), (3198, 0.003044497591351179), (2053, 0.0030426728312026555), (1382, 0.003041978567614705), (4249, 0.003040820338783633), (120, 0.0030394522974634803), (2126, 0.003039334228944402), (2863, 0.0030387144422042833), (4470, 0.003038457223927343), (3636, 0.0030371344830129325), (377, 0.0030365489422778742), (1494, 0.0030361032261592437), (1717, 0.0030352158579258714), (1516, 0.0030351343713730236), (2334, 0.0030333967085912046), (2048, 0.003033345593775554), (3290, 0.003032910348562498), (631, 0.003030203162954025), (1768, 0.0030300607533113224), (743, 0.003028442541127236), (1946, 0.0030284384686352158), (176, 0.0030282951249347998), (2466, 0.0030266562725560662), (865, 0.003026105827503694), (3016, 0.003025496509266935), (2894, 0.0030243399459125415), (3701, 0.003021354003967441), (4098, 0.0030209360078987716), (3289, 0.0030202947105700943), (3809, 0.003019535792714742), (71, 0.00301923324727997), (3445, 0.003018236096722467), (2977, 0.003017581081068445), (4273, 0.0030158374528597726), (115, 0.0030135011330685636), (2386, 0.0030130912715135307), (1174, 0.0030128491952099022), (2784, 0.003012301978558797), (1931, 0.0030111306862345946), (3699, 0.0030101821840770233), (933, 0.0030098316866191896), (1176, 0.0030083340049340064), (969, 0.0030080810000720267), (1337, 0.0030075610292132995), (1182, 0.003006868430635217), (406, 0.003006854435896436), (593, 0.003005975783763182), (3113, 0.0030059183180115518), (238, 0.0030058614564265067), (1688, 0.0030052173105400105), (3606, 0.0030048970333357303), (4197, 0.0030044335463656363), (4283, 0.0030041365216466028), (2073, 0.003003613089793906), (3182, 0.003002180377231693), (3283, 0.0030018669623109854), (2292, 0.003001627833241352), (1122, 0.003000440508293945), (850, 0.0030002813148883698), (3707, 0.002999505606689561), (3303, 0.0029991077976447), (2155, 0.0029986452550939506), (3792, 0.002997083186102558), (1087, 0.002996202865571921), (4068, 0.0029940659097070217), (3643, 0.002993977207708392), (2798, 0.002992716240127167), (1440, 0.002992623846765407), (4049, 0.0029910155236312175), (544, 0.0029907178491696755), (1204, 0.0029901516821319416), (2430, 0.00299008839387061), (1533, 0.0029895137032206268), (4135, 0.0029889290095022948), (4004, 0.0029887919753419697), (4255, 0.0029875678006421017), (2887, 0.0029862093255141864), (1476, 0.002985835944879468), (1472, 0.002981390882574219), (1872, 0.0029807844239728336), (3739, 0.002979527452311554), (2652, 0.0029794413795857133), (1410, 0.0029786228930403086), (4501, 0.002977514450245605), (1722, 0.002976077694368512), (2122, 0.0029751990281040638), (1922, 0.002975051332990893), (2745, 0.0029747140907303554), (1175, 0.002974240104621704), (4137, 0.0029741784068361187), (2193, 0.002973936011299576), (209, 0.002973824171153446), (2554, 0.0029730848465192193), (2144, 0.0029727390449408564), (3227, 0.0029715502631135335), (628, 0.002971359641175575), (182, 0.0029706274645531147), (1232, 0.0029698612722962934), (343, 0.002969476473826899), (2934, 0.002968599010448548), (2192, 0.0029679160868581805), (2606, 0.002967480967511494), (3155, 0.002967287210554565), (696, 0.002966447945277661), (2169, 0.0029661774233385187), (2783, 0.002965904126445815), (2492, 0.002965572191677649), (4686, 0.0029650944744054122), (504, 0.0029649376877262045), (2533, 0.0029641429697027993), (4081, 0.0029634388317736327), (4604, 0.0029630459477966863), (3125, 0.00296168407305343), (4435, 0.0029611868704564146), (1191, 0.002958750095860285), (1223, 0.0029585260935758194), (1131, 0.002956962423032439), (172, 0.0029564719809357463), (5, 0.002955895883682086), (4715, 0.002954730229094527), (1488, 0.0029545368785855552), (2340, 0.0029544279085821977), (4640, 0.002952577439231287), (2831, 0.002950513029128312), (114, 0.002949930048094484), (749, 0.0029488986928005853), (761, 0.0029475647410397844), (3478, 0.0029471339144290817), (2495, 0.0029468665156312927), (986, 0.0029448773885936965), (4427, 0.0029438193135205492), (479, 0.0029436470791309116), (3492, 0.002943500648059223), (370, 0.0029423532094651557), (66, 0.002941378300939956), (2387, 0.0029407182193106193), (3665, 0.0029401134794942987), (4320, 0.0029396425938853195), (280, 0.002939421445258225), (3346, 0.002939292747708419), (3174, 0.0029392589985118792), (2900, 0.0029377551958022423), (2943, 0.0029365350083163685), (1021, 0.002935584091558918), (1112, 0.0029353431411053097), (3673, 0.002935191348783403), (2853, 0.0029323610942242322), (3807, 0.002931674498457094), (4511, 0.0029312454242994405), (1298, 0.002930799669053444), (2999, 0.002930415472301177), (4409, 0.0029296928032394374), (3299, 0.0029285030319982303), (346, 0.0029284571501955133), (4060, 0.0029280222177385015), (2289, 0.0029267188271075583), (2512, 0.002925979439628329), (1102, 0.002924964762160515), (4394, 0.0029244720103563117), (3441, 0.002922921094291399), (105, 0.0029228601450822433), (2174, 0.0029212387041108474), (1634, 0.0029209594040316474), (3553, 0.0029208720178654467), (400, 0.0029200681541372655), (3624, 0.0029198176570493103), (894, 0.0029194420103697207), (1072, 0.0029189917031354905), (1438, 0.002918659945261409), (3435, 0.0029184822371986848), (4520, 0.0029174662424290405), (1059, 0.002917287047070199), (3565, 0.0029166903474420764), (3596, 0.002916676192102824), (247, 0.0029139719540323223), (464, 0.002913090797827099), (1411, 0.0029122562525643937), (2569, 0.002912113693705431), (3381, 0.002911936121257772), (4228, 0.0029116033210346537), (3067, 0.0029114419963433827), (174, 0.002911023736872772), (3237, 0.0029108998100546048), (534, 0.0029107692880316373), (1598, 0.002909240966123937), (1550, 0.0029060629627471945), (1621, 0.0029053428595966534), (2416, 0.0029046170667808235), (1257, 0.0029041247037572483), (1313, 0.0029041189011842035), (973, 0.0029035527681616187), (2173, 0.0029020767000042264), (2961, 0.002900912464833564), (3093, 0.002900386117444464), (2946, 0.0029003521017516606), (3195, 0.002900252942254318), (3906, 0.002899607299852446), (3647, 0.0028995940452187056), (2687, 0.002899507134469299), (989, 0.0028987211276703014), (4349, 0.002897943693153699), (2463, 0.002896900855668655), (1110, 0.0028968368912119517), (215, 0.0028953343184247933), (3499, 0.002895220986448968), (4685, 0.0028934201284372724), (1026, 0.0028919399397887), (3260, 0.0028915300164744084), (1319, 0.002891424765330065), (119, 0.0028913987842397746), (1807, 0.002890771210691073), (2980, 0.00289038088650699), (3557, 0.0028900310388878863), (3827, 0.0028895892931957152), (3379, 0.002889387893443289), (1286, 0.002889214966652394), (2216, 0.002888342727298782), (1882, 0.0028875550241531127), (2111, 0.0028868325384426145), (98, 0.002885804344634136), (4362, 0.0028856912688671374), (2945, 0.002884863194886941), (1527, 0.002884270844368426), (26, 0.002883608760959968), (2087, 0.002882497682306942), (4530, 0.0028822697784298954), (2226, 0.0028817711593278773), (2802, 0.0028817680243385753), (3447, 0.0028798130625570947), (4036, 0.002879608430795689), (4641, 0.0028789888758411378), (3719, 0.002876561079037471), (4309, 0.002876483337547548), (3412, 0.0028742893971223315), (2909, 0.002874282225654523), (4387, 0.0028736676222800286), (2279, 0.00287152277254981), (1350, 0.002870758972319029), (2103, 0.0028696968731403948), (693, 0.0028684169893623316), (1096, 0.0028671502666200834), (2401, 0.0028642137134640856), (755, 0.002864100303891764), (1035, 0.0028630609180375424), (4693, 0.0028627553505017438), (959, 0.002862556139620151), (4576, 0.002862488084536968), (3075, 0.0028622635617798525), (2422, 0.0028607814879563574), (3370, 0.002860683587996649), (292, 0.002859348188831861), (4442, 0.0028585921959719458), (349, 0.0028583405247147647), (4381, 0.00285712448122101), (4550, 0.0028570619957188274), (4573, 0.0028569921480398257), (2808, 0.0028557116639370264), (2912, 0.0028536809155389653), (1261, 0.002853406696676843), (4129, 0.002852612395334596), (1481, 0.0028524150427172547), (3348, 0.0028521103662524617), (817, 0.002851986071780763), (3890, 0.0028512260386394923), (488, 0.0028506128462500477), (2080, 0.0028474542852969646), (4336, 0.002846671238729225), (2612, 0.002846301165073524), (2268, 0.0028462744623582964), (651, 0.002845307670092906), (4504, 0.002844420327030737), (1969, 0.0028441281293572537), (2653, 0.0028439379570207556), (1060, 0.002843478098924203), (2467, 0.002843393216204225), (3660, 0.002842016972266753), (3010, 0.0028419151686626064), (112, 0.002837300185627649), (4461, 0.0028371646170073303), (3917, 0.002834988200140767), (3352, 0.002834124475627557), (646, 0.0028341121341188473), (3487, 0.0028335656778501685), (396, 0.002832088866403062), (2131, 0.002831127508583379), (4729, 0.002830871367887268), (620, 0.0028306119870857905), (782, 0.002828009311058384), (18, 0.0028259645154561724), (1446, 0.0028242283608276965), (1034, 0.0028223331186453754), (2024, 0.0028221547807260224), (487, 0.002821221103677732), (3868, 0.0028199002754657316), (852, 0.002819149844356218), (2752, 0.002818782924494032), (52, 0.0028178800358101197), (4567, 0.002816688311190443), (1416, 0.002816313404188608), (4155, 0.002815516676547426), (3315, 0.0028153371584843877), (2309, 0.002815256326867737), (1854, 0.002813817948267535), (3214, 0.0028135946217745242), (3268, 0.0028128348919840666), (854, 0.0028126005030281237), (798, 0.002812444920270968), (1744, 0.0028115007598984534), (3978, 0.002811031024335973), (1929, 0.00280956258533626), (2540, 0.0028088399926056652), (1002, 0.0028080098494577014), (157, 0.0028068210640174295), (2473, 0.0028067515783320594), (29, 0.0028065104058457506), (2121, 0.002805710428550897), (3035, 0.0028056417562726736), (3784, 0.0028051742038048715), (4085, 0.002805000467334119), (3691, 0.002804328113477123), (164, 0.0028043099479704973), (3170, 0.0028037184111551813), (4213, 0.0028023980993026744), (221, 0.002802082297127472), (3036, 0.00280195772044425), (2706, 0.002801824094797173), (2765, 0.0028013613489534426), (1132, 0.0028008459679468153), (2068, 0.0028004602324761024), (505, 0.002799713739365664), (644, 0.0027996445712245737), (2965, 0.0027995557116703407), (1160, 0.0027973112908340828), (3898, 0.002796718362125127), (2224, 0.0027965505539193337), (437, 0.0027964186732386967), (767, 0.002795655557295255), (4345, 0.002795480929736596), (2859, 0.002794086983470663), (3799, 0.002793641456403398), (1710, 0.002791692368381583), (4246, 0.002790429262728674), (3293, 0.0027894420351540408), (2679, 0.0027887717542940836), (4124, 0.002788637970172429), (203, 0.0027885582280255407), (698, 0.002788350865799056), (434, 0.002788130637390863), (2133, 0.0027875545263824357), (3646, 0.002786702082964695), (1404, 0.002785819633263088), (2997, 0.0027855798166405775), (4399, 0.0027852476281795984), (1759, 0.0027846207851047544), (2800, 0.002784390837611649), (828, 0.0027839960255550003), (1032, 0.0027835811694911857), (197, 0.00278270726690388), (3819, 0.002782643056693053), (966, 0.002782608986974941), (3014, 0.002782170278391738), (3194, 0.002781705529832884), (578, 0.0027814840438624847), (3954, 0.002781438207385048), (126, 0.002780634576364726), (939, 0.0027797692325070107), (2303, 0.0027795366487243425), (3811, 0.0027782948873312707), (2972, 0.002777955953916648), (2812, 0.0027774346877423093), (1663, 0.002776408202425549), (4257, 0.0027762780482574064), (2348, 0.0027759527152625128), (3615, 0.0027752803205652607), (3433, 0.0027749934376093076), (694, 0.0027713961944165785), (4011, 0.002767798947284984), (507, 0.0027672698378879705), (4254, 0.002767214767761737), (1693, 0.0027671013451071435), (3407, 0.002766748645284509), (1682, 0.002765629722246746), (287, 0.0027653439937758025), (3057, 0.002764707384607675), (886, 0.0027629500430175875), (1793, 0.002762240179787197), (3941, 0.002761764014611334), (140, 0.0027606591705475036), (3071, 0.002760438935710232), (941, 0.002760277388171725), (3243, 0.0027602667678641277), (734, 0.0027600706113101513), (975, 0.0027589627226069827), (212, 0.0027580580638018578), (4059, 0.0027560547989817384), (900, 0.002755518870692811), (1206, 0.0027550158971465484), (2099, 0.0027546171584199026), (1884, 0.0027545877465367124), (2149, 0.0027536392508526546), (3399, 0.002753394081851341), (4634, 0.002749994964155615), (229, 0.002747586892126869), (2862, 0.0027465670122682217), (598, 0.002745904412890617), (944, 0.00274577939898043), (3725, 0.002744122305401299), (3147, 0.002743618183722516), (213, 0.0027429564624333615), (921, 0.0027428431754722617), (1107, 0.0027420298104115716), (410, 0.002741834578463525), (2201, 0.0027415535525846055), (935, 0.002741200536218932), (838, 0.0027404149795378615), (1558, 0.0027395869454223767), (3829, 0.002739530127413887), (2446, 0.002737278530541593), (2528, 0.0027368590481777403), (1183, 0.00273552118398245), (1456, 0.0027354892775859896), (3500, 0.0027342256405493703), (2907, 0.00273327215923273), (1641, 0.0027329316481264202), (2556, 0.0027327507590747635), (2129, 0.0027308262738075816), (399, 0.0027308217865497347), (3120, 0.002728522285019941), (96, 0.002727638852700355), (1642, 0.002727607066273054), (1514, 0.002727471104289104), (2777, 0.0027269586078188628), (766, 0.002726902361818506), (2317, 0.0027268861283004805), (3627, 0.0027268427048211773), (2868, 0.0027266381966642743), (3854, 0.0027253482213494408), (4402, 0.0027251165800690294), (4616, 0.002722422091434011), (2735, 0.0027210802634578), (3558, 0.002720826072154402), (2399, 0.002720428364973668), (2593, 0.0027190774535036104), (3369, 0.002718437264546072), (3839, 0.002718336071227806), (355, 0.0027175315600729884), (899, 0.0027167055893025766), (590, 0.0027162597952129666), (638, 0.0027162534597081284), (1667, 0.002716094121774278), (1357, 0.0027159165932074112), (1543, 0.002715231040037118), (1814, 0.0027135751299198507), (2674, 0.0027129045495867168), (4174, 0.00271259167410747), (604, 0.0027104462353393518), (4348, 0.002710245120338401), (907, 0.002710210913672938), (1079, 0.002710159044730741), (4176, 0.002709922930243685), (2347, 0.002709201924140675), (121, 0.002708658632020251), (829, 0.0027073156270374155), (1875, 0.00270634314873129), (3455, 0.0027060373510122463), (3876, 0.002705269585722957), (457, 0.00270490299100891), (524, 0.002703619736146429), (1462, 0.0027031661487526633), (183, 0.0027028549264760137), (4326, 0.002701988462284426), (3306, 0.0027018715818374305), (2362, 0.0027015291495410096), (416, 0.002700667977974433), (3050, 0.002700121479191745), (3284, 0.0026991730245475554), (1628, 0.0026966070676490653), (2920, 0.002696510602815486), (624, 0.002695659946786352), (3329, 0.002694281523285294), (1065, 0.0026936607423385566), (3742, 0.002691971470290211), (124, 0.0026910597294546967), (1434, 0.002690719857040157), (4359, 0.0026906389078708427), (465, 0.0026905891347723935), (199, 0.002687235602908861), (1730, 0.0026868607876832937), (3953, 0.0026814699844038554), (2011, 0.0026798289248453136), (3474, 0.002677957995698946), (1528, 0.0026768227187047165), (1237, 0.0026752800305850587), (1538, 0.0026750780477047893), (3418, 0.0026745564333053883), (608, 0.002671487978104112), (2055, 0.0026710579115849092), (968, 0.002669660002505942), (1869, 0.002668328369212323), (3614, 0.002667559338485449), (3311, 0.0026659222633249394), (1826, 0.002664975363237982), (428, 0.002660768178103747), (1161, 0.0026603471873686366), (2323, 0.0026595572228049406), (2031, 0.0026594335431701617), (1366, 0.0026584379498279295), (4350, 0.0026563732752251015), (3318, 0.002656147221636331), (581, 0.002655833373206544), (1690, 0.002655259149599784), (4712, 0.0026548854610555584), (2741, 0.002653559792728979), (1080, 0.0026530998560819435), (3336, 0.0026526457662086863), (3974, 0.0026525872928643596), (4074, 0.0026522073982815013), (2457, 0.0026510628573813257), (4475, 0.002650199598041915), (1625, 0.0026500932447598704), (1739, 0.002649907221170762), (2248, 0.002649529816328892), (161, 0.002649033409358454), (3863, 0.0026482839265157742), (722, 0.0026481136712306385), (2065, 0.0026477593913537428), (4304, 0.0026450702118269963), (2591, 0.0026440260660539894), (1219, 0.002643880327425613), (885, 0.00264343517822588), (1980, 0.0026433638422032105), (1808, 0.0026430775520151256), (4080, 0.0026424762081739637), (1004, 0.0026415639208673277), (3801, 0.0026404211333248603), (3167, 0.0026393070461227922), (917, 0.0026379514856043713), (3111, 0.00263773399318113), (3795, 0.0026362876775445168), (3556, 0.0026351176028295066), (594, 0.002634192591608022), (1921, 0.002633849262604826), (4205, 0.002632373724017187), (2580, 0.002631885695617423), (856, 0.0026306513588138063), (2163, 0.0026296773154655183), (268, 0.0026285477042890183), (2213, 0.002628133567969994), (1539, 0.0026279179875514694), (3956, 0.0026267676872657347), (2264, 0.0026182585262247986), (3360, 0.002617853513358829), (3380, 0.0026161567774066518), (1423, 0.0026155492996396174), (1009, 0.002614473782035954), (132, 0.0026128359985084773), (4661, 0.0026123772752439096), (4104, 0.0026123004365791844), (1830, 0.0026113423893537307), (1394, 0.002611091280224064), (1290, 0.0026109491496128638), (1954, 0.002610644484402597), (705, 0.0026090935155260097), (1251, 0.002607898729007475), (4343, 0.002606782349129979), (495, 0.002606622315393167), (3755, 0.0026046523635684994), (33, 0.002604508669284949), (712, 0.002603767265585237), (166, 0.0026027702818888893), (519, 0.00260215716046837), (1553, 0.002601014767887401), (2502, 0.00260022264339867), (4220, 0.00259988452241511), (2617, 0.0025983544530021416), (2753, 0.00259630872277431), (1776, 0.002595480779853658), (184, 0.0025951916631183733), (92, 0.0025935864656503474), (605, 0.002593230156038424), (3, 0.0025908441288846474), (2975, 0.0025891656067477662), (4066, 0.0025881410566388654), (3910, 0.0025873888361751356), (97, 0.002586304976104783), (480, 0.0025860978391916757), (2237, 0.002586057361701321), (647, 0.0025858123364196433), (3894, 0.0025846941672486167), (32, 0.00258445388071494), (1136, 0.002583701418081134), (851, 0.0025817901438640444), (3637, 0.002577315530762641), (3880, 0.0025711970627987756), (4296, 0.002567073067809558), (4473, 0.002566755214231335), (4232, 0.002562115452502939), (2721, 0.0025608021837546817), (2692, 0.002559182443926289), (2412, 0.002559001962197288), (4429, 0.0025588699635918978), (1217, 0.002558585915611526), (2520, 0.002554811121583822), (2747, 0.002553658207704432), (103, 0.0025526349284305055), (2942, 0.0025502147266550173), (1397, 0.0025485716867529023), (165, 0.0025476775996319083), (2270, 0.0025463704052982776), (642, 0.002545621709861899), (357, 0.0025431866455662543), (4386, 0.002541769866904282), (874, 0.0025415308767663155), (1370, 0.0025411500963043823), (278, 0.002538252832042621), (861, 0.00253784533946789), (2761, 0.0025361235410853965), (3629, 0.0025310329023434754), (269, 0.002528834312883068), (2611, 0.002528370460960659), (3569, 0.0025267902688272488), (4411, 0.0025248085514586053), (2382, 0.0025245757378082804), (1763, 0.002523760137130787), (445, 0.002522945825098739), (1215, 0.002522632854167073), (4476, 0.002521861845424443), (2070, 0.0025208136253406102), (1088, 0.0025193211442987346), (1627, 0.0025192274227366657), (1565, 0.002519093383286991), (2146, 0.0025185976444452585), (3376, 0.002516634244322527), (496, 0.0025161089556975822), (3579, 0.002515608112278719), (1691, 0.002514660942312305), (1743, 0.002508564232413751), (432, 0.0025071720280681773), (1352, 0.0025034015198137152), (3065, 0.002503275145458559), (1340, 0.002502828098642406), (2933, 0.0025027994275290165), (4095, 0.002501100391754813), (2771, 0.0025007238838880056), (1202, 0.002499819779604789), (1971, 0.0024979794323251817), (403, 0.0024979572006068227), (3669, 0.0024975532192380192), (267, 0.002497520474989992), (2035, 0.002496670690577571), (3668, 0.002494509889266074), (1845, 0.0024922264123271227), (1365, 0.0024886795943187324), (175, 0.00248856696444313), (951, 0.002487929305650216), (3657, 0.002487036320127988), (4636, 0.002485310031757781), (547, 0.0024847503948356884), (707, 0.00247883309318751), (195, 0.002477155470941148), (196, 0.0024754118486735887), (2603, 0.0024752283777451627), (1801, 0.0024750288977571696), (4610, 0.002473427780347217), (566, 0.0024725245693634646), (3821, 0.002471593304963447), (2132, 0.002462124614359078), (3928, 0.0024617739485323325), (2876, 0.0024613938485361798), (1367, 0.0024611202659501853), (4733, 0.002459045616526147), (2287, 0.0024587578298897665), (2985, 0.002458232900315617), (16, 0.0024563937168897024), (616, 0.002455970547373006), (1209, 0.002455915061678472), (3252, 0.0024557091722200784), (1078, 0.0024543167171018642), (44, 0.0024532716086371766), (3927, 0.002453037555284485), (796, 0.002446768219962209), (2602, 0.002445377275460457), (2969, 0.0024443135234607344), (442, 0.0024436780430504776), (3024, 0.0024379533441750544), (1305, 0.0024364246440506145), (441, 0.002435401892558533), (149, 0.0024336969780405036), (2034, 0.0024280586535193904), (3548, 0.002423564521585252), (2509, 0.00242188057321632), (1427, 0.002415874366995013), (1415, 0.002414605965564142), (1464, 0.002414116746782571), (2697, 0.0024126938703177415), (1369, 0.0024121359072914513), (2526, 0.002411315733856066), (412, 0.0024077261694554685), (1950, 0.002407262130256471), (645, 0.0024070415965369092), (1098, 0.0024032090400299168), (1624, 0.0023982176057473787), (1037, 0.002397380400828378), (942, 0.0023959156216210283), (3875, 0.0023954387083299127), (4311, 0.0023943816522707384), (156, 0.002394119146286913), (4744, 0.0023891010001054315), (1317, 0.0023878391292423396), (691, 0.002381930095045772), (3575, 0.0023809195273387495), (1377, 0.002377357190373261), (3410, 0.0023715779909570223), (1989, 0.0023670935165263415), (3431, 0.0023666303261076116), (2925, 0.0023662367096493647), (407, 0.0023646760617929133), (510, 0.0023557522573408414), (1144, 0.0023496466754238405), (309, 0.002344063398027662), (3471, 0.0023432716083383316), (1886, 0.0023424404001749087), (706, 0.002340801907839196), (2766, 0.0023384833767433194), (3362, 0.002333695872850622), (527, 0.0023331368919948504), (2010, 0.0023273888174721335), (4598, 0.0023121072413387752), (3301, 0.002307846896906391), (1040, 0.00230183275449516), (1417, 0.002300512216555316), (3152, 0.0022997922766125754), (1747, 0.002293531690685653), (3199, 0.0022822340871633392), (853, 0.0022786509042483716), (3316, 0.0022670199245293553), (1403, 0.002264319806719684), (2760, 0.002262037887449137), (271, 0.0022586174563798017), (224, 0.00225484371762234), (1005, 0.0022526288358035162), (351, 0.002248476071127492), (82, 0.002236437197727791), (1861, 0.0022338959130789224), (3645, 0.0022213779248192495), (452, 0.0022196831037102327), (3285, 0.0022155758486367494), (4445, 0.002212436527170495), (3983, 0.002207887876496063), (2550, 0.002203801402941517), (256, 0.002201757649594086), (1648, 0.00220087997720718), (3546, 0.0021987827247482114), (4301, 0.002186537617827638), (684, 0.002162560974810137), (641, 0.002110432194439421), (293, 0.0020954867457751284), (4171, 0.0020828518480493384), (831, 0.002080546358782318), (243, 0.00207486729913038), (940, 0.002062566442003194), (129, 0.0020579778822336857), (3458, 0.002019091061248452), (858, 0.001989893351820276), (3328, 0.0019371059829364958), (202, 0.0019338236742796), (1780, 0.001922519993396631), (3608, 0.0019196101251617922), (787, 0.0018026718621075724), (2538, 0.0017633564832878962), (2534, 0.0013146836687585976), (475, 0.0010302850731796446), (2, 0.0), (9, 0.0), (10, 0.0), (13, 0.0), (14, 0.0), (36, 0.0), (42, 0.0), (47, 0.0), (54, 0.0), (57, 0.0), (58, 0.0), (70, 0.0), (83, 0.0), (88, 0.0), (99, 0.0), (100, 0.0), (101, 0.0), (110, 0.0), (117, 0.0), (122, 0.0), (125, 0.0), (130, 0.0), (133, 0.0), (134, 0.0), (137, 0.0), (141, 0.0), (143, 0.0), (146, 0.0), (148, 0.0), (153, 0.0), (155, 0.0), (162, 0.0), (177, 0.0), (179, 0.0), (180, 0.0), (181, 0.0), (186, 0.0), (188, 0.0), (205, 0.0), (207, 0.0), (237, 0.0), (239, 0.0), (241, 0.0), (265, 0.0), (275, 0.0), (277, 0.0), (288, 0.0), (289, 0.0), (290, 0.0), (297, 0.0), (299, 0.0), (300, 0.0), (302, 0.0), (310, 0.0), (312, 0.0), (313, 0.0), (323, 0.0), (328, 0.0), (331, 0.0), (335, 0.0), (337, 0.0), (338, 0.0), (339, 0.0), (340, 0.0), (362, 0.0), (365, 0.0), (366, 0.0), (382, 0.0), (383, 0.0), (384, 0.0), (385, 0.0), (386, 0.0), (398, 0.0), (401, 0.0), (411, 0.0), (414, 0.0), (418, 0.0), (422, 0.0), (424, 0.0), (426, 0.0), (435, 0.0), (454, 0.0), (459, 0.0), (461, 0.0), (462, 0.0), (467, 0.0), (468, 0.0), (469, 0.0), (474, 0.0), (484, 0.0), (486, 0.0), (494, 0.0), (498, 0.0), (501, 0.0), (503, 0.0), (506, 0.0), (514, 0.0), (520, 0.0), (521, 0.0), (525, 0.0), (528, 0.0), (529, 0.0), (531, 0.0), (532, 0.0), (536, 0.0), (538, 0.0), (539, 0.0), (540, 0.0), (549, 0.0), (556, 0.0), (557, 0.0), (559, 0.0), (573, 0.0), (574, 0.0), (575, 0.0), (582, 0.0), (586, 0.0), (615, 0.0), (621, 0.0), (630, 0.0), (632, 0.0), (634, 0.0), (635, 0.0), (639, 0.0), (640, 0.0), (650, 0.0), (658, 0.0), (662, 0.0), (664, 0.0), (665, 0.0), (667, 0.0), (668, 0.0), (671, 0.0), (677, 0.0), (679, 0.0), (682, 0.0), (690, 0.0), (692, 0.0), (699, 0.0), (700, 0.0), (704, 0.0), (708, 0.0), (709, 0.0), (711, 0.0), (718, 0.0), (720, 0.0), (723, 0.0), (724, 0.0), (725, 0.0), (741, 0.0), (753, 0.0), (754, 0.0), (758, 0.0), (764, 0.0), (771, 0.0), (775, 0.0), (781, 0.0), (784, 0.0), (785, 0.0), (786, 0.0), (793, 0.0), (795, 0.0), (797, 0.0), (807, 0.0), (814, 0.0), (819, 0.0), (821, 0.0), (822, 0.0), (827, 0.0), (836, 0.0), (839, 0.0), (840, 0.0), (849, 0.0), (855, 0.0), (869, 0.0), (873, 0.0), (881, 0.0), (882, 0.0), (892, 0.0), (905, 0.0), (909, 0.0), (916, 0.0), (920, 0.0), (926, 0.0), (928, 0.0), (931, 0.0), (943, 0.0), (945, 0.0), (946, 0.0), (950, 0.0), (956, 0.0), (958, 0.0), (960, 0.0), (961, 0.0), (964, 0.0), (965, 0.0), (970, 0.0), (974, 0.0), (978, 0.0), (982, 0.0), (983, 0.0), (995, 0.0), (996, 0.0), (1008, 0.0), (1010, 0.0), (1016, 0.0), (1024, 0.0), (1025, 0.0), (1028, 0.0), (1038, 0.0), (1039, 0.0), (1045, 0.0), (1054, 0.0), (1062, 0.0), (1070, 0.0), (1073, 0.0), (1089, 0.0), (1090, 0.0), (1092, 0.0), (1093, 0.0), (1094, 0.0), (1099, 0.0), (1103, 0.0), (1104, 0.0), (1113, 0.0), (1115, 0.0), (1116, 0.0), (1125, 0.0), (1126, 0.0), (1127, 0.0), (1130, 0.0), (1133, 0.0), (1135, 0.0), (1139, 0.0), (1147, 0.0), (1152, 0.0), (1153, 0.0), (1155, 0.0), (1157, 0.0), (1158, 0.0), (1159, 0.0), (1167, 0.0), (1172, 0.0), (1173, 0.0), (1180, 0.0), (1181, 0.0), (1189, 0.0), (1190, 0.0), (1193, 0.0), (1200, 0.0), (1201, 0.0), (1207, 0.0), (1210, 0.0), (1211, 0.0), (1214, 0.0), (1222, 0.0), (1226, 0.0), (1227, 0.0), (1231, 0.0), (1235, 0.0), (1238, 0.0), (1240, 0.0), (1242, 0.0), (1253, 0.0), (1260, 0.0), (1263, 0.0), (1267, 0.0), (1268, 0.0), (1270, 0.0), (1274, 0.0), (1276, 0.0), (1278, 0.0), (1279, 0.0), (1282, 0.0), (1287, 0.0), (1289, 0.0), (1292, 0.0), (1293, 0.0), (1297, 0.0), (1309, 0.0), (1311, 0.0), (1316, 0.0), (1321, 0.0), (1322, 0.0), (1323, 0.0), (1327, 0.0), (1328, 0.0), (1329, 0.0), (1330, 0.0), (1331, 0.0), (1333, 0.0), (1336, 0.0), (1343, 0.0), (1345, 0.0), (1346, 0.0), (1353, 0.0), (1362, 0.0), (1376, 0.0), (1386, 0.0), (1389, 0.0), (1390, 0.0), (1393, 0.0), (1395, 0.0), (1399, 0.0), (1401, 0.0), (1405, 0.0), (1406, 0.0), (1407, 0.0), (1412, 0.0), (1418, 0.0), (1424, 0.0), (1428, 0.0), (1432, 0.0), (1436, 0.0), (1437, 0.0), (1441, 0.0), (1443, 0.0), (1444, 0.0), (1449, 0.0), (1451, 0.0), (1452, 0.0), (1453, 0.0), (1457, 0.0), (1459, 0.0), (1460, 0.0), (1461, 0.0), (1473, 0.0), (1482, 0.0), (1485, 0.0), (1490, 0.0), (1491, 0.0), (1492, 0.0), (1504, 0.0), (1507, 0.0), (1521, 0.0), (1523, 0.0), (1524, 0.0), (1526, 0.0), (1532, 0.0), (1540, 0.0), (1541, 0.0), (1542, 0.0), (1544, 0.0), (1549, 0.0), (1551, 0.0), (1552, 0.0), (1556, 0.0), (1557, 0.0), (1559, 0.0), (1561, 0.0), (1563, 0.0), (1564, 0.0), (1567, 0.0), (1568, 0.0), (1569, 0.0), (1573, 0.0), (1576, 0.0), (1581, 0.0), (1586, 0.0), (1587, 0.0), (1589, 0.0), (1591, 0.0), (1596, 0.0), (1600, 0.0), (1601, 0.0), (1602, 0.0), (1603, 0.0), (1604, 0.0), (1606, 0.0), (1607, 0.0), (1609, 0.0), (1610, 0.0), (1611, 0.0), (1618, 0.0), (1626, 0.0), (1635, 0.0), (1636, 0.0), (1638, 0.0), (1639, 0.0), (1640, 0.0), (1646, 0.0), (1647, 0.0), (1652, 0.0), (1654, 0.0), (1668, 0.0), (1684, 0.0), (1686, 0.0), (1692, 0.0), (1694, 0.0), (1695, 0.0), (1697, 0.0), (1699, 0.0), (1702, 0.0), (1713, 0.0), (1714, 0.0), (1715, 0.0), (1718, 0.0), (1720, 0.0), (1721, 0.0), (1723, 0.0), (1726, 0.0), (1728, 0.0), (1734, 0.0), (1735, 0.0), (1737, 0.0), (1738, 0.0), (1746, 0.0), (1749, 0.0), (1752, 0.0), (1753, 0.0), (1755, 0.0), (1757, 0.0), (1767, 0.0), (1769, 0.0), (1770, 0.0), (1773, 0.0), (1778, 0.0), (1785, 0.0), (1787, 0.0), (1788, 0.0), (1789, 0.0), (1790, 0.0), (1794, 0.0), (1795, 0.0), (1800, 0.0), (1803, 0.0), (1806, 0.0), (1809, 0.0), (1816, 0.0), (1823, 0.0), (1825, 0.0), (1834, 0.0), (1837, 0.0), (1838, 0.0), (1839, 0.0), (1842, 0.0), (1847, 0.0), (1849, 0.0), (1856, 0.0), (1863, 0.0), (1868, 0.0), (1879, 0.0), (1881, 0.0), (1883, 0.0), (1888, 0.0), (1894, 0.0), (1898, 0.0), (1899, 0.0), (1906, 0.0), (1910, 0.0), (1913, 0.0), (1914, 0.0), (1915, 0.0), (1917, 0.0), (1926, 0.0), (1930, 0.0), (1932, 0.0), (1933, 0.0), (1937, 0.0), (1938, 0.0), (1939, 0.0), (1953, 0.0), (1955, 0.0), (1956, 0.0), (1961, 0.0), (1962, 0.0), (1965, 0.0), (1972, 0.0), (1973, 0.0), (1978, 0.0), (1979, 0.0), (1981, 0.0), (1999, 0.0), (2001, 0.0), (2003, 0.0), (2005, 0.0), (2006, 0.0), (2007, 0.0), (2012, 0.0), (2015, 0.0), (2020, 0.0), (2026, 0.0), (2030, 0.0), (2032, 0.0), (2033, 0.0), (2042, 0.0), (2052, 0.0), (2054, 0.0), (2056, 0.0), (2057, 0.0), (2059, 0.0), (2063, 0.0), (2064, 0.0), (2071, 0.0), (2077, 0.0), (2079, 0.0), (2084, 0.0), (2085, 0.0), (2098, 0.0), (2100, 0.0), (2107, 0.0), (2113, 0.0), (2124, 0.0), (2138, 0.0), (2139, 0.0), (2140, 0.0), (2145, 0.0), (2147, 0.0), (2153, 0.0), (2156, 0.0), (2160, 0.0), (2161, 0.0), (2164, 0.0), (2170, 0.0), (2171, 0.0), (2172, 0.0), (2175, 0.0), (2179, 0.0), (2184, 0.0), (2186, 0.0), (2197, 0.0), (2198, 0.0), (2200, 0.0), (2202, 0.0), (2204, 0.0), (2206, 0.0), (2215, 0.0), (2219, 0.0), (2220, 0.0), (2227, 0.0), (2234, 0.0), (2238, 0.0), (2244, 0.0), (2247, 0.0), (2252, 0.0), (2253, 0.0), (2256, 0.0), (2258, 0.0), (2261, 0.0), (2262, 0.0), (2267, 0.0), (2271, 0.0), (2272, 0.0), (2274, 0.0), (2275, 0.0), (2276, 0.0), (2281, 0.0), (2282, 0.0), (2296, 0.0), (2297, 0.0), (2298, 0.0), (2300, 0.0), (2304, 0.0), (2305, 0.0), (2307, 0.0), (2311, 0.0), (2322, 0.0), (2325, 0.0), (2328, 0.0), (2329, 0.0), (2331, 0.0), (2332, 0.0), (2333, 0.0), (2335, 0.0), (2339, 0.0), (2341, 0.0), (2343, 0.0), (2345, 0.0), (2352, 0.0), (2353, 0.0), (2358, 0.0), (2360, 0.0), (2363, 0.0), (2364, 0.0), (2365, 0.0), (2366, 0.0), (2368, 0.0), (2371, 0.0), (2372, 0.0), (2373, 0.0), (2380, 0.0), (2383, 0.0), (2389, 0.0), (2395, 0.0), (2408, 0.0), (2409, 0.0), (2420, 0.0), (2424, 0.0), (2426, 0.0), (2429, 0.0), (2431, 0.0), (2433, 0.0), (2435, 0.0), (2444, 0.0), (2445, 0.0), (2449, 0.0), (2452, 0.0), (2455, 0.0), (2458, 0.0), (2460, 0.0), (2468, 0.0), (2470, 0.0), (2476, 0.0), (2480, 0.0), (2483, 0.0), (2485, 0.0), (2491, 0.0), (2497, 0.0), (2498, 0.0), (2499, 0.0), (2506, 0.0), (2508, 0.0), (2510, 0.0), (2511, 0.0), (2514, 0.0), (2515, 0.0), (2516, 0.0), (2519, 0.0), (2523, 0.0), (2532, 0.0), (2536, 0.0), (2541, 0.0), (2543, 0.0), (2547, 0.0), (2562, 0.0), (2564, 0.0), (2567, 0.0), (2576, 0.0), (2577, 0.0), (2583, 0.0), (2584, 0.0), (2586, 0.0), (2589, 0.0), (2590, 0.0), (2597, 0.0), (2600, 0.0), (2620, 0.0), (2631, 0.0), (2639, 0.0), (2641, 0.0), (2646, 0.0), (2648, 0.0), (2654, 0.0), (2656, 0.0), (2657, 0.0), (2658, 0.0), (2659, 0.0), (2662, 0.0), (2663, 0.0), (2667, 0.0), (2670, 0.0), (2672, 0.0), (2676, 0.0), (2681, 0.0), (2688, 0.0), (2690, 0.0), (2693, 0.0), (2700, 0.0), (2701, 0.0), (2703, 0.0), (2704, 0.0), (2709, 0.0), (2710, 0.0), (2717, 0.0), (2718, 0.0), (2719, 0.0), (2726, 0.0), (2727, 0.0), (2734, 0.0), (2737, 0.0), (2750, 0.0), (2751, 0.0), (2754, 0.0), (2759, 0.0), (2762, 0.0), (2763, 0.0), (2774, 0.0), (2787, 0.0), (2788, 0.0), (2793, 0.0), (2801, 0.0), (2805, 0.0), (2806, 0.0), (2807, 0.0), (2811, 0.0), (2813, 0.0), (2815, 0.0), (2816, 0.0), (2818, 0.0), (2819, 0.0), (2820, 0.0), (2823, 0.0), (2825, 0.0), (2829, 0.0), (2833, 0.0), (2835, 0.0), (2836, 0.0), (2851, 0.0), (2852, 0.0), (2855, 0.0), (2856, 0.0), (2864, 0.0), (2866, 0.0), (2867, 0.0), (2871, 0.0), (2875, 0.0), (2880, 0.0), (2885, 0.0), (2891, 0.0), (2896, 0.0), (2897, 0.0), (2913, 0.0), (2921, 0.0), (2922, 0.0), (2928, 0.0), (2930, 0.0), (2935, 0.0), (2938, 0.0), (2947, 0.0), (2948, 0.0), (2952, 0.0), (2956, 0.0), (2958, 0.0), (2963, 0.0), (2967, 0.0), (2968, 0.0), (2971, 0.0), (2978, 0.0), (2983, 0.0), (2991, 0.0), (2994, 0.0), (3005, 0.0), (3006, 0.0), (3009, 0.0), (3017, 0.0), (3033, 0.0), (3034, 0.0), (3038, 0.0), (3039, 0.0), (3041, 0.0), (3053, 0.0), (3054, 0.0), (3058, 0.0), (3060, 0.0), (3066, 0.0), (3070, 0.0), (3077, 0.0), (3082, 0.0), (3085, 0.0), (3087, 0.0), (3088, 0.0), (3090, 0.0), (3092, 0.0), (3102, 0.0), (3103, 0.0), (3104, 0.0), (3107, 0.0), (3117, 0.0), (3121, 0.0), (3124, 0.0), (3126, 0.0), (3135, 0.0), (3138, 0.0), (3142, 0.0), (3144, 0.0), (3145, 0.0), (3149, 0.0), (3161, 0.0), (3162, 0.0), (3163, 0.0), (3164, 0.0), (3168, 0.0), (3172, 0.0), (3175, 0.0), (3176, 0.0), (3177, 0.0), (3179, 0.0), (3197, 0.0), (3204, 0.0), (3208, 0.0), (3209, 0.0), (3213, 0.0), (3215, 0.0), (3217, 0.0), (3222, 0.0), (3229, 0.0), (3244, 0.0), (3250, 0.0), (3251, 0.0), (3253, 0.0), (3255, 0.0), (3259, 0.0), (3261, 0.0), (3265, 0.0), (3266, 0.0), (3272, 0.0), (3279, 0.0), (3280, 0.0), (3286, 0.0), (3288, 0.0), (3295, 0.0), (3309, 0.0), (3312, 0.0), (3319, 0.0), (3320, 0.0), (3321, 0.0), (3324, 0.0), (3333, 0.0), (3334, 0.0), (3339, 0.0), (3343, 0.0), (3345, 0.0), (3356, 0.0), (3366, 0.0), (3371, 0.0), (3375, 0.0), (3383, 0.0), (3387, 0.0), (3394, 0.0), (3404, 0.0), (3411, 0.0), (3416, 0.0), (3420, 0.0), (3422, 0.0), (3424, 0.0), (3439, 0.0), (3442, 0.0), (3443, 0.0), (3448, 0.0), (3451, 0.0), (3454, 0.0), (3457, 0.0), (3459, 0.0), (3461, 0.0), (3464, 0.0), (3465, 0.0), (3466, 0.0), (3476, 0.0), (3481, 0.0), (3482, 0.0), (3489, 0.0), (3494, 0.0), (3495, 0.0), (3507, 0.0), (3508, 0.0), (3509, 0.0), (3510, 0.0), (3519, 0.0), (3525, 0.0), (3529, 0.0), (3530, 0.0), (3533, 0.0), (3535, 0.0), (3539, 0.0), (3545, 0.0), (3547, 0.0), (3549, 0.0), (3554, 0.0), (3555, 0.0), (3562, 0.0), (3566, 0.0), (3567, 0.0), (3570, 0.0), (3572, 0.0), (3573, 0.0), (3578, 0.0), (3580, 0.0), (3581, 0.0), (3582, 0.0), (3583, 0.0), (3585, 0.0), (3589, 0.0), (3591, 0.0), (3592, 0.0), (3597, 0.0), (3598, 0.0), (3600, 0.0), (3603, 0.0), (3607, 0.0), (3609, 0.0), (3610, 0.0), (3617, 0.0), (3622, 0.0), (3628, 0.0), (3630, 0.0), (3632, 0.0), (3648, 0.0), (3649, 0.0), (3652, 0.0), (3658, 0.0), (3662, 0.0), (3663, 0.0), (3664, 0.0), (3671, 0.0), (3674, 0.0), (3676, 0.0), (3679, 0.0), (3681, 0.0), (3682, 0.0), (3686, 0.0), (3697, 0.0), (3698, 0.0), (3703, 0.0), (3708, 0.0), (3710, 0.0), (3715, 0.0), (3716, 0.0), (3717, 0.0), (3722, 0.0), (3723, 0.0), (3726, 0.0), (3731, 0.0), (3735, 0.0), (3736, 0.0), (3738, 0.0), (3746, 0.0), (3752, 0.0), (3758, 0.0), (3760, 0.0), (3761, 0.0), (3764, 0.0), (3768, 0.0), (3774, 0.0), (3776, 0.0), (3782, 0.0), (3785, 0.0), (3786, 0.0), (3789, 0.0), (3791, 0.0), (3794, 0.0), (3800, 0.0), (3803, 0.0), (3805, 0.0), (3808, 0.0), (3812, 0.0), (3815, 0.0), (3816, 0.0), (3818, 0.0), (3825, 0.0), (3830, 0.0), (3831, 0.0), (3833, 0.0), (3837, 0.0), (3838, 0.0), (3842, 0.0), (3843, 0.0), (3846, 0.0), (3847, 0.0), (3849, 0.0), (3851, 0.0), (3852, 0.0), (3856, 0.0), (3858, 0.0), (3860, 0.0), (3861, 0.0), (3864, 0.0), (3872, 0.0), (3879, 0.0), (3885, 0.0), (3887, 0.0), (3896, 0.0), (3905, 0.0), (3909, 0.0), (3912, 0.0), (3914, 0.0), (3918, 0.0), (3921, 0.0), (3926, 0.0), (3929, 0.0), (3931, 0.0), (3934, 0.0), (3936, 0.0), (3943, 0.0), (3944, 0.0), (3946, 0.0), (3948, 0.0), (3958, 0.0), (3964, 0.0), (3969, 0.0), (3970, 0.0), (3976, 0.0), (3979, 0.0), (3981, 0.0), (3985, 0.0), (3988, 0.0), (3991, 0.0), (3993, 0.0), (3995, 0.0), (3996, 0.0), (4006, 0.0), (4007, 0.0), (4008, 0.0), (4009, 0.0), (4012, 0.0), (4021, 0.0), (4022, 0.0), (4026, 0.0), (4027, 0.0), (4028, 0.0), (4031, 0.0), (4034, 0.0), (4035, 0.0), (4037, 0.0), (4039, 0.0), (4040, 0.0), (4044, 0.0), (4045, 0.0), (4047, 0.0), (4050, 0.0), (4055, 0.0), (4064, 0.0), (4065, 0.0), (4072, 0.0), (4073, 0.0), (4084, 0.0), (4086, 0.0), (4090, 0.0), (4093, 0.0), (4094, 0.0), (4096, 0.0), (4097, 0.0), (4103, 0.0), (4105, 0.0), (4108, 0.0), (4109, 0.0), (4110, 0.0), (4112, 0.0), (4114, 0.0), (4120, 0.0), (4122, 0.0), (4125, 0.0), (4127, 0.0), (4131, 0.0), (4134, 0.0), (4144, 0.0), (4146, 0.0), (4148, 0.0), (4149, 0.0), (4157, 0.0), (4158, 0.0), (4162, 0.0), (4164, 0.0), (4167, 0.0), (4170, 0.0), (4177, 0.0), (4179, 0.0), (4180, 0.0), (4188, 0.0), (4190, 0.0), (4191, 0.0), (4193, 0.0), (4195, 0.0), (4196, 0.0), (4198, 0.0), (4199, 0.0), (4204, 0.0), (4207, 0.0), (4208, 0.0), (4210, 0.0), (4211, 0.0), (4212, 0.0), (4214, 0.0), (4215, 0.0), (4217, 0.0), (4218, 0.0), (4223, 0.0), (4226, 0.0), (4229, 0.0), (4233, 0.0), (4234, 0.0), (4235, 0.0), (4236, 0.0), (4237, 0.0), (4239, 0.0), (4241, 0.0), (4251, 0.0), (4252, 0.0), (4258, 0.0), (4260, 0.0), (4270, 0.0), (4272, 0.0), (4279, 0.0), (4289, 0.0), (4290, 0.0), (4291, 0.0), (4294, 0.0), (4297, 0.0), (4300, 0.0), (4303, 0.0), (4307, 0.0), (4310, 0.0), (4314, 0.0), (4315, 0.0), (4317, 0.0), (4319, 0.0), (4323, 0.0), (4325, 0.0), (4327, 0.0), (4332, 0.0), (4335, 0.0), (4337, 0.0), (4338, 0.0), (4342, 0.0), (4347, 0.0), (4351, 0.0), (4352, 0.0), (4358, 0.0), (4360, 0.0), (4367, 0.0), (4372, 0.0), (4384, 0.0), (4385, 0.0), (4389, 0.0), (4390, 0.0), (4393, 0.0), (4404, 0.0), (4405, 0.0), (4410, 0.0), (4417, 0.0), (4421, 0.0), (4424, 0.0), (4425, 0.0), (4426, 0.0), (4433, 0.0), (4434, 0.0), (4437, 0.0), (4438, 0.0), (4439, 0.0), (4449, 0.0), (4451, 0.0), (4452, 0.0), (4455, 0.0), (4456, 0.0), (4457, 0.0), (4460, 0.0), (4462, 0.0), (4478, 0.0), (4481, 0.0), (4483, 0.0), (4485, 0.0), (4488, 0.0), (4491, 0.0), (4496, 0.0), (4498, 0.0), (4506, 0.0), (4508, 0.0), (4509, 0.0), (4510, 0.0), (4512, 0.0), (4513, 0.0), (4515, 0.0), (4519, 0.0), (4524, 0.0), (4532, 0.0), (4534, 0.0), (4537, 0.0), (4538, 0.0), (4539, 0.0), (4541, 0.0), (4542, 0.0), (4543, 0.0), (4548, 0.0), (4552, 0.0), (4556, 0.0), (4559, 0.0), (4560, 0.0), (4561, 0.0), (4562, 0.0), (4564, 0.0), (4568, 0.0), (4569, 0.0), (4570, 0.0), (4578, 0.0), (4582, 0.0), (4583, 0.0), (4585, 0.0), (4592, 0.0), (4597, 0.0), (4600, 0.0), (4618, 0.0), (4623, 0.0), (4635, 0.0), (4644, 0.0), (4645, 0.0), (4647, 0.0), (4648, 0.0), (4651, 0.0), (4653, 0.0), (4654, 0.0), (4655, 0.0), (4665, 0.0), (4666, 0.0), (4667, 0.0), (4671, 0.0), (4672, 0.0), (4681, 0.0), (4682, 0.0), (4684, 0.0), (4689, 0.0), (4690, 0.0), (4695, 0.0), (4698, 0.0), (4700, 0.0), (4702, 0.0), (4703, 0.0), (4707, 0.0), (4709, 0.0), (4711, 0.0), (4716, 0.0), (4720, 0.0), (4726, 0.0), (4727, 0.0), (4728, 0.0), (4737, 0.0), (4738, 0.0), (4740, 0.0), (4741, 0.0), (4742, 0.0), (4745, 0.0), (4746, 0.0), (4750, 0.0), (4751, 0.0), (4754, 0.0), (4755, 0.0), (4758, 0.0), (4759, 0.0)]\n"
          ]
        }
      ]
    },
    {
      "cell_type": "code",
      "source": [
        "print(\"Top 20 Movies Suggesed for you : \\n\")\n",
        "i = 1\n",
        "for Movie in Similar_Movies:\n",
        "  index = Movie[0]\n",
        "  title_from_index = data[data.index==index]['Movie_Title'].values[0]\n",
        "  if i<21 :\n",
        "    print(i, '.',title_from_index)\n",
        "    i+=1"
      ],
      "metadata": {
        "colab": {
          "base_uri": "https://localhost:8080/"
        },
        "id": "ZuO1sr330opW",
        "outputId": "78c5bb93-7ec8-4561-958d-4446fb747be8"
      },
      "execution_count": 30,
      "outputs": [
        {
          "output_type": "stream",
          "name": "stdout",
          "text": [
            "Top 20 Movies Suggesed for you : \n",
            "\n",
            "1 . Atlas Shrugged Part III: Who is John Galt?\n",
            "2 . Atlas Shrugged Part II\n",
            "3 . Memoirs of an Invisible Man\n",
            "4 . The Emperor's Club\n",
            "5 . The Helix... Loaded\n",
            "6 . Harper\n",
            "7 . The 41–Year–Old Virgin Who Knocked Up Sarah Marshall and Felt Superbad About It\n",
            "8 . Memento\n",
            "9 . The World's End\n",
            "10 . The Astronaut's Wife\n",
            "11 . The Raven\n",
            "12 . Small Apartments\n",
            "13 . Garfield\n",
            "14 . The X Files\n",
            "15 . Pandaemonium\n",
            "16 . Spaceballs\n",
            "17 . Bloody Sunday\n",
            "18 . Buried\n",
            "19 . Takers\n",
            "20 . Big Mommas: Like Father, Like Son\n"
          ]
        }
      ]
    },
    {
      "cell_type": "code",
      "source": [
        "movie_name = input(\"Enter your favourite movie : \")\n",
        "\n",
        "titles = data['Movie_Title'].tolist()\n",
        "\n",
        "close_match = lib.get_close_matches(movie_name, titles)\n",
        "\n",
        "matches = close_match[0]\n",
        "\n",
        "movie_index = data[data.Movie_Title == matches]['Movie_ID'].values[0]\n",
        "\n",
        "Recommendation_Score = list(enumerate(similarity_score[movie_index]))\n",
        "\n",
        "similar_movies = sorted(Recommendation_Score, key = lambda x:x[1], reverse = True)\n",
        "\n",
        "print(\"Top 10 Movies Suggesed for you : \\n\")\n",
        "\n",
        "i = 1\n",
        "\n",
        "for Movie in Similar_Movies:\n",
        "  index = Movie[0]\n",
        "  title_from_index = data[data.index==index]['Movie_Title'].values[0]\n",
        "\n",
        "  if i<11 :\n",
        "    print(i, '.',title_from_index)\n",
        "    i+=1"
      ],
      "metadata": {
        "colab": {
          "base_uri": "https://localhost:8080/"
        },
        "id": "M0ED9y7K0uAi",
        "outputId": "95ef8b72-3d2f-4c54-fc5e-a60e0d1fa0ba"
      },
      "execution_count": 31,
      "outputs": [
        {
          "output_type": "stream",
          "name": "stdout",
          "text": [
            "Enter your favourite movie : ironman\n",
            "Top 10 Movies Suggesed for you : \n",
            "\n",
            "1 . Atlas Shrugged Part III: Who is John Galt?\n",
            "2 . Atlas Shrugged Part II\n",
            "3 . Memoirs of an Invisible Man\n",
            "4 . The Emperor's Club\n",
            "5 . The Helix... Loaded\n",
            "6 . Harper\n",
            "7 . The 41–Year–Old Virgin Who Knocked Up Sarah Marshall and Felt Superbad About It\n",
            "8 . Memento\n",
            "9 . The World's End\n",
            "10 . The Astronaut's Wife\n"
          ]
        }
      ]
    },
    {
      "cell_type": "code",
      "source": [],
      "metadata": {
        "id": "EhVns2z12-kz"
      },
      "execution_count": 31,
      "outputs": []
    }
  ]
}